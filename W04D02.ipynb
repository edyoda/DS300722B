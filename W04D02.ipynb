{
 "cells": [
  {
   "cell_type": "markdown",
   "id": "7de8d2a6",
   "metadata": {},
   "source": [
    "# Function Practice"
   ]
  },
  {
   "cell_type": "code",
   "execution_count": null,
   "id": "7b50d110",
   "metadata": {},
   "outputs": [],
   "source": [
    "Q1) PANGRAMS: Sentences where all the character of english alphabet occur atleast once\n",
    "Q2) Factorial: Write a program to calculate factorial of a number using recursion\n"
   ]
  },
  {
   "cell_type": "code",
   "execution_count": 2,
   "id": "4ad87df1",
   "metadata": {},
   "outputs": [],
   "source": [
    "\n",
    "def isPangram(given_str):\n",
    "    alphabet='abcdefghijklmnopqrstuvwxyz'\n",
    "    for i in alphabet:\n",
    "        if i not in given_str.lower():\n",
    "            return False\n",
    "    return True"
   ]
  },
  {
   "cell_type": "code",
   "execution_count": 5,
   "id": "24531294",
   "metadata": {},
   "outputs": [
    {
     "data": {
      "text/plain": [
       "False"
      ]
     },
     "execution_count": 5,
     "metadata": {},
     "output_type": "execute_result"
    }
   ],
   "source": [
    "given_str = \"Quick Brown Fox Jumps Over Lazy Dog\"\n",
    "isPangram(given_str)"
   ]
  },
  {
   "cell_type": "code",
   "execution_count": 20,
   "id": "7216ed75",
   "metadata": {},
   "outputs": [],
   "source": [
    "def fact(n):\n",
    "    if n==0 or n==1:\n",
    "        return 1\n",
    "    if n>1:\n",
    "        return n* fact(n-1)\n",
    "    \n",
    "    print(\"Negative number\")\n",
    "    "
   ]
  },
  {
   "cell_type": "code",
   "execution_count": 21,
   "id": "cfde6e4e",
   "metadata": {},
   "outputs": [
    {
     "name": "stdout",
     "output_type": "stream",
     "text": [
      "Negative number\n"
     ]
    }
   ],
   "source": [
    "my_factorial = fact(-5)"
   ]
  },
  {
   "cell_type": "code",
   "execution_count": 9,
   "id": "248a2b4f",
   "metadata": {},
   "outputs": [
    {
     "data": {
      "text/plain": [
       "120"
      ]
     },
     "execution_count": 9,
     "metadata": {},
     "output_type": "execute_result"
    }
   ],
   "source": [
    "my_factorial"
   ]
  },
  {
   "cell_type": "code",
   "execution_count": 10,
   "id": "ec7640be",
   "metadata": {},
   "outputs": [],
   "source": [
    "negative_num_factorial = fact(-5)"
   ]
  },
  {
   "cell_type": "code",
   "execution_count": 12,
   "id": "75c9e926",
   "metadata": {},
   "outputs": [
    {
     "name": "stdout",
     "output_type": "stream",
     "text": [
      "None\n"
     ]
    }
   ],
   "source": [
    "print(negative_num_factorial)"
   ]
  },
  {
   "cell_type": "code",
   "execution_count": 13,
   "id": "9f366ff5",
   "metadata": {},
   "outputs": [],
   "source": [
    "def understand_print(msg):\n",
    "    \"\"\"\n",
    "    different logics\n",
    "    \n",
    "    \"\"\"\n",
    "    \n",
    "    return msg"
   ]
  },
  {
   "cell_type": "code",
   "execution_count": 15,
   "id": "a45e495f",
   "metadata": {},
   "outputs": [
    {
     "name": "stdout",
     "output_type": "stream",
     "text": [
      "Hi THis is print\n"
     ]
    }
   ],
   "source": [
    "sample_var = understand_print(\"Hi THis is print\")"
   ]
  },
  {
   "cell_type": "code",
   "execution_count": 17,
   "id": "cd22568a",
   "metadata": {},
   "outputs": [
    {
     "name": "stdout",
     "output_type": "stream",
     "text": [
      "None\n"
     ]
    }
   ],
   "source": [
    "print(sample_var)"
   ]
  },
  {
   "cell_type": "code",
   "execution_count": 18,
   "id": "8649c796",
   "metadata": {},
   "outputs": [],
   "source": [
    "my_list = [1,2,3,4,5,6]\n",
    "sorted_list = sorted(my_list,reverse=True)"
   ]
  },
  {
   "cell_type": "code",
   "execution_count": 19,
   "id": "4c94ce15",
   "metadata": {},
   "outputs": [
    {
     "name": "stdout",
     "output_type": "stream",
     "text": [
      "[6, 5, 4, 3, 2, 1]\n"
     ]
    }
   ],
   "source": [
    "print(sorted_list)"
   ]
  },
  {
   "cell_type": "code",
   "execution_count": 28,
   "id": "3fa87e31",
   "metadata": {},
   "outputs": [
    {
     "name": "stdout",
     "output_type": "stream",
     "text": [
      "['a', 'b', 'c', 'd', 'e', 'f', 'g', 'h', 'i', 'j', 'k', 'l', 'm', 'n', 'o', 'p', 'q', 'r', 's', 't', 'u', 'v', 'w', 'x', 'y', 'z']\n"
     ]
    }
   ],
   "source": [
    "alphabet='abcdefghijklmnopqrstuvwxyz'\n",
    "print([ch for ch in alphabet])"
   ]
  },
  {
   "cell_type": "code",
   "execution_count": 44,
   "id": "f08ea5f0",
   "metadata": {},
   "outputs": [],
   "source": [
    "def isPangram(given_string):\n",
    "    chr=['a', 'b', 'c', 'd', 'e', 'f', 'g', 'h', 'i', 'j', 'k', 'l', 'm', 'n', 'o', 'p', 'q', 'r', 's', 't', 'u', 'v', 'w', 'x', 'y', 'z']\n",
    "    given_string = given_string.lower()\n",
    "    for i in chr:\n",
    "        if i not in given_string:\n",
    "            return False\n",
    "    \n",
    "    return True\n"
   ]
  },
  {
   "cell_type": "code",
   "execution_count": 47,
   "id": "5bed403a",
   "metadata": {},
   "outputs": [],
   "source": [
    "given_string = \"The Quick Brown Fox Jumps Over  Lazy Dog\"\n"
   ]
  },
  {
   "cell_type": "code",
   "execution_count": 48,
   "id": "0800eb15",
   "metadata": {},
   "outputs": [
    {
     "data": {
      "text/plain": [
       "True"
      ]
     },
     "execution_count": 48,
     "metadata": {},
     "output_type": "execute_result"
    }
   ],
   "source": [
    "isPangram(given_string)"
   ]
  },
  {
   "cell_type": "code",
   "execution_count": 41,
   "id": "f452eec5",
   "metadata": {},
   "outputs": [
    {
     "data": {
      "text/plain": [
       "' quick brown fox jumps over  lazy dog'"
      ]
     },
     "execution_count": 41,
     "metadata": {},
     "output_type": "execute_result"
    }
   ],
   "source": [
    "given_string.lower()"
   ]
  },
  {
   "cell_type": "code",
   "execution_count": 42,
   "id": "b08251dd",
   "metadata": {},
   "outputs": [
    {
     "data": {
      "text/plain": [
       "' Quick Brown Fox Jumps Over  Lazy Dog'"
      ]
     },
     "execution_count": 42,
     "metadata": {},
     "output_type": "execute_result"
    }
   ],
   "source": [
    "given_string"
   ]
  },
  {
   "cell_type": "code",
   "execution_count": 51,
   "id": "541d87f7",
   "metadata": {},
   "outputs": [],
   "source": [
    "def fact(n):\n",
    "    print(n)\n",
    "    return (n * fact(n - 1)) \n",
    " \n"
   ]
  },
  {
   "cell_type": "code",
   "execution_count": null,
   "id": "296c00c1",
   "metadata": {},
   "outputs": [],
   "source": [
    "MY = fact(5)\n"
   ]
  },
  {
   "cell_type": "code",
   "execution_count": null,
   "id": "495da049",
   "metadata": {},
   "outputs": [],
   "source": []
  }
 ],
 "metadata": {
  "kernelspec": {
   "display_name": "Python 3 (ipykernel)",
   "language": "python",
   "name": "python3"
  },
  "language_info": {
   "codemirror_mode": {
    "name": "ipython",
    "version": 3
   },
   "file_extension": ".py",
   "mimetype": "text/x-python",
   "name": "python",
   "nbconvert_exporter": "python",
   "pygments_lexer": "ipython3",
   "version": "3.10.6"
  }
 },
 "nbformat": 4,
 "nbformat_minor": 5
}
