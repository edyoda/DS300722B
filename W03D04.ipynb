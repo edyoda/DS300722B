{
 "cells": [
  {
   "cell_type": "code",
   "execution_count": 2,
   "id": "cc78d3b6",
   "metadata": {},
   "outputs": [
    {
     "name": "stdout",
     "output_type": "stream",
     "text": [
      "My\n",
      "name\n",
      "is\n",
      "Srivastava\n"
     ]
    }
   ],
   "source": [
    "# To print even length word in string\n",
    "n=\"My name is shristi Srivastava\"\n",
    "s=n.split(\" \")\n",
    "for i in s:\n",
    "    if len(i)%2==0:\n",
    "        print(i)\n"
   ]
  },
  {
   "cell_type": "code",
   "execution_count": 1,
   "id": "1e3025a1",
   "metadata": {},
   "outputs": [
    {
     "name": "stdout",
     "output_type": "stream",
     "text": [
      "Help on class set in module builtins:\n",
      "\n",
      "class set(object)\n",
      " |  set() -> new empty set object\n",
      " |  set(iterable) -> new set object\n",
      " |  \n",
      " |  Build an unordered collection of unique elements.\n",
      " |  \n",
      " |  Methods defined here:\n",
      " |  \n",
      " |  __and__(self, value, /)\n",
      " |      Return self&value.\n",
      " |  \n",
      " |  __contains__(...)\n",
      " |      x.__contains__(y) <==> y in x.\n",
      " |  \n",
      " |  __eq__(self, value, /)\n",
      " |      Return self==value.\n",
      " |  \n",
      " |  __ge__(self, value, /)\n",
      " |      Return self>=value.\n",
      " |  \n",
      " |  __getattribute__(self, name, /)\n",
      " |      Return getattr(self, name).\n",
      " |  \n",
      " |  __gt__(self, value, /)\n",
      " |      Return self>value.\n",
      " |  \n",
      " |  __iand__(self, value, /)\n",
      " |      Return self&=value.\n",
      " |  \n",
      " |  __init__(self, /, *args, **kwargs)\n",
      " |      Initialize self.  See help(type(self)) for accurate signature.\n",
      " |  \n",
      " |  __ior__(self, value, /)\n",
      " |      Return self|=value.\n",
      " |  \n",
      " |  __isub__(self, value, /)\n",
      " |      Return self-=value.\n",
      " |  \n",
      " |  __iter__(self, /)\n",
      " |      Implement iter(self).\n",
      " |  \n",
      " |  __ixor__(self, value, /)\n",
      " |      Return self^=value.\n",
      " |  \n",
      " |  __le__(self, value, /)\n",
      " |      Return self<=value.\n",
      " |  \n",
      " |  __len__(self, /)\n",
      " |      Return len(self).\n",
      " |  \n",
      " |  __lt__(self, value, /)\n",
      " |      Return self<value.\n",
      " |  \n",
      " |  __ne__(self, value, /)\n",
      " |      Return self!=value.\n",
      " |  \n",
      " |  __or__(self, value, /)\n",
      " |      Return self|value.\n",
      " |  \n",
      " |  __rand__(self, value, /)\n",
      " |      Return value&self.\n",
      " |  \n",
      " |  __reduce__(...)\n",
      " |      Return state information for pickling.\n",
      " |  \n",
      " |  __repr__(self, /)\n",
      " |      Return repr(self).\n",
      " |  \n",
      " |  __ror__(self, value, /)\n",
      " |      Return value|self.\n",
      " |  \n",
      " |  __rsub__(self, value, /)\n",
      " |      Return value-self.\n",
      " |  \n",
      " |  __rxor__(self, value, /)\n",
      " |      Return value^self.\n",
      " |  \n",
      " |  __sizeof__(...)\n",
      " |      S.__sizeof__() -> size of S in memory, in bytes\n",
      " |  \n",
      " |  __sub__(self, value, /)\n",
      " |      Return self-value.\n",
      " |  \n",
      " |  __xor__(self, value, /)\n",
      " |      Return self^value.\n",
      " |  \n",
      " |  add(...)\n",
      " |      Add an element to a set.\n",
      " |      \n",
      " |      This has no effect if the element is already present.\n",
      " |  \n",
      " |  clear(...)\n",
      " |      Remove all elements from this set.\n",
      " |  \n",
      " |  copy(...)\n",
      " |      Return a shallow copy of a set.\n",
      " |  \n",
      " |  difference(...)\n",
      " |      Return the difference of two or more sets as a new set.\n",
      " |      \n",
      " |      (i.e. all elements that are in this set but not the others.)\n",
      " |  \n",
      " |  difference_update(...)\n",
      " |      Remove all elements of another set from this set.\n",
      " |  \n",
      " |  discard(...)\n",
      " |      Remove an element from a set if it is a member.\n",
      " |      \n",
      " |      If the element is not a member, do nothing.\n",
      " |  \n",
      " |  intersection(...)\n",
      " |      Return the intersection of two sets as a new set.\n",
      " |      \n",
      " |      (i.e. all elements that are in both sets.)\n",
      " |  \n",
      " |  intersection_update(...)\n",
      " |      Update a set with the intersection of itself and another.\n",
      " |  \n",
      " |  isdisjoint(...)\n",
      " |      Return True if two sets have a null intersection.\n",
      " |  \n",
      " |  issubset(...)\n",
      " |      Report whether another set contains this set.\n",
      " |  \n",
      " |  issuperset(...)\n",
      " |      Report whether this set contains another set.\n",
      " |  \n",
      " |  pop(...)\n",
      " |      Remove and return an arbitrary set element.\n",
      " |      Raises KeyError if the set is empty.\n",
      " |  \n",
      " |  remove(...)\n",
      " |      Remove an element from a set; it must be a member.\n",
      " |      \n",
      " |      If the element is not a member, raise a KeyError.\n",
      " |  \n",
      " |  symmetric_difference(...)\n",
      " |      Return the symmetric difference of two sets as a new set.\n",
      " |      \n",
      " |      (i.e. all elements that are in exactly one of the sets.)\n",
      " |  \n",
      " |  symmetric_difference_update(...)\n",
      " |      Update a set with the symmetric difference of itself and another.\n",
      " |  \n",
      " |  union(...)\n",
      " |      Return the union of sets as a new set.\n",
      " |      \n",
      " |      (i.e. all elements that are in either set.)\n",
      " |  \n",
      " |  update(...)\n",
      " |      Update a set with the union of itself and others.\n",
      " |  \n",
      " |  ----------------------------------------------------------------------\n",
      " |  Class methods defined here:\n",
      " |  \n",
      " |  __class_getitem__(...) from builtins.type\n",
      " |      See PEP 585\n",
      " |  \n",
      " |  ----------------------------------------------------------------------\n",
      " |  Static methods defined here:\n",
      " |  \n",
      " |  __new__(*args, **kwargs) from builtins.type\n",
      " |      Create and return a new object.  See help(type) for accurate signature.\n",
      " |  \n",
      " |  ----------------------------------------------------------------------\n",
      " |  Data and other attributes defined here:\n",
      " |  \n",
      " |  __hash__ = None\n",
      "\n"
     ]
    }
   ],
   "source": [
    "help(set) "
   ]
  },
  {
   "cell_type": "markdown",
   "id": "0fae3da6",
   "metadata": {},
   "source": [
    "# Methods related to sets"
   ]
  },
  {
   "cell_type": "code",
   "execution_count": 3,
   "id": "03121d62",
   "metadata": {},
   "outputs": [],
   "source": [
    "class_data_scientist_set = {\"Aarushi\",\"Pratap\",\"Ansari\",\"Raj\"}\n",
    "class_software_eng_set = {\"Pratap\",\"Govind\",\"Shashank\",\"Raj\"}"
   ]
  },
  {
   "cell_type": "code",
   "execution_count": 5,
   "id": "e816ec98",
   "metadata": {},
   "outputs": [
    {
     "ename": "TypeError",
     "evalue": "'set' object is not subscriptable",
     "output_type": "error",
     "traceback": [
      "\u001b[1;31m---------------------------------------------------------------------------\u001b[0m",
      "\u001b[1;31mTypeError\u001b[0m                                 Traceback (most recent call last)",
      "Input \u001b[1;32mIn [5]\u001b[0m, in \u001b[0;36m<cell line: 2>\u001b[1;34m()\u001b[0m\n\u001b[0;32m      1\u001b[0m \u001b[38;5;66;03m# sets are unordered collections so indexing is not possible\u001b[39;00m\n\u001b[1;32m----> 2\u001b[0m \u001b[43mclass_data_scientist_set\u001b[49m\u001b[43m[\u001b[49m\u001b[38;5;241;43m0\u001b[39;49m\u001b[43m]\u001b[49m\n",
      "\u001b[1;31mTypeError\u001b[0m: 'set' object is not subscriptable"
     ]
    }
   ],
   "source": [
    "# sets are unordered collections so indexing is not possible\n",
    "class_data_scientist_set[0]"
   ]
  },
  {
   "cell_type": "code",
   "execution_count": 6,
   "id": "21da33d8",
   "metadata": {},
   "outputs": [
    {
     "name": "stdout",
     "output_type": "stream",
     "text": [
      "Ansari\n",
      "Raj\n",
      "Pratap\n",
      "Aarushi\n"
     ]
    }
   ],
   "source": [
    "for name in class_data_scientist_set:\n",
    "    print(name)"
   ]
  },
  {
   "cell_type": "code",
   "execution_count": 7,
   "id": "1e7caed4",
   "metadata": {},
   "outputs": [
    {
     "name": "stdout",
     "output_type": "stream",
     "text": [
      "Raj\n",
      "Pratap\n"
     ]
    }
   ],
   "source": [
    "# check data scientist who are also software engineer\n",
    "for data_scientist in class_data_scientist_set:\n",
    "    if data_scientist in class_software_eng_set:\n",
    "        print(data_scientist)"
   ]
  },
  {
   "cell_type": "markdown",
   "id": "1cca3191",
   "metadata": {},
   "source": [
    "### Q1 print name of those fellows who are either data scientist only or software engineers only but not both<br>\n",
    "### Q2 print software engineers who are not data scientist<br>\n",
    "### Q3 print all unique software and data science professionals"
   ]
  },
  {
   "cell_type": "code",
   "execution_count": 8,
   "id": "3958a811",
   "metadata": {},
   "outputs": [],
   "source": [
    "# Q1\n",
    "data_scientist = list(class_data_scientist_set)\n",
    "software_engineer = list(class_software_eng_set)\n",
    "\n"
   ]
  },
  {
   "cell_type": "code",
   "execution_count": 9,
   "id": "18030441",
   "metadata": {},
   "outputs": [
    {
     "data": {
      "text/plain": [
       "['Ansari', 'Raj', 'Pratap', 'Aarushi']"
      ]
     },
     "execution_count": 9,
     "metadata": {},
     "output_type": "execute_result"
    }
   ],
   "source": [
    "data_scientist"
   ]
  },
  {
   "cell_type": "code",
   "execution_count": 10,
   "id": "bdb64a98",
   "metadata": {},
   "outputs": [
    {
     "data": {
      "text/plain": [
       "['Govind', 'Raj', 'Pratap', 'Shashank']"
      ]
     },
     "execution_count": 10,
     "metadata": {},
     "output_type": "execute_result"
    }
   ],
   "source": [
    "software_engineer"
   ]
  },
  {
   "cell_type": "code",
   "execution_count": 11,
   "id": "86a7d955",
   "metadata": {},
   "outputs": [],
   "source": [
    "both_data_scientist_and_software_eng = [name for name in data_scientist if name in software_engineer]"
   ]
  },
  {
   "cell_type": "code",
   "execution_count": 12,
   "id": "401f8833",
   "metadata": {},
   "outputs": [
    {
     "data": {
      "text/plain": [
       "['Raj', 'Pratap']"
      ]
     },
     "execution_count": 12,
     "metadata": {},
     "output_type": "execute_result"
    }
   ],
   "source": [
    "both_data_scientist_and_software_eng"
   ]
  },
  {
   "cell_type": "code",
   "execution_count": 13,
   "id": "934e1348",
   "metadata": {},
   "outputs": [],
   "source": [
    "data_scientist.extend(software_engineer)"
   ]
  },
  {
   "cell_type": "code",
   "execution_count": 15,
   "id": "2b24f948",
   "metadata": {},
   "outputs": [
    {
     "data": {
      "text/plain": [
       "['Ansari', 'Raj', 'Pratap', 'Aarushi', 'Govind', 'Raj', 'Pratap', 'Shashank']"
      ]
     },
     "execution_count": 15,
     "metadata": {},
     "output_type": "execute_result"
    }
   ],
   "source": [
    "data_scientist"
   ]
  },
  {
   "cell_type": "code",
   "execution_count": 16,
   "id": "81e41aef",
   "metadata": {},
   "outputs": [],
   "source": [
    "only_data_scientist_or_software_engineer = [name for name in data_scientist if name not in both_data_scientist_and_software_eng]"
   ]
  },
  {
   "cell_type": "code",
   "execution_count": 17,
   "id": "96faed35",
   "metadata": {},
   "outputs": [
    {
     "data": {
      "text/plain": [
       "['Ansari', 'Aarushi', 'Govind', 'Shashank']"
      ]
     },
     "execution_count": 17,
     "metadata": {},
     "output_type": "execute_result"
    }
   ],
   "source": [
    "only_data_scientist_or_software_engineer"
   ]
  },
  {
   "cell_type": "code",
   "execution_count": 20,
   "id": "0e5d8b5c",
   "metadata": {},
   "outputs": [
    {
     "data": {
      "text/plain": [
       "{'Aarushi', 'Ansari', 'Govind', 'Shashank'}"
      ]
     },
     "execution_count": 20,
     "metadata": {},
     "output_type": "execute_result"
    }
   ],
   "source": [
    "class_data_scientist_set.union(class_software_eng_set) - class_data_scientist_set.intersection(class_software_eng_set)"
   ]
  },
  {
   "cell_type": "code",
   "execution_count": 19,
   "id": "8efc87fa",
   "metadata": {},
   "outputs": [
    {
     "data": {
      "text/plain": [
       "{'Pratap', 'Raj'}"
      ]
     },
     "execution_count": 19,
     "metadata": {},
     "output_type": "execute_result"
    }
   ],
   "source": [
    "class_data_scientist_set.intersection(class_software_eng_set)"
   ]
  },
  {
   "cell_type": "code",
   "execution_count": 21,
   "id": "cc5a25fe",
   "metadata": {},
   "outputs": [],
   "source": [
    "## Software Engineers who are not data scientist"
   ]
  },
  {
   "cell_type": "code",
   "execution_count": 22,
   "id": "db7d4e95",
   "metadata": {},
   "outputs": [],
   "source": [
    "data_scientist = list(class_data_scientist_set)\n",
    "software_engineer = list(class_software_eng_set)\n",
    "software_eng_who_are_not_data_scientist = []\n",
    "for name in software_engineer:\n",
    "    if name not in data_scientist:\n",
    "        software_eng_who_are_not_data_scientist.append(name)\n",
    "        "
   ]
  },
  {
   "cell_type": "code",
   "execution_count": 23,
   "id": "d73a1ed7",
   "metadata": {},
   "outputs": [
    {
     "data": {
      "text/plain": [
       "['Govind', 'Shashank']"
      ]
     },
     "execution_count": 23,
     "metadata": {},
     "output_type": "execute_result"
    }
   ],
   "source": [
    "software_eng_who_are_not_data_scientist"
   ]
  },
  {
   "cell_type": "code",
   "execution_count": 24,
   "id": "38440667",
   "metadata": {},
   "outputs": [
    {
     "data": {
      "text/plain": [
       "['Govind', 'Shashank']"
      ]
     },
     "execution_count": 24,
     "metadata": {},
     "output_type": "execute_result"
    }
   ],
   "source": [
    "[name for name in software_engineer if name not in data_scientist]"
   ]
  },
  {
   "cell_type": "code",
   "execution_count": 25,
   "id": "55e0fbee",
   "metadata": {},
   "outputs": [
    {
     "data": {
      "text/plain": [
       "{'Govind', 'Shashank'}"
      ]
     },
     "execution_count": 25,
     "metadata": {},
     "output_type": "execute_result"
    }
   ],
   "source": [
    "class_software_eng_set-class_data_scientist_set"
   ]
  },
  {
   "cell_type": "code",
   "execution_count": 26,
   "id": "7b4dc7d0",
   "metadata": {},
   "outputs": [],
   "source": [
    "#  Q3) print all unique data science and software professionals"
   ]
  },
  {
   "cell_type": "code",
   "execution_count": 29,
   "id": "5e075650",
   "metadata": {},
   "outputs": [],
   "source": [
    "data_scientist = list(class_data_scientist_set)\n",
    "software_engineer = list(class_software_eng_set)\n",
    "\n",
    "all_data_scientist_software_engineer = []\n",
    "for name in data_scientist+software_engineer:\n",
    "    if name not in all_data_scientist_software_engineer:\n",
    "        all_data_scientist_software_engineer.append(name)"
   ]
  },
  {
   "cell_type": "code",
   "execution_count": 31,
   "id": "2024fef6",
   "metadata": {},
   "outputs": [
    {
     "data": {
      "text/plain": [
       "['Ansari', 'Raj', 'Pratap', 'Aarushi', 'Govind', 'Shashank']"
      ]
     },
     "execution_count": 31,
     "metadata": {},
     "output_type": "execute_result"
    }
   ],
   "source": [
    "all_data_scientist_software_engineer"
   ]
  },
  {
   "cell_type": "code",
   "execution_count": 32,
   "id": "3f7ccbdf",
   "metadata": {},
   "outputs": [
    {
     "data": {
      "text/plain": [
       "['Ansari', 'Aarushi']"
      ]
     },
     "execution_count": 32,
     "metadata": {},
     "output_type": "execute_result"
    }
   ],
   "source": [
    "[name for name in data_scientist if name not in software_engineer]"
   ]
  },
  {
   "cell_type": "code",
   "execution_count": 33,
   "id": "6486e4ba",
   "metadata": {},
   "outputs": [
    {
     "data": {
      "text/plain": [
       "['Govind', 'Shashank']"
      ]
     },
     "execution_count": 33,
     "metadata": {},
     "output_type": "execute_result"
    }
   ],
   "source": [
    "[name for name in software_engineer if name not in data_scientist]"
   ]
  },
  {
   "cell_type": "code",
   "execution_count": 34,
   "id": "3bf8dfcc",
   "metadata": {},
   "outputs": [
    {
     "data": {
      "text/plain": [
       "['Raj', 'Pratap']"
      ]
     },
     "execution_count": 34,
     "metadata": {},
     "output_type": "execute_result"
    }
   ],
   "source": [
    "[name for name in data_scientist if name in software_engineer]"
   ]
  },
  {
   "cell_type": "code",
   "execution_count": 35,
   "id": "582a51d2",
   "metadata": {},
   "outputs": [
    {
     "data": {
      "text/plain": [
       "{'Aarushi', 'Ansari', 'Govind', 'Pratap', 'Raj', 'Shashank'}"
      ]
     },
     "execution_count": 35,
     "metadata": {},
     "output_type": "execute_result"
    }
   ],
   "source": [
    "class_data_scientist_set.union(class_software_eng_set)"
   ]
  },
  {
   "cell_type": "code",
   "execution_count": 36,
   "id": "bc178fa9",
   "metadata": {},
   "outputs": [],
   "source": [
    "# add elements to my set"
   ]
  },
  {
   "cell_type": "code",
   "execution_count": 37,
   "id": "ac3d67c5",
   "metadata": {},
   "outputs": [
    {
     "data": {
      "text/plain": [
       "{'Aarushi', 'Ansari', 'Pratap', 'Raj'}"
      ]
     },
     "execution_count": 37,
     "metadata": {},
     "output_type": "execute_result"
    }
   ],
   "source": [
    "class_data_scientist_set"
   ]
  },
  {
   "cell_type": "code",
   "execution_count": 38,
   "id": "6f747f99",
   "metadata": {},
   "outputs": [],
   "source": [
    "class_data_scientist_set.add(\"Ajay\")"
   ]
  },
  {
   "cell_type": "code",
   "execution_count": 39,
   "id": "4b649dc0",
   "metadata": {},
   "outputs": [
    {
     "data": {
      "text/plain": [
       "{'Aarushi', 'Ajay', 'Ansari', 'Pratap', 'Raj'}"
      ]
     },
     "execution_count": 39,
     "metadata": {},
     "output_type": "execute_result"
    }
   ],
   "source": [
    "class_data_scientist_set"
   ]
  },
  {
   "cell_type": "code",
   "execution_count": 42,
   "id": "caad8416",
   "metadata": {},
   "outputs": [],
   "source": [
    "class_data_scientist_set.update([\"Rahul\",\"Poonam\"])"
   ]
  },
  {
   "cell_type": "code",
   "execution_count": 43,
   "id": "9b779b43",
   "metadata": {},
   "outputs": [
    {
     "data": {
      "text/plain": [
       "{'Aarushi', 'Ajay', 'Ansari', 'Poonam', 'Pratap', 'Rahul', 'Raj'}"
      ]
     },
     "execution_count": 43,
     "metadata": {},
     "output_type": "execute_result"
    }
   ],
   "source": [
    "class_data_scientist_set"
   ]
  },
  {
   "cell_type": "code",
   "execution_count": 44,
   "id": "1c275202",
   "metadata": {},
   "outputs": [],
   "source": [
    "class_data_scientist_set.remove('Rahul')"
   ]
  },
  {
   "cell_type": "code",
   "execution_count": 45,
   "id": "9be069ab",
   "metadata": {},
   "outputs": [
    {
     "data": {
      "text/plain": [
       "{'Aarushi', 'Ajay', 'Ansari', 'Poonam', 'Pratap', 'Raj'}"
      ]
     },
     "execution_count": 45,
     "metadata": {},
     "output_type": "execute_result"
    }
   ],
   "source": [
    "class_data_scientist_set"
   ]
  },
  {
   "cell_type": "code",
   "execution_count": 46,
   "id": "769f4071",
   "metadata": {},
   "outputs": [
    {
     "name": "stdout",
     "output_type": "stream",
     "text": [
      "Help on method_descriptor:\n",
      "\n",
      "pop(...)\n",
      "    Remove and return an arbitrary set element.\n",
      "    Raises KeyError if the set is empty.\n",
      "\n"
     ]
    }
   ],
   "source": [
    "help(set.pop)"
   ]
  },
  {
   "cell_type": "code",
   "execution_count": 47,
   "id": "7460b1a1",
   "metadata": {},
   "outputs": [],
   "source": [
    "class_data_scientist_set.clear()"
   ]
  },
  {
   "cell_type": "code",
   "execution_count": 48,
   "id": "4a3c6ac2",
   "metadata": {},
   "outputs": [
    {
     "data": {
      "text/plain": [
       "set()"
      ]
     },
     "execution_count": 48,
     "metadata": {},
     "output_type": "execute_result"
    }
   ],
   "source": [
    "class_data_scientist_set"
   ]
  },
  {
   "cell_type": "code",
   "execution_count": 49,
   "id": "5207681c",
   "metadata": {},
   "outputs": [],
   "source": [
    "set_A = {1,2,3,4,5,6,7,8,9,10}\n",
    "set_B = {4,5}"
   ]
  },
  {
   "cell_type": "code",
   "execution_count": 50,
   "id": "27b0ff1b",
   "metadata": {},
   "outputs": [
    {
     "data": {
      "text/plain": [
       "True"
      ]
     },
     "execution_count": 50,
     "metadata": {},
     "output_type": "execute_result"
    }
   ],
   "source": [
    "set_B.issubset(set_A)"
   ]
  },
  {
   "cell_type": "code",
   "execution_count": 51,
   "id": "8031d645",
   "metadata": {},
   "outputs": [
    {
     "data": {
      "text/plain": [
       "True"
      ]
     },
     "execution_count": 51,
     "metadata": {},
     "output_type": "execute_result"
    }
   ],
   "source": [
    "set_A.issuperset(set_B)"
   ]
  },
  {
   "cell_type": "code",
   "execution_count": 52,
   "id": "ab16adc7",
   "metadata": {},
   "outputs": [
    {
     "data": {
      "text/plain": [
       "False"
      ]
     },
     "execution_count": 52,
     "metadata": {},
     "output_type": "execute_result"
    }
   ],
   "source": [
    "set_A.isdisjoint(set_B)"
   ]
  },
  {
   "cell_type": "code",
   "execution_count": 53,
   "id": "fba8893e",
   "metadata": {},
   "outputs": [],
   "source": [
    "set_C = {11,12}"
   ]
  },
  {
   "cell_type": "code",
   "execution_count": 54,
   "id": "4a5a9aa1",
   "metadata": {},
   "outputs": [
    {
     "data": {
      "text/plain": [
       "True"
      ]
     },
     "execution_count": 54,
     "metadata": {},
     "output_type": "execute_result"
    }
   ],
   "source": [
    "set_A.isdisjoint(set_C)"
   ]
  },
  {
   "cell_type": "markdown",
   "id": "033ca08d",
   "metadata": {},
   "source": [
    "## Nested Dictionary "
   ]
  },
  {
   "cell_type": "code",
   "execution_count": 62,
   "id": "7e498a44",
   "metadata": {},
   "outputs": [],
   "source": [
    "class_B_python = {\n",
    "    \"Aarushi\":{\n",
    "        \"graduation\":\"MCom\",\n",
    "        \"yoe\":\"3\",\n",
    "        \"past_companies\":{\n",
    "            \"name_of_company\":\"Facebook\"\n",
    "        }\n",
    "    },\n",
    "    \"Ansari\":{\n",
    "        \"graduation\":\"Bcom\",\n",
    "        \"yoe\":\"2\"\n",
    "    }\n",
    "    \n",
    "}"
   ]
  },
  {
   "cell_type": "code",
   "execution_count": 57,
   "id": "697dfa9c",
   "metadata": {},
   "outputs": [
    {
     "data": {
      "text/plain": [
       "dict"
      ]
     },
     "execution_count": 57,
     "metadata": {},
     "output_type": "execute_result"
    }
   ],
   "source": [
    "type(class_B_python)"
   ]
  },
  {
   "cell_type": "code",
   "execution_count": 59,
   "id": "bc7614dd",
   "metadata": {},
   "outputs": [
    {
     "data": {
      "text/plain": [
       "dict"
      ]
     },
     "execution_count": 59,
     "metadata": {},
     "output_type": "execute_result"
    }
   ],
   "source": [
    "type(class_B_python['Aarushi'])"
   ]
  },
  {
   "cell_type": "code",
   "execution_count": 60,
   "id": "cb6ddb9c",
   "metadata": {},
   "outputs": [
    {
     "data": {
      "text/plain": [
       "{'graduation': 'MCom', 'yoe': '3'}"
      ]
     },
     "execution_count": 60,
     "metadata": {},
     "output_type": "execute_result"
    }
   ],
   "source": [
    "class_B_python['Aarushi']"
   ]
  },
  {
   "cell_type": "code",
   "execution_count": 61,
   "id": "b89233e2",
   "metadata": {},
   "outputs": [
    {
     "data": {
      "text/plain": [
       "'MCom'"
      ]
     },
     "execution_count": 61,
     "metadata": {},
     "output_type": "execute_result"
    }
   ],
   "source": [
    "class_B_python['Aarushi']['graduation']"
   ]
  },
  {
   "cell_type": "code",
   "execution_count": 65,
   "id": "d1ebc511",
   "metadata": {},
   "outputs": [
    {
     "data": {
      "text/plain": [
       "'Facebook'"
      ]
     },
     "execution_count": 65,
     "metadata": {},
     "output_type": "execute_result"
    }
   ],
   "source": [
    "class_B_python['Aarushi']['past_companies']['name_of_company']"
   ]
  },
  {
   "cell_type": "code",
   "execution_count": null,
   "id": "66c927f6",
   "metadata": {},
   "outputs": [],
   "source": []
  }
 ],
 "metadata": {
  "kernelspec": {
   "display_name": "Python 3 (ipykernel)",
   "language": "python",
   "name": "python3"
  },
  "language_info": {
   "codemirror_mode": {
    "name": "ipython",
    "version": 3
   },
   "file_extension": ".py",
   "mimetype": "text/x-python",
   "name": "python",
   "nbconvert_exporter": "python",
   "pygments_lexer": "ipython3",
   "version": "3.10.6"
  }
 },
 "nbformat": 4,
 "nbformat_minor": 5
}
