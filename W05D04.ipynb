{
 "cells": [
  {
   "cell_type": "markdown",
   "id": "3bf9444a",
   "metadata": {},
   "source": [
    "### Practice Session on list comprehension,lambda,map,filter and reduce"
   ]
  },
  {
   "cell_type": "code",
   "execution_count": 8,
   "id": "1b23d182",
   "metadata": {},
   "outputs": [],
   "source": [
    "\n",
    "weekdays = ['Monday', 'Tuesday', 'Wednesday', 'Thursday', 'Friday', 'Saturday', 'Sunday']"
   ]
  },
  {
   "cell_type": "code",
   "execution_count": 2,
   "id": "37911383",
   "metadata": {},
   "outputs": [],
   "source": [
    "lenght_6_days = []\n",
    "for day in weekdays:\n",
    "    if len(day)==6:\n",
    "        lenght_6_days.append(day)"
   ]
  },
  {
   "cell_type": "code",
   "execution_count": 3,
   "id": "112e4fed",
   "metadata": {},
   "outputs": [
    {
     "name": "stdout",
     "output_type": "stream",
     "text": [
      "['Monday', 'Friday', 'Sunday']\n"
     ]
    }
   ],
   "source": [
    "print(lenght_6_days)"
   ]
  },
  {
   "cell_type": "code",
   "execution_count": 10,
   "id": "8e2d559b",
   "metadata": {},
   "outputs": [],
   "source": [
    "index = 0\n",
    "lenght_6_days = []\n",
    "while index<len(weekdays):\n",
    "    if len(weekdays[index])==6:\n",
    "        lenght_6_days.append(weekdays[index])\n",
    "    \n",
    "    index+=1"
   ]
  },
  {
   "cell_type": "code",
   "execution_count": 11,
   "id": "ebf874a8",
   "metadata": {},
   "outputs": [
    {
     "name": "stdout",
     "output_type": "stream",
     "text": [
      "['Monday', 'Friday', 'Sunday']\n"
     ]
    }
   ],
   "source": [
    "print(lenght_6_days)"
   ]
  },
  {
   "cell_type": "code",
   "execution_count": 22,
   "id": "6f4640a9",
   "metadata": {},
   "outputs": [
    {
     "data": {
      "text/plain": [
       "['Monday', 'Friday', 'Sunday']"
      ]
     },
     "execution_count": 22,
     "metadata": {},
     "output_type": "execute_result"
    }
   ],
   "source": [
    "[day for day in weekdays if len(day)==6]"
   ]
  },
  {
   "cell_type": "code",
   "execution_count": 20,
   "id": "4ccfbd1c",
   "metadata": {},
   "outputs": [
    {
     "data": {
      "text/plain": [
       "['Monday', 'Random', 'Random', 'Random', 'Friday', 'Random', 'Sunday']"
      ]
     },
     "execution_count": 20,
     "metadata": {},
     "output_type": "execute_result"
    }
   ],
   "source": [
    "[(day if len(day)==6 else \"Random\") for day in weekdays]"
   ]
  },
  {
   "cell_type": "code",
   "execution_count": 18,
   "id": "c5db3829",
   "metadata": {},
   "outputs": [
    {
     "data": {
      "text/plain": [
       "'c'"
      ]
     },
     "execution_count": 18,
     "metadata": {},
     "output_type": "execute_result"
    }
   ],
   "source": [
    "(\"A\" if \"f\"==\"e\" else \"c\")"
   ]
  },
  {
   "cell_type": "code",
   "execution_count": 27,
   "id": "8dc55b08",
   "metadata": {},
   "outputs": [
    {
     "data": {
      "text/plain": [
       "['Monday', 'Tuesday', 'Wednesday', 'Thursday', 'Friday', 'Saturday', 'Sunday']"
      ]
     },
     "execution_count": 27,
     "metadata": {},
     "output_type": "execute_result"
    }
   ],
   "source": [
    "[day for day in weekdays if len(day)==6 ]"
   ]
  },
  {
   "cell_type": "code",
   "execution_count": 43,
   "id": "1848a552",
   "metadata": {},
   "outputs": [
    {
     "data": {
      "text/plain": [
       "['Monday', 'Wednesday', 'Friday', 'Sunday']"
      ]
     },
     "execution_count": 43,
     "metadata": {},
     "output_type": "execute_result"
    }
   ],
   "source": [
    "[day for day in weekdays if len(day)==6 or day ==\"Wednesday\"]"
   ]
  },
  {
   "cell_type": "code",
   "execution_count": 41,
   "id": "f8e8a3bf",
   "metadata": {},
   "outputs": [],
   "source": [
    "lst = [(day if len(day)==6 else 'Wednesday') for day in weekdays if len(day)==6 or day ==\"Wednesday\"]\n"
   ]
  },
  {
   "cell_type": "code",
   "execution_count": null,
   "id": "55a4d900",
   "metadata": {},
   "outputs": [],
   "source": [
    "filter(function,iterable)"
   ]
  },
  {
   "cell_type": "code",
   "execution_count": 54,
   "id": "87bf8a6d",
   "metadata": {},
   "outputs": [],
   "source": [
    "def is_lenght_6(day):\n",
    "    if len(day)==6:\n",
    "        return True\n",
    "    elif day==\"Wednesday\":\n",
    "        return True\n",
    "    else:\n",
    "        return False"
   ]
  },
  {
   "cell_type": "code",
   "execution_count": 56,
   "id": "fa35425f",
   "metadata": {},
   "outputs": [
    {
     "data": {
      "text/plain": [
       "True"
      ]
     },
     "execution_count": 56,
     "metadata": {},
     "output_type": "execute_result"
    }
   ],
   "source": [
    "is_lenght_6(\"Wednesday\")"
   ]
  },
  {
   "cell_type": "code",
   "execution_count": null,
   "id": "2e2ceab7",
   "metadata": {},
   "outputs": [],
   "source": [
    "is_lenght_6_modified(\"Wednesday\")"
   ]
  },
  {
   "cell_type": "code",
   "execution_count": 37,
   "id": "db452126",
   "metadata": {},
   "outputs": [
    {
     "name": "stdout",
     "output_type": "stream",
     "text": [
      "True\n"
     ]
    }
   ],
   "source": [
    "print(is_lenght_6('Wednesday'))"
   ]
  },
  {
   "cell_type": "code",
   "execution_count": 45,
   "id": "f92c8903",
   "metadata": {},
   "outputs": [
    {
     "data": {
      "text/plain": [
       "['Monday', 'Wednesday', 'Friday', 'Sunday']"
      ]
     },
     "execution_count": 45,
     "metadata": {},
     "output_type": "execute_result"
    }
   ],
   "source": [
    "list(filter(is_lenght_6,weekdays))"
   ]
  },
  {
   "cell_type": "code",
   "execution_count": 40,
   "id": "8af8ef5d",
   "metadata": {},
   "outputs": [
    {
     "data": {
      "text/plain": [
       "True"
      ]
     },
     "execution_count": 40,
     "metadata": {},
     "output_type": "execute_result"
    }
   ],
   "source": [
    "(lambda day:len(day)==6)(\"Monday\")"
   ]
  },
  {
   "cell_type": "code",
   "execution_count": 42,
   "id": "fd67c29d",
   "metadata": {},
   "outputs": [
    {
     "data": {
      "text/plain": [
       "['Monday', 'Wednesday', 'Friday', 'Sunday']"
      ]
     },
     "execution_count": 42,
     "metadata": {},
     "output_type": "execute_result"
    }
   ],
   "source": [
    "lst"
   ]
  },
  {
   "cell_type": "code",
   "execution_count": 44,
   "id": "a50d8738",
   "metadata": {},
   "outputs": [
    {
     "data": {
      "text/plain": [
       "True"
      ]
     },
     "execution_count": 44,
     "metadata": {},
     "output_type": "execute_result"
    }
   ],
   "source": [
    "is_lenght_6('Wednesday')"
   ]
  },
  {
   "cell_type": "code",
   "execution_count": 47,
   "id": "cfc49f1d",
   "metadata": {},
   "outputs": [],
   "source": [
    "lambda_func = lambda day:len(day)==6 or day=='Wednesday'"
   ]
  },
  {
   "cell_type": "code",
   "execution_count": 53,
   "id": "508af6ac",
   "metadata": {},
   "outputs": [],
   "source": [
    "def is_lenght_6_modified(day):\n",
    "    return len(day)==6 or day=='Wednesday'"
   ]
  },
  {
   "cell_type": "code",
   "execution_count": 49,
   "id": "2d26d3cb",
   "metadata": {},
   "outputs": [
    {
     "data": {
      "text/plain": [
       "True"
      ]
     },
     "execution_count": 49,
     "metadata": {},
     "output_type": "execute_result"
    }
   ],
   "source": [
    "lambda_func(\"Wednesday\")"
   ]
  },
  {
   "cell_type": "code",
   "execution_count": 50,
   "id": "acb73a81",
   "metadata": {},
   "outputs": [
    {
     "data": {
      "text/plain": [
       "['Monday', 'Wednesday', 'Friday', 'Sunday']"
      ]
     },
     "execution_count": 50,
     "metadata": {},
     "output_type": "execute_result"
    }
   ],
   "source": [
    "list(filter(lambda day:len(day)==6 or day=='Wednesday',weekdays))"
   ]
  },
  {
   "cell_type": "code",
   "execution_count": 51,
   "id": "b3cd90bc",
   "metadata": {},
   "outputs": [
    {
     "data": {
      "text/plain": [
       "True"
      ]
     },
     "execution_count": 51,
     "metadata": {},
     "output_type": "execute_result"
    }
   ],
   "source": [
    "len(\"Monday\")==6"
   ]
  },
  {
   "cell_type": "code",
   "execution_count": 57,
   "id": "b366a117",
   "metadata": {},
   "outputs": [],
   "source": [
    "list1=[1,2,3]\n",
    "list2=[4,5,6]"
   ]
  },
  {
   "cell_type": "code",
   "execution_count": 66,
   "id": "d26cb816",
   "metadata": {},
   "outputs": [
    {
     "data": {
      "text/plain": [
       "[5, 7, 9]"
      ]
     },
     "execution_count": 66,
     "metadata": {},
     "output_type": "execute_result"
    }
   ],
   "source": [
    "list3"
   ]
  },
  {
   "cell_type": "code",
   "execution_count": 68,
   "id": "3929cd9b",
   "metadata": {},
   "outputs": [],
   "source": [
    "list3 = []\n",
    "i=0\n",
    "while i<len(list1):\n",
    "    list3.append(list1[i]+list2[i])\n",
    "    i+=1"
   ]
  },
  {
   "cell_type": "code",
   "execution_count": 65,
   "id": "2b18398a",
   "metadata": {},
   "outputs": [],
   "source": [
    "list3 = []\n",
    "for i in range(0,len(list1)):\n",
    "    list3.append(list1[i]+list2[i]) "
   ]
  },
  {
   "cell_type": "code",
   "execution_count": 69,
   "id": "81b0f597",
   "metadata": {},
   "outputs": [
    {
     "data": {
      "text/plain": [
       "[5, 7, 9]"
      ]
     },
     "execution_count": 69,
     "metadata": {},
     "output_type": "execute_result"
    }
   ],
   "source": [
    "list3"
   ]
  },
  {
   "cell_type": "code",
   "execution_count": 72,
   "id": "2d68e3b0",
   "metadata": {},
   "outputs": [
    {
     "data": {
      "text/plain": [
       "[5, 7, 9]"
      ]
     },
     "execution_count": 72,
     "metadata": {},
     "output_type": "execute_result"
    }
   ],
   "source": [
    "[list1[i]+list2[i] for i in range(0,len(list1))]"
   ]
  },
  {
   "cell_type": "code",
   "execution_count": 74,
   "id": "1f87ba06",
   "metadata": {},
   "outputs": [
    {
     "data": {
      "text/plain": [
       "[0, 1, 2]"
      ]
     },
     "execution_count": 74,
     "metadata": {},
     "output_type": "execute_result"
    }
   ],
   "source": [
    "[i for i in range(0,len(list1))]"
   ]
  },
  {
   "cell_type": "code",
   "execution_count": 80,
   "id": "6fe0ba7e",
   "metadata": {},
   "outputs": [
    {
     "data": {
      "text/plain": [
       "[(1, 4), (2, 5), (3, 6)]"
      ]
     },
     "execution_count": 80,
     "metadata": {},
     "output_type": "execute_result"
    }
   ],
   "source": [
    "list1=[1,2,3]\n",
    "list2=[4,5,6]\n",
    "list(zip(list1,list2))"
   ]
  },
  {
   "cell_type": "code",
   "execution_count": 78,
   "id": "925c0c1d",
   "metadata": {},
   "outputs": [
    {
     "data": {
      "text/plain": [
       "[5, 7, 9]"
      ]
     },
     "execution_count": 78,
     "metadata": {},
     "output_type": "execute_result"
    }
   ],
   "source": [
    "[a[0]+a[1] for a in zip(list1,list2)]"
   ]
  },
  {
   "cell_type": "code",
   "execution_count": 81,
   "id": "acaefc56",
   "metadata": {},
   "outputs": [],
   "source": [
    "def summation(x,y):\n",
    "    return x+y"
   ]
  },
  {
   "cell_type": "code",
   "execution_count": 82,
   "id": "b028c2d9",
   "metadata": {},
   "outputs": [
    {
     "data": {
      "text/plain": [
       "[5, 7, 9]"
      ]
     },
     "execution_count": 82,
     "metadata": {},
     "output_type": "execute_result"
    }
   ],
   "source": [
    "list(map(summation,list1,list2))"
   ]
  },
  {
   "cell_type": "code",
   "execution_count": 85,
   "id": "550f58f8",
   "metadata": {},
   "outputs": [
    {
     "data": {
      "text/plain": [
       "[5, 7, 9]"
      ]
     },
     "execution_count": 85,
     "metadata": {},
     "output_type": "execute_result"
    }
   ],
   "source": [
    "list(map(lambda x,y:x+y,list1,list2))"
   ]
  },
  {
   "cell_type": "code",
   "execution_count": 86,
   "id": "48337b9f",
   "metadata": {},
   "outputs": [
    {
     "data": {
      "text/plain": [
       "[('p', 'p'), ('o', 'y'), ('o', 't'), ('j', 'h'), ('a', 'o')]"
      ]
     },
     "execution_count": 86,
     "metadata": {},
     "output_type": "execute_result"
    }
   ],
   "source": [
    "str_a = \"pooja\"\n",
    "str_b = \"python\"\n",
    "list(zip(str_a,str_b))"
   ]
  },
  {
   "cell_type": "code",
   "execution_count": 87,
   "id": "41918819",
   "metadata": {},
   "outputs": [
    {
     "data": {
      "text/plain": [
       "[(1, 4), (2, 5), (3, 6)]"
      ]
     },
     "execution_count": 87,
     "metadata": {},
     "output_type": "execute_result"
    }
   ],
   "source": [
    "[a for a in zip(list1,list2)]"
   ]
  },
  {
   "cell_type": "code",
   "execution_count": 88,
   "id": "78d28ec0",
   "metadata": {},
   "outputs": [
    {
     "data": {
      "text/plain": [
       "[5, 7, 9]"
      ]
     },
     "execution_count": 88,
     "metadata": {},
     "output_type": "execute_result"
    }
   ],
   "source": [
    "list(map(lambda x:sum(x),zip(list1,list2)))"
   ]
  },
  {
   "cell_type": "code",
   "execution_count": 89,
   "id": "56458623",
   "metadata": {},
   "outputs": [
    {
     "data": {
      "text/plain": [
       "[5, 7, 9]"
      ]
     },
     "execution_count": 89,
     "metadata": {},
     "output_type": "execute_result"
    }
   ],
   "source": [
    "list(map(sum,zip(list1,list2)))"
   ]
  },
  {
   "cell_type": "code",
   "execution_count": 91,
   "id": "0e01bd3f",
   "metadata": {},
   "outputs": [
    {
     "name": "stdout",
     "output_type": "stream",
     "text": [
      "5\n",
      "7\n",
      "9\n"
     ]
    }
   ],
   "source": [
    "for element in zip(list1,list2):\n",
    "    print(sum(element))"
   ]
  },
  {
   "cell_type": "code",
   "execution_count": null,
   "id": "70930f2e",
   "metadata": {},
   "outputs": [],
   "source": []
  }
 ],
 "metadata": {
  "kernelspec": {
   "display_name": "Python 3 (ipykernel)",
   "language": "python",
   "name": "python3"
  },
  "language_info": {
   "codemirror_mode": {
    "name": "ipython",
    "version": 3
   },
   "file_extension": ".py",
   "mimetype": "text/x-python",
   "name": "python",
   "nbconvert_exporter": "python",
   "pygments_lexer": "ipython3",
   "version": "3.10.6"
  }
 },
 "nbformat": 4,
 "nbformat_minor": 5
}
