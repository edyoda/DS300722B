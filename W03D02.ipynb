{
 "cells": [
  {
   "cell_type": "markdown",
   "id": "e7a05a0a",
   "metadata": {},
   "source": [
    "# remove in list"
   ]
  },
  {
   "cell_type": "code",
   "execution_count": 4,
   "id": "868f8745",
   "metadata": {},
   "outputs": [],
   "source": [
    "list_a = [1,2,3,4,5,1]\n",
    "x = list_a.remove(1)"
   ]
  },
  {
   "cell_type": "code",
   "execution_count": 5,
   "id": "937f5c22",
   "metadata": {},
   "outputs": [
    {
     "data": {
      "text/plain": [
       "[2, 3, 4, 5, 1]"
      ]
     },
     "execution_count": 5,
     "metadata": {},
     "output_type": "execute_result"
    }
   ],
   "source": [
    "list_a"
   ]
  },
  {
   "cell_type": "code",
   "execution_count": 15,
   "id": "7c580572",
   "metadata": {},
   "outputs": [
    {
     "ename": "ValueError",
     "evalue": "list.remove(x): x not in list",
     "output_type": "error",
     "traceback": [
      "\u001b[1;31m---------------------------------------------------------------------------\u001b[0m",
      "\u001b[1;31mValueError\u001b[0m                                Traceback (most recent call last)",
      "Input \u001b[1;32mIn [15]\u001b[0m, in \u001b[0;36m<cell line: 2>\u001b[1;34m()\u001b[0m\n\u001b[0;32m      1\u001b[0m list_a \u001b[38;5;241m=\u001b[39m [\u001b[38;5;241m1\u001b[39m,\u001b[38;5;241m2\u001b[39m,\u001b[38;5;241m3\u001b[39m,\u001b[38;5;241m4\u001b[39m,\u001b[38;5;241m5\u001b[39m,\u001b[38;5;241m1\u001b[39m]\n\u001b[1;32m----> 2\u001b[0m \u001b[43mlist_a\u001b[49m\u001b[38;5;241;43m.\u001b[39;49m\u001b[43mremove\u001b[49m\u001b[43m(\u001b[49m\u001b[38;5;241;43m10\u001b[39;49m\u001b[43m)\u001b[49m\n",
      "\u001b[1;31mValueError\u001b[0m: list.remove(x): x not in list"
     ]
    }
   ],
   "source": [
    "list_a = [1,2,3,4,5,1]\n",
    "list_a.remove(10)"
   ]
  },
  {
   "cell_type": "code",
   "execution_count": 7,
   "id": "47f3e181",
   "metadata": {},
   "outputs": [
    {
     "name": "stdout",
     "output_type": "stream",
     "text": [
      "None\n"
     ]
    }
   ],
   "source": [
    "print(x)"
   ]
  },
  {
   "cell_type": "markdown",
   "id": "5d8f2d3a",
   "metadata": {},
   "source": [
    "# Pop method in list"
   ]
  },
  {
   "cell_type": "code",
   "execution_count": 9,
   "id": "9dcb619b",
   "metadata": {},
   "outputs": [],
   "source": [
    "list_a = [1,2,3,4,5,1]\n"
   ]
  },
  {
   "cell_type": "code",
   "execution_count": 10,
   "id": "e9040334",
   "metadata": {},
   "outputs": [
    {
     "name": "stdout",
     "output_type": "stream",
     "text": [
      "1\n"
     ]
    }
   ],
   "source": [
    "x = list_a.pop(0)\n",
    "print(x)"
   ]
  },
  {
   "cell_type": "code",
   "execution_count": 11,
   "id": "ed382eb7",
   "metadata": {},
   "outputs": [
    {
     "data": {
      "text/plain": [
       "[2, 3, 4, 5, 1]"
      ]
     },
     "execution_count": 11,
     "metadata": {},
     "output_type": "execute_result"
    }
   ],
   "source": [
    "list_a"
   ]
  },
  {
   "cell_type": "code",
   "execution_count": 12,
   "id": "83b414fd",
   "metadata": {},
   "outputs": [],
   "source": [
    "x = list_a.pop()"
   ]
  },
  {
   "cell_type": "code",
   "execution_count": 13,
   "id": "8ad19031",
   "metadata": {},
   "outputs": [
    {
     "data": {
      "text/plain": [
       "1"
      ]
     },
     "execution_count": 13,
     "metadata": {},
     "output_type": "execute_result"
    }
   ],
   "source": [
    "x"
   ]
  },
  {
   "cell_type": "code",
   "execution_count": 14,
   "id": "c1decbdd",
   "metadata": {},
   "outputs": [
    {
     "ename": "IndexError",
     "evalue": "pop index out of range",
     "output_type": "error",
     "traceback": [
      "\u001b[1;31m---------------------------------------------------------------------------\u001b[0m",
      "\u001b[1;31mIndexError\u001b[0m                                Traceback (most recent call last)",
      "Input \u001b[1;32mIn [14]\u001b[0m, in \u001b[0;36m<cell line: 1>\u001b[1;34m()\u001b[0m\n\u001b[1;32m----> 1\u001b[0m x \u001b[38;5;241m=\u001b[39m \u001b[43mlist_a\u001b[49m\u001b[38;5;241;43m.\u001b[39;49m\u001b[43mpop\u001b[49m\u001b[43m(\u001b[49m\u001b[38;5;241;43m10\u001b[39;49m\u001b[43m)\u001b[49m\n",
      "\u001b[1;31mIndexError\u001b[0m: pop index out of range"
     ]
    }
   ],
   "source": [
    "x = list_a.pop(10)"
   ]
  },
  {
   "cell_type": "markdown",
   "id": "f47a3d6d",
   "metadata": {},
   "source": [
    "# Using del keyword "
   ]
  },
  {
   "cell_type": "code",
   "execution_count": 16,
   "id": "ddd175f5",
   "metadata": {},
   "outputs": [],
   "source": [
    "list_a = [1,2,3,4,5,2]\n"
   ]
  },
  {
   "cell_type": "code",
   "execution_count": 17,
   "id": "2aefb677",
   "metadata": {},
   "outputs": [],
   "source": [
    "del list_a[0]"
   ]
  },
  {
   "cell_type": "code",
   "execution_count": 18,
   "id": "f9eb290e",
   "metadata": {},
   "outputs": [
    {
     "data": {
      "text/plain": [
       "[2, 3, 4, 5, 2]"
      ]
     },
     "execution_count": 18,
     "metadata": {},
     "output_type": "execute_result"
    }
   ],
   "source": [
    "list_a"
   ]
  },
  {
   "cell_type": "code",
   "execution_count": 19,
   "id": "2801e9b5",
   "metadata": {},
   "outputs": [],
   "source": [
    "del list_a[0:2]"
   ]
  },
  {
   "cell_type": "code",
   "execution_count": 20,
   "id": "6569eb56",
   "metadata": {},
   "outputs": [
    {
     "data": {
      "text/plain": [
       "[4, 5, 2]"
      ]
     },
     "execution_count": 20,
     "metadata": {},
     "output_type": "execute_result"
    }
   ],
   "source": [
    "list_a"
   ]
  },
  {
   "cell_type": "markdown",
   "id": "137f0332",
   "metadata": {},
   "source": [
    "# Sorting my list"
   ]
  },
  {
   "cell_type": "code",
   "execution_count": 21,
   "id": "419f49d3",
   "metadata": {},
   "outputs": [],
   "source": [
    "list_a = [4,3,6,1,8,2,9,3,0]"
   ]
  },
  {
   "cell_type": "code",
   "execution_count": 22,
   "id": "d6305ef6",
   "metadata": {},
   "outputs": [],
   "source": [
    "list_a.sort()"
   ]
  },
  {
   "cell_type": "code",
   "execution_count": 23,
   "id": "c553807e",
   "metadata": {},
   "outputs": [
    {
     "data": {
      "text/plain": [
       "[0, 1, 2, 3, 3, 4, 6, 8, 9]"
      ]
     },
     "execution_count": 23,
     "metadata": {},
     "output_type": "execute_result"
    }
   ],
   "source": [
    "list_a"
   ]
  },
  {
   "cell_type": "code",
   "execution_count": 24,
   "id": "251e303e",
   "metadata": {},
   "outputs": [],
   "source": [
    "list_a.sort(reverse=True)"
   ]
  },
  {
   "cell_type": "code",
   "execution_count": 25,
   "id": "3cc3433b",
   "metadata": {},
   "outputs": [
    {
     "data": {
      "text/plain": [
       "[9, 8, 6, 4, 3, 3, 2, 1, 0]"
      ]
     },
     "execution_count": 25,
     "metadata": {},
     "output_type": "execute_result"
    }
   ],
   "source": [
    "list_a"
   ]
  },
  {
   "cell_type": "markdown",
   "id": "e3d0259b",
   "metadata": {},
   "source": [
    "## Count element in my list"
   ]
  },
  {
   "cell_type": "code",
   "execution_count": 26,
   "id": "2ac9ad69",
   "metadata": {},
   "outputs": [],
   "source": [
    "list_a = [1,2,3,4,5,61,2,6,23,3,5,5,6,2]\n"
   ]
  },
  {
   "cell_type": "code",
   "execution_count": 27,
   "id": "d8213c3c",
   "metadata": {},
   "outputs": [],
   "source": [
    "count_5 = list_a.count(5)"
   ]
  },
  {
   "cell_type": "code",
   "execution_count": 28,
   "id": "e84cc943",
   "metadata": {},
   "outputs": [
    {
     "data": {
      "text/plain": [
       "3"
      ]
     },
     "execution_count": 28,
     "metadata": {},
     "output_type": "execute_result"
    }
   ],
   "source": [
    "count_5"
   ]
  },
  {
   "cell_type": "code",
   "execution_count": 34,
   "id": "5f6c7a1d",
   "metadata": {},
   "outputs": [
    {
     "data": {
      "text/plain": [
       "1"
      ]
     },
     "execution_count": 34,
     "metadata": {},
     "output_type": "execute_result"
    }
   ],
   "source": [
    "list_a[0:5].count(5)"
   ]
  },
  {
   "cell_type": "markdown",
   "id": "93f83f87",
   "metadata": {},
   "source": [
    "## List index method "
   ]
  },
  {
   "cell_type": "code",
   "execution_count": 38,
   "id": "26c23170",
   "metadata": {},
   "outputs": [],
   "source": [
    "list_a = [1,2,3,4,5,6,6]"
   ]
  },
  {
   "cell_type": "code",
   "execution_count": 36,
   "id": "3a90ac5b",
   "metadata": {},
   "outputs": [
    {
     "data": {
      "text/plain": [
       "2"
      ]
     },
     "execution_count": 36,
     "metadata": {},
     "output_type": "execute_result"
    }
   ],
   "source": [
    "list_a.index(3)"
   ]
  },
  {
   "cell_type": "code",
   "execution_count": 39,
   "id": "24e96430",
   "metadata": {},
   "outputs": [
    {
     "data": {
      "text/plain": [
       "5"
      ]
     },
     "execution_count": 39,
     "metadata": {},
     "output_type": "execute_result"
    }
   ],
   "source": [
    "list_a.index(6)"
   ]
  },
  {
   "cell_type": "markdown",
   "id": "34de204e",
   "metadata": {},
   "source": [
    "## Tuple in Python"
   ]
  },
  {
   "cell_type": "code",
   "execution_count": 43,
   "id": "a962f0a0",
   "metadata": {},
   "outputs": [],
   "source": [
    "sample_tuple = (1,2,3,4,5,[1,2,3,4])"
   ]
  },
  {
   "cell_type": "code",
   "execution_count": 44,
   "id": "03883965",
   "metadata": {},
   "outputs": [
    {
     "name": "stdout",
     "output_type": "stream",
     "text": [
      "<class 'tuple'>\n"
     ]
    }
   ],
   "source": [
    "print(type(sample_tuple))"
   ]
  },
  {
   "cell_type": "code",
   "execution_count": 42,
   "id": "3933bba6",
   "metadata": {},
   "outputs": [
    {
     "ename": "TypeError",
     "evalue": "'tuple' object does not support item assignment",
     "output_type": "error",
     "traceback": [
      "\u001b[1;31m---------------------------------------------------------------------------\u001b[0m",
      "\u001b[1;31mTypeError\u001b[0m                                 Traceback (most recent call last)",
      "Input \u001b[1;32mIn [42]\u001b[0m, in \u001b[0;36m<cell line: 1>\u001b[1;34m()\u001b[0m\n\u001b[1;32m----> 1\u001b[0m \u001b[43msample_tuple\u001b[49m\u001b[43m[\u001b[49m\u001b[38;5;241;43m0\u001b[39;49m\u001b[43m]\u001b[49m\u001b[38;5;241m=\u001b[39m\u001b[38;5;241m10\u001b[39m\n",
      "\u001b[1;31mTypeError\u001b[0m: 'tuple' object does not support item assignment"
     ]
    }
   ],
   "source": [
    "sample_tuple[0]=10"
   ]
  },
  {
   "cell_type": "code",
   "execution_count": 50,
   "id": "27226cdd",
   "metadata": {},
   "outputs": [
    {
     "data": {
      "text/plain": [
       "list"
      ]
     },
     "execution_count": 50,
     "metadata": {},
     "output_type": "execute_result"
    }
   ],
   "source": [
    "type(sample_tuple[5])"
   ]
  },
  {
   "cell_type": "code",
   "execution_count": 47,
   "id": "61244061",
   "metadata": {},
   "outputs": [],
   "source": [
    "sample_tuple[5].extend([1,2,3,4,5,6,7])"
   ]
  },
  {
   "cell_type": "code",
   "execution_count": 48,
   "id": "c1f44f30",
   "metadata": {},
   "outputs": [
    {
     "data": {
      "text/plain": [
       "(1, 2, 3, 4, 5, [1, 2, 3, 4, 1, 2, 3, 4, 5, 6, 7])"
      ]
     },
     "execution_count": 48,
     "metadata": {},
     "output_type": "execute_result"
    }
   ],
   "source": [
    "sample_tuple"
   ]
  },
  {
   "cell_type": "code",
   "execution_count": 51,
   "id": "0dea5a52",
   "metadata": {},
   "outputs": [],
   "source": [
    "#Some Problems\n",
    "Given two matrices X,Y\n",
    "Multiply the two matrices\n",
    " X = [\n",
    "     [1, 7, 3],\n",
    "     [3, 5, 6],\n",
    "     [6, 8, 9]\n",
    "     ]\n",
    "    \n",
    "Y = [\n",
    "    [1, 1, 1, 2],\n",
    "    [6, 7, 3, 0],\n",
    "    [4, 5, 9, 1]\n",
    "    ]\n",
    " "
   ]
  },
  {
   "cell_type": "code",
   "execution_count": 53,
   "id": "49f7ba3a",
   "metadata": {},
   "outputs": [
    {
     "name": "stdout",
     "output_type": "stream",
     "text": [
      "[55, 65, 49, 5]\n",
      "[57, 68, 72, 12]\n",
      "[90, 107, 111, 21]\n"
     ]
    }
   ],
   "source": [
    "X = [\n",
    "     [1, 7, 3],\n",
    "     [3, 5, 6],\n",
    "     [6, 8, 9]\n",
    "     ]\n",
    "    \n",
    "Y = [\n",
    "    [1, 1, 1, 2],\n",
    "    [6, 7, 3, 0],\n",
    "    [4, 5, 9, 1]\n",
    "    ]\n",
    "\n",
    "result = [[0,0,0,0],\n",
    "         [0,0,0,0],\n",
    "         [0,0,0,0]]  \n",
    "\n",
    "for i in range(len(X)):\n",
    "    for j in range(len(Y[0])):\n",
    "        for k in range(len(Y)):\n",
    "            result[i][j] += X[i][k] * Y[k][j]\n",
    "for r in result:\n",
    "    print(r)"
   ]
  },
  {
   "cell_type": "code",
   "execution_count": 55,
   "id": "e8140a7b",
   "metadata": {},
   "outputs": [
    {
     "data": {
      "text/plain": [
       "[[55, 65, 49, 5], [57, 68, 72, 12], [90, 107, 111, 21]]"
      ]
     },
     "execution_count": 55,
     "metadata": {},
     "output_type": "execute_result"
    }
   ],
   "source": [
    "result"
   ]
  },
  {
   "cell_type": "code",
   "execution_count": 56,
   "id": "86b8d126",
   "metadata": {},
   "outputs": [
    {
     "data": {
      "text/plain": [
       "3"
      ]
     },
     "execution_count": 56,
     "metadata": {},
     "output_type": "execute_result"
    }
   ],
   "source": [
    "len(X)"
   ]
  },
  {
   "cell_type": "code",
   "execution_count": 59,
   "id": "d71a3d3d",
   "metadata": {},
   "outputs": [
    {
     "data": {
      "text/plain": [
       "4"
      ]
     },
     "execution_count": 59,
     "metadata": {},
     "output_type": "execute_result"
    }
   ],
   "source": [
    "result[i][j] += X[i][k] * Y[k][j]\n"
   ]
  },
  {
   "cell_type": "code",
   "execution_count": 66,
   "id": "3f83afe1",
   "metadata": {},
   "outputs": [
    {
     "name": "stdout",
     "output_type": "stream",
     "text": [
      "i  | j   |  k\n",
      "0  |  0  |  0\n",
      "0  |  0  |  1\n",
      "0  |  0  |  2\n",
      "0  |  1  |  0\n",
      "0  |  1  |  1\n",
      "0  |  1  |  2\n",
      "0  |  2  |  0\n",
      "0  |  2  |  1\n",
      "0  |  2  |  2\n",
      "0  |  3  |  0\n",
      "0  |  3  |  1\n",
      "0  |  3  |  2\n",
      "1  |  0  |  0\n",
      "1  |  0  |  1\n",
      "1  |  0  |  2\n",
      "1  |  1  |  0\n",
      "1  |  1  |  1\n",
      "1  |  1  |  2\n",
      "1  |  2  |  0\n",
      "1  |  2  |  1\n",
      "1  |  2  |  2\n",
      "1  |  3  |  0\n",
      "1  |  3  |  1\n",
      "1  |  3  |  2\n",
      "2  |  0  |  0\n",
      "2  |  0  |  1\n",
      "2  |  0  |  2\n",
      "2  |  1  |  0\n",
      "2  |  1  |  1\n",
      "2  |  1  |  2\n",
      "2  |  2  |  0\n",
      "2  |  2  |  1\n",
      "2  |  2  |  2\n",
      "2  |  3  |  0\n",
      "2  |  3  |  1\n",
      "2  |  3  |  2\n"
     ]
    }
   ],
   "source": [
    "print(\"i  | j   |  k\")\n",
    "for i in range(len(X)):\n",
    "    for j in range(len(Y[0])):\n",
    "        for k in range(len(Y)):\n",
    "            print(i,\" | \",j,\" | \",k)"
   ]
  },
  {
   "cell_type": "code",
   "execution_count": null,
   "id": "96262a83",
   "metadata": {},
   "outputs": [],
   "source": []
  }
 ],
 "metadata": {
  "kernelspec": {
   "display_name": "Python 3 (ipykernel)",
   "language": "python",
   "name": "python3"
  },
  "language_info": {
   "codemirror_mode": {
    "name": "ipython",
    "version": 3
   },
   "file_extension": ".py",
   "mimetype": "text/x-python",
   "name": "python",
   "nbconvert_exporter": "python",
   "pygments_lexer": "ipython3",
   "version": "3.10.6"
  }
 },
 "nbformat": 4,
 "nbformat_minor": 5
}
