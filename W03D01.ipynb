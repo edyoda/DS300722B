{
 "cells": [
  {
   "cell_type": "markdown",
   "id": "667226a7",
   "metadata": {},
   "source": [
    "## Q1) Reversing individual words in a given string\n",
    "my_string = \"Hi my name is Raj\"<br>\n",
    "\"iH ym eman si jaR\""
   ]
  },
  {
   "cell_type": "code",
   "execution_count": null,
   "id": "93bda18d",
   "metadata": {},
   "outputs": [],
   "source": [
    "str = \"Hi i am ajay\"\n",
    "new_str = str.strip()\n",
    "new_str = new_str.split(\" \")\n",
    "\n",
    "str2= \"\"\n",
    "for i in new_str:\n",
    "    st = \"\"\n",
    "    for j in range(len(i)-1,-1,-1):\n",
    "        st += i[j]\n",
    "    str2 += st+ \" \"\n",
    "print(str2)\n"
   ]
  },
  {
   "cell_type": "code",
   "execution_count": 4,
   "id": "44cdcd59",
   "metadata": {},
   "outputs": [
    {
     "name": "stdout",
     "output_type": "stream",
     "text": [
      "Enter the sentence: Hi i am ajay\n",
      "ajay am i Hi\n"
     ]
    }
   ],
   "source": [
    "\n",
    "str= input(\"Enter the sentence: \")\n",
    "words = str.split()\n",
    "rev_words = words[::-1]\n",
    "sen =\" \".join(rev_words)\n",
    "print(sen)"
   ]
  },
  {
   "cell_type": "code",
   "execution_count": 5,
   "id": "8b91d5e1",
   "metadata": {},
   "outputs": [
    {
     "name": "stdout",
     "output_type": "stream",
     "text": [
      "Hi i am ajay\n",
      "  iH  iiH  maiiH  yajamaiiH \n"
     ]
    }
   ],
   "source": [
    "str = input()\n",
    "str = str + \" \"\n",
    "r = \" \"\n",
    "rev = \" \"\n",
    "for i in str:\n",
    "    if i!=\" \":\n",
    "        r = i + r\n",
    "    else:\n",
    "        rev = rev + \" \" + r\n",
    "print(rev)"
   ]
  },
  {
   "cell_type": "code",
   "execution_count": 21,
   "id": "0ac5a1c2",
   "metadata": {},
   "outputs": [
    {
     "name": "stdout",
     "output_type": "stream",
     "text": [
      "['Hi', 'my', 'name', 'is', 'Raj']\n",
      "['iH', 'ym', 'eman', 'si', 'jaR']\n",
      "iH ym eman si jaR\n"
     ]
    }
   ],
   "source": [
    "my_string = \"Hi my name is Raj\"\n",
    "dm = my_string.split()\n",
    "for i in range(0,len(dm),1):\n",
    "    dm[i] = dm[i][::-1]\n",
    "output_string = ' '.join(dm)\n",
    "print(output_string) "
   ]
  },
  {
   "cell_type": "code",
   "execution_count": 27,
   "id": "1be6afa0",
   "metadata": {},
   "outputs": [
    {
     "data": {
      "text/plain": [
       "'iH ym eman si jaR'"
      ]
     },
     "execution_count": 27,
     "metadata": {},
     "output_type": "execute_result"
    }
   ],
   "source": [
    "my_string = \"Hi my name is Raj\"\n",
    "rev_str = my_string[::-1]\n",
    "# print(rev_str)\n",
    "dm = rev_str.split()\n",
    "\" \".join(dm[::-1])"
   ]
  },
  {
   "cell_type": "code",
   "execution_count": 13,
   "id": "7a214dcc",
   "metadata": {},
   "outputs": [],
   "source": [
    "reverse_str_1 = rev_str.split().reverse()"
   ]
  },
  {
   "cell_type": "code",
   "execution_count": 14,
   "id": "8bbe149c",
   "metadata": {},
   "outputs": [],
   "source": [
    "reverse_str_1"
   ]
  },
  {
   "cell_type": "markdown",
   "id": "6895012e",
   "metadata": {},
   "source": [
    "## Python program to print even length words in a given string\n",
    "\n",
    "my_string = \"Hi I am a student of edyoda class B batch\"<br>\n",
    "\"Hi\"<br>\n",
    "\"am\"<br>\n",
    "\"of\"<br>\n"
   ]
  },
  {
   "cell_type": "code",
   "execution_count": 28,
   "id": "39007d2b",
   "metadata": {},
   "outputs": [
    {
     "name": "stdout",
     "output_type": "stream",
     "text": [
      "i\n",
      "am\n",
      "student\n",
      "of\n",
      "edyoda\n"
     ]
    }
   ],
   "source": [
    "my_str = \"i am student of edyoda\"\n",
    "new_str = my_str.split(\" \")\n",
    "print(\"\\n\".join(new_str))"
   ]
  },
  {
   "cell_type": "code",
   "execution_count": 29,
   "id": "9526c5ca",
   "metadata": {},
   "outputs": [
    {
     "name": "stdout",
     "output_type": "stream",
     "text": [
      "i\n",
      "student\n",
      "edyoda\n"
     ]
    }
   ],
   "source": [
    "my_str = \"i am student of edyoda\"\n",
    "new_str = my_str.split(\" \")\n",
    "for i in range(len(new_str)):\n",
    "    if(i%2==0):\n",
    "        print(new_str[i])"
   ]
  },
  {
   "cell_type": "code",
   "execution_count": 31,
   "id": "82f6fa23",
   "metadata": {},
   "outputs": [
    {
     "data": {
      "text/plain": [
       "['i', 'am', 'student', 'of', 'edyoda']"
      ]
     },
     "execution_count": 31,
     "metadata": {},
     "output_type": "execute_result"
    }
   ],
   "source": [
    "given_string =\"i am student of edyoda\"\n",
    "word_list = given_string.split(\" \")\n",
    "# for word in word_list:\n",
    "#     if len(word)%2 == 0 :\n",
    "#          print (word)\n",
    "word_list"
   ]
  },
  {
   "cell_type": "code",
   "execution_count": 32,
   "id": "76341fe3",
   "metadata": {},
   "outputs": [
    {
     "data": {
      "text/plain": [
       "['am', 'of', 'edyoda']"
      ]
     },
     "execution_count": 32,
     "metadata": {},
     "output_type": "execute_result"
    }
   ],
   "source": [
    "# List comprehension\n",
    "[word for word in word_list if len(word)%2==0]"
   ]
  },
  {
   "cell_type": "code",
   "execution_count": 33,
   "id": "45bb7cd7",
   "metadata": {},
   "outputs": [],
   "source": [
    "integer_list = [1,2,3,4,5,6]\n",
    "new_list = []\n",
    "for number in integer_list:\n",
    "    new_number = number ** 3\n",
    "    new_list.append(new_number)"
   ]
  },
  {
   "cell_type": "code",
   "execution_count": 34,
   "id": "1e732758",
   "metadata": {},
   "outputs": [
    {
     "data": {
      "text/plain": [
       "[1, 8, 27, 64, 125, 216]"
      ]
     },
     "execution_count": 34,
     "metadata": {},
     "output_type": "execute_result"
    }
   ],
   "source": [
    "new_list"
   ]
  },
  {
   "cell_type": "code",
   "execution_count": 36,
   "id": "7a1b9093",
   "metadata": {},
   "outputs": [],
   "source": [
    "new_list = [number**3 for number in integer_list ]"
   ]
  },
  {
   "cell_type": "code",
   "execution_count": 37,
   "id": "72e6a210",
   "metadata": {},
   "outputs": [
    {
     "data": {
      "text/plain": [
       "[1, 8, 27, 64, 125, 216]"
      ]
     },
     "execution_count": 37,
     "metadata": {},
     "output_type": "execute_result"
    }
   ],
   "source": [
    "new_list"
   ]
  },
  {
   "cell_type": "code",
   "execution_count": null,
   "id": "0372528b",
   "metadata": {},
   "outputs": [],
   "source": [
    "## list comprehension [output for_loop_part condition]"
   ]
  },
  {
   "cell_type": "code",
   "execution_count": 40,
   "id": "cb729612",
   "metadata": {},
   "outputs": [],
   "source": [
    "my_list = [1,2,3,4]\n",
    "my_list.append([\"Raj\",\"Arooshi\",\"Shashank\"])"
   ]
  },
  {
   "cell_type": "code",
   "execution_count": 41,
   "id": "0e347fc0",
   "metadata": {},
   "outputs": [
    {
     "data": {
      "text/plain": [
       "[1, 2, 3, 4, ['Raj', 'Arooshi', 'Shashank']]"
      ]
     },
     "execution_count": 41,
     "metadata": {},
     "output_type": "execute_result"
    }
   ],
   "source": [
    "my_list"
   ]
  },
  {
   "cell_type": "code",
   "execution_count": 42,
   "id": "e748032a",
   "metadata": {},
   "outputs": [
    {
     "data": {
      "text/plain": [
       "[1, 2, 3, 4, 'Raj', 'Arooshi', 'Shashank']"
      ]
     },
     "execution_count": 42,
     "metadata": {},
     "output_type": "execute_result"
    }
   ],
   "source": [
    "[1,2,3,4,\"Raj\",\"Arooshi\",\"Shashank\"]"
   ]
  },
  {
   "cell_type": "code",
   "execution_count": 43,
   "id": "898a2900",
   "metadata": {},
   "outputs": [],
   "source": [
    "my_list = [1,2,3,4]\n",
    "my_list.extend([\"Raj\",\"Arooshi\",\"Shashank\"])"
   ]
  },
  {
   "cell_type": "code",
   "execution_count": 44,
   "id": "8159252c",
   "metadata": {},
   "outputs": [
    {
     "data": {
      "text/plain": [
       "[1, 2, 3, 4, 'Raj', 'Arooshi', 'Shashank']"
      ]
     },
     "execution_count": 44,
     "metadata": {},
     "output_type": "execute_result"
    }
   ],
   "source": [
    "my_list"
   ]
  },
  {
   "cell_type": "code",
   "execution_count": 45,
   "id": "2f447de7",
   "metadata": {},
   "outputs": [],
   "source": [
    "my_list = [1,2,3,4]\n",
    "my_list.insert(2,\"Shashank\")"
   ]
  },
  {
   "cell_type": "code",
   "execution_count": 46,
   "id": "eab7422f",
   "metadata": {},
   "outputs": [
    {
     "data": {
      "text/plain": [
       "[1, 2, 'Shashank', 3, 4]"
      ]
     },
     "execution_count": 46,
     "metadata": {},
     "output_type": "execute_result"
    }
   ],
   "source": [
    "my_list"
   ]
  },
  {
   "cell_type": "code",
   "execution_count": 47,
   "id": "d34ae96b",
   "metadata": {},
   "outputs": [
    {
     "data": {
      "text/plain": [
       "tuple"
      ]
     },
     "execution_count": 47,
     "metadata": {},
     "output_type": "execute_result"
    }
   ],
   "source": [
    "#Python program to convert tuple to a string\n",
    "given_tuple = (\"Raj\",\"is\",\"a\",\"good\",\"python\",\"developer\")\n",
    "type(given_tuple)"
   ]
  },
  {
   "cell_type": "code",
   "execution_count": 48,
   "id": "6cbabc80",
   "metadata": {},
   "outputs": [
    {
     "name": "stdout",
     "output_type": "stream",
     "text": [
      "('Raj', 'is', 'a', 'good', 'python', 'developer')\n"
     ]
    }
   ],
   "source": [
    "print(given_tuple)"
   ]
  },
  {
   "cell_type": "code",
   "execution_count": 53,
   "id": "042727d9",
   "metadata": {},
   "outputs": [
    {
     "name": "stdout",
     "output_type": "stream",
     "text": [
      "Raj is a good python developer \n"
     ]
    }
   ],
   "source": [
    "string_output = \"\"\n",
    "for word in given_tuple:\n",
    "    string_output += word+\" \"\n",
    "print(string_output)"
   ]
  },
  {
   "cell_type": "code",
   "execution_count": 54,
   "id": "10a2d659",
   "metadata": {},
   "outputs": [
    {
     "data": {
      "text/plain": [
       "'Raj is a good python developer'"
      ]
     },
     "execution_count": 54,
     "metadata": {},
     "output_type": "execute_result"
    }
   ],
   "source": [
    "\" \".join(given_tuple)"
   ]
  },
  {
   "cell_type": "code",
   "execution_count": 55,
   "id": "7d37e862",
   "metadata": {},
   "outputs": [],
   "source": [
    "my_list = [1,2,4,5,6,7,8,10,11]\n",
    "even_list = []\n",
    "for num in my_list:\n",
    "    if num%2 ==0:\n",
    "        even_list.append(num)\n",
    "    "
   ]
  },
  {
   "cell_type": "code",
   "execution_count": 56,
   "id": "7de2ab90",
   "metadata": {},
   "outputs": [
    {
     "data": {
      "text/plain": [
       "[2, 4, 6, 8, 10]"
      ]
     },
     "execution_count": 56,
     "metadata": {},
     "output_type": "execute_result"
    }
   ],
   "source": [
    "even_list"
   ]
  },
  {
   "cell_type": "code",
   "execution_count": 57,
   "id": "9f795b93",
   "metadata": {},
   "outputs": [
    {
     "data": {
      "text/plain": [
       "[2, 4, 6, 8, 10]"
      ]
     },
     "execution_count": 57,
     "metadata": {},
     "output_type": "execute_result"
    }
   ],
   "source": [
    " [num for num in my_list if num%2 ==0]"
   ]
  },
  {
   "cell_type": "code",
   "execution_count": 58,
   "id": "d1adcdf8",
   "metadata": {},
   "outputs": [
    {
     "name": "stdout",
     "output_type": "stream",
     "text": [
      "1 2 3 4 5\n"
     ]
    }
   ],
   "source": [
    "user_input = input()"
   ]
  },
  {
   "cell_type": "code",
   "execution_count": 59,
   "id": "e51d813b",
   "metadata": {},
   "outputs": [
    {
     "data": {
      "text/plain": [
       "'1 2 3 4 5'"
      ]
     },
     "execution_count": 59,
     "metadata": {},
     "output_type": "execute_result"
    }
   ],
   "source": [
    "user_input"
   ]
  },
  {
   "cell_type": "code",
   "execution_count": 62,
   "id": "98e6dc0e",
   "metadata": {},
   "outputs": [
    {
     "data": {
      "text/plain": [
       "[1, 2, 3, 4, 5]"
      ]
     },
     "execution_count": 62,
     "metadata": {},
     "output_type": "execute_result"
    }
   ],
   "source": [
    "[int(num) for num in user_input.split()]"
   ]
  },
  {
   "cell_type": "code",
   "execution_count": 66,
   "id": "3e9a3194",
   "metadata": {},
   "outputs": [
    {
     "name": "stdout",
     "output_type": "stream",
     "text": [
      "1 2 3 4 5\n"
     ]
    }
   ],
   "source": [
    "list_input = list(map(int,input().split()))"
   ]
  },
  {
   "cell_type": "code",
   "execution_count": 67,
   "id": "f283dbce",
   "metadata": {},
   "outputs": [
    {
     "data": {
      "text/plain": [
       "[1, 2, 3, 4, 5]"
      ]
     },
     "execution_count": 67,
     "metadata": {},
     "output_type": "execute_result"
    }
   ],
   "source": [
    "list_input"
   ]
  },
  {
   "cell_type": "code",
   "execution_count": 68,
   "id": "457d3fa6",
   "metadata": {},
   "outputs": [
    {
     "data": {
      "text/plain": [
       "[5, 10, 15, 20, 25]"
      ]
     },
     "execution_count": 68,
     "metadata": {},
     "output_type": "execute_result"
    }
   ],
   "source": [
    "a=[1,2,3,4,5]\n",
    "[i*5 for i in a ]\n"
   ]
  },
  {
   "cell_type": "code",
   "execution_count": null,
   "id": "e53d8417",
   "metadata": {},
   "outputs": [],
   "source": []
  }
 ],
 "metadata": {
  "kernelspec": {
   "display_name": "Python 3 (ipykernel)",
   "language": "python",
   "name": "python3"
  },
  "language_info": {
   "codemirror_mode": {
    "name": "ipython",
    "version": 3
   },
   "file_extension": ".py",
   "mimetype": "text/x-python",
   "name": "python",
   "nbconvert_exporter": "python",
   "pygments_lexer": "ipython3",
   "version": "3.10.6"
  }
 },
 "nbformat": 4,
 "nbformat_minor": 5
}
