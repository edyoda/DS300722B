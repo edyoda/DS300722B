{
 "cells": [
  {
   "cell_type": "code",
   "execution_count": null,
   "id": "08113911",
   "metadata": {},
   "outputs": [],
   "source": [
    "1. Can I add elements into a list present inside a tuple?"
   ]
  },
  {
   "cell_type": "code",
   "execution_count": 1,
   "id": "5e826f54",
   "metadata": {},
   "outputs": [],
   "source": [
    "tuple_x = (1,2,3,[9,8,7])"
   ]
  },
  {
   "cell_type": "code",
   "execution_count": 3,
   "id": "db8447a0",
   "metadata": {},
   "outputs": [],
   "source": [
    "tuple_y = (5,6,7,[\"Arushi\",\"Raj\"])"
   ]
  },
  {
   "cell_type": "code",
   "execution_count": 4,
   "id": "fd189746",
   "metadata": {},
   "outputs": [
    {
     "data": {
      "text/plain": [
       "(1, 2, 3, [9, 8, 7], 5, 6, 7, ['Arushi', 'Raj'])"
      ]
     },
     "execution_count": 4,
     "metadata": {},
     "output_type": "execute_result"
    }
   ],
   "source": [
    "tuple_x+tuple_y"
   ]
  },
  {
   "cell_type": "code",
   "execution_count": 7,
   "id": "fc72d656",
   "metadata": {},
   "outputs": [
    {
     "name": "stdout",
     "output_type": "stream",
     "text": [
      "2468873050912\n",
      "2468872780784\n",
      "2468908784448\n"
     ]
    }
   ],
   "source": [
    "print(id(tuple_x))\n",
    "print(id(tuple_y))\n",
    "print(id(tuple_x+tuple_y))"
   ]
  },
  {
   "cell_type": "code",
   "execution_count": 9,
   "id": "88f3af7b",
   "metadata": {},
   "outputs": [],
   "source": [
    "tuple_x[3].append(100)"
   ]
  },
  {
   "cell_type": "code",
   "execution_count": 10,
   "id": "aa83b7b4",
   "metadata": {},
   "outputs": [
    {
     "data": {
      "text/plain": [
       "(1, 2, 3, [9, 8, 7, 100])"
      ]
     },
     "execution_count": 10,
     "metadata": {},
     "output_type": "execute_result"
    }
   ],
   "source": [
    "tuple_x"
   ]
  },
  {
   "cell_type": "code",
   "execution_count": null,
   "id": "969bb279",
   "metadata": {},
   "outputs": [],
   "source": []
  },
  {
   "cell_type": "code",
   "execution_count": null,
   "id": "1038c435",
   "metadata": {},
   "outputs": [],
   "source": []
  },
  {
   "cell_type": "markdown",
   "id": "bd54092a",
   "metadata": {},
   "source": [
    "2    What data types are eligible for becoming keys in dict?<br>\n",
    "   - tuples         y\n",
    "   - list\n",
    "   - Float          y\n",
    "   - set"
   ]
  },
  {
   "cell_type": "code",
   "execution_count": 14,
   "id": "4c36f933",
   "metadata": {},
   "outputs": [
    {
     "ename": "TypeError",
     "evalue": "unhashable type: 'set'",
     "output_type": "error",
     "traceback": [
      "\u001b[1;31m---------------------------------------------------------------------------\u001b[0m",
      "\u001b[1;31mTypeError\u001b[0m                                 Traceback (most recent call last)",
      "Input \u001b[1;32mIn [14]\u001b[0m, in \u001b[0;36m<cell line: 1>\u001b[1;34m()\u001b[0m\n\u001b[1;32m----> 1\u001b[0m dict_x \u001b[38;5;241m=\u001b[39m {{\u001b[38;5;241m1\u001b[39m,\u001b[38;5;241m2\u001b[39m,\u001b[38;5;241m3\u001b[39m}:\u001b[38;5;124m\"\u001b[39m\u001b[38;5;124mRaj\u001b[39m\u001b[38;5;124m\"\u001b[39m}\n",
      "\u001b[1;31mTypeError\u001b[0m: unhashable type: 'set'"
     ]
    }
   ],
   "source": [
    "dict_x = {{1,2,3}:\"Raj\"}"
   ]
  },
  {
   "cell_type": "code",
   "execution_count": 16,
   "id": "45c32dc1",
   "metadata": {},
   "outputs": [
    {
     "data": {
      "text/plain": [
       "2468879717024"
      ]
     },
     "execution_count": 16,
     "metadata": {},
     "output_type": "execute_result"
    }
   ],
   "source": [
    "set_x = {1,2,3}\n",
    "id(set_x)"
   ]
  },
  {
   "cell_type": "code",
   "execution_count": 17,
   "id": "1131317a",
   "metadata": {},
   "outputs": [
    {
     "data": {
      "text/plain": [
       "2468879717024"
      ]
     },
     "execution_count": 17,
     "metadata": {},
     "output_type": "execute_result"
    }
   ],
   "source": [
    "set_x.add(5)\n",
    "id(set_x)"
   ]
  },
  {
   "cell_type": "markdown",
   "id": "9ce144a3",
   "metadata": {},
   "source": [
    "3    Where is indexing NOT possible?<br>\n",
    "-      list\n",
    "-       Set        y\n",
    "-      dict       y\n",
    "-      string\n"
   ]
  },
  {
   "cell_type": "code",
   "execution_count": 18,
   "id": "4474bd2d",
   "metadata": {},
   "outputs": [
    {
     "data": {
      "text/plain": [
       "3"
      ]
     },
     "execution_count": 18,
     "metadata": {},
     "output_type": "execute_result"
    }
   ],
   "source": [
    "a_list = [1,2,3,4]\n",
    "a_list[2]"
   ]
  },
  {
   "cell_type": "code",
   "execution_count": 19,
   "id": "a990d01f",
   "metadata": {},
   "outputs": [
    {
     "data": {
      "text/plain": [
       "'j'"
      ]
     },
     "execution_count": 19,
     "metadata": {},
     "output_type": "execute_result"
    }
   ],
   "source": [
    "my_str = \"Raj\"\n",
    "my_str[2]"
   ]
  },
  {
   "cell_type": "code",
   "execution_count": 21,
   "id": "43b4c8a6",
   "metadata": {},
   "outputs": [],
   "source": [
    "my_dict = {\"Raj\":2}"
   ]
  },
  {
   "cell_type": "code",
   "execution_count": 22,
   "id": "45a2240d",
   "metadata": {},
   "outputs": [
    {
     "ename": "KeyError",
     "evalue": "0",
     "output_type": "error",
     "traceback": [
      "\u001b[1;31m---------------------------------------------------------------------------\u001b[0m",
      "\u001b[1;31mKeyError\u001b[0m                                  Traceback (most recent call last)",
      "Input \u001b[1;32mIn [22]\u001b[0m, in \u001b[0;36m<cell line: 1>\u001b[1;34m()\u001b[0m\n\u001b[1;32m----> 1\u001b[0m \u001b[43mmy_dict\u001b[49m\u001b[43m[\u001b[49m\u001b[38;5;241;43m0\u001b[39;49m\u001b[43m]\u001b[49m\n",
      "\u001b[1;31mKeyError\u001b[0m: 0"
     ]
    }
   ],
   "source": [
    "my_dict[0]"
   ]
  },
  {
   "cell_type": "code",
   "execution_count": 23,
   "id": "a3a5c2a6",
   "metadata": {},
   "outputs": [],
   "source": [
    "x = [(1,2,3),{1,1,1,2},\"This Question is Easy Please don't skip it\",3.14]"
   ]
  },
  {
   "cell_type": "code",
   "execution_count": 24,
   "id": "d500cdaf",
   "metadata": {},
   "outputs": [
    {
     "data": {
      "text/plain": [
       "(1, 2, 3)"
      ]
     },
     "execution_count": 24,
     "metadata": {},
     "output_type": "execute_result"
    }
   ],
   "source": [
    "x[0]"
   ]
  },
  {
   "cell_type": "code",
   "execution_count": 26,
   "id": "76066a86",
   "metadata": {},
   "outputs": [
    {
     "data": {
      "text/plain": [
       "1"
      ]
     },
     "execution_count": 26,
     "metadata": {},
     "output_type": "execute_result"
    }
   ],
   "source": [
    "x[0][0]"
   ]
  },
  {
   "cell_type": "code",
   "execution_count": null,
   "id": "a4ab0de4",
   "metadata": {},
   "outputs": [],
   "source": []
  },
  {
   "cell_type": "code",
   "execution_count": 25,
   "id": "2fb1fe2a",
   "metadata": {},
   "outputs": [
    {
     "data": {
      "text/plain": [
       "{1, 2}"
      ]
     },
     "execution_count": 25,
     "metadata": {},
     "output_type": "execute_result"
    }
   ],
   "source": [
    "x[1]"
   ]
  },
  {
   "cell_type": "code",
   "execution_count": 27,
   "id": "d0dfd62c",
   "metadata": {},
   "outputs": [
    {
     "ename": "TypeError",
     "evalue": "'set' object is not subscriptable",
     "output_type": "error",
     "traceback": [
      "\u001b[1;31m---------------------------------------------------------------------------\u001b[0m",
      "\u001b[1;31mTypeError\u001b[0m                                 Traceback (most recent call last)",
      "Input \u001b[1;32mIn [27]\u001b[0m, in \u001b[0;36m<cell line: 1>\u001b[1;34m()\u001b[0m\n\u001b[1;32m----> 1\u001b[0m \u001b[43mx\u001b[49m\u001b[43m[\u001b[49m\u001b[38;5;241;43m1\u001b[39;49m\u001b[43m]\u001b[49m\u001b[43m[\u001b[49m\u001b[38;5;241;43m0\u001b[39;49m\u001b[43m]\u001b[49m\n",
      "\u001b[1;31mTypeError\u001b[0m: 'set' object is not subscriptable"
     ]
    }
   ],
   "source": [
    "x[1][0]"
   ]
  },
  {
   "cell_type": "code",
   "execution_count": 29,
   "id": "e207d625",
   "metadata": {},
   "outputs": [
    {
     "name": "stdout",
     "output_type": "stream",
     "text": [
      "1 2468789747952\n",
      "2 2468789747984\n"
     ]
    }
   ],
   "source": [
    "for element in x[1]:\n",
    "    print(element,id(element))"
   ]
  },
  {
   "cell_type": "code",
   "execution_count": 30,
   "id": "9347e5b9",
   "metadata": {},
   "outputs": [
    {
     "name": "stdout",
     "output_type": "stream",
     "text": [
      "1 2468789747952\n",
      "2 2468789747984\n",
      "3 2468789748016\n"
     ]
    }
   ],
   "source": [
    "for element in x[0]:\n",
    "    print(element,id(element))"
   ]
  },
  {
   "cell_type": "code",
   "execution_count": 34,
   "id": "2275da48",
   "metadata": {},
   "outputs": [
    {
     "data": {
      "text/plain": [
       "'pq'"
      ]
     },
     "execution_count": 34,
     "metadata": {},
     "output_type": "execute_result"
    }
   ],
   "source": [
    " 'p' + 'q' if '12'.isdigit() else 'r' + 's'"
   ]
  },
  {
   "cell_type": "code",
   "execution_count": 36,
   "id": "15138da9",
   "metadata": {},
   "outputs": [
    {
     "name": "stdout",
     "output_type": "stream",
     "text": [
      "pq\n"
     ]
    }
   ],
   "source": [
    "if \"12\".isdigit():\n",
    "    print('p'+'q')\n",
    "else:\n",
    "    print('r'+'s')"
   ]
  },
  {
   "cell_type": "code",
   "execution_count": 31,
   "id": "bfb71bd4",
   "metadata": {},
   "outputs": [
    {
     "name": "stdout",
     "output_type": "stream",
     "text": [
      "Help on method_descriptor:\n",
      "\n",
      "isdigit(self, /)\n",
      "    Return True if the string is a digit string, False otherwise.\n",
      "    \n",
      "    A string is a digit string if all characters in the string are digits and there\n",
      "    is at least one character in the string.\n",
      "\n"
     ]
    }
   ],
   "source": [
    "help(str.isdigit)"
   ]
  },
  {
   "cell_type": "code",
   "execution_count": 32,
   "id": "8b320123",
   "metadata": {},
   "outputs": [
    {
     "data": {
      "text/plain": [
       "True"
      ]
     },
     "execution_count": 32,
     "metadata": {},
     "output_type": "execute_result"
    }
   ],
   "source": [
    "\"12\".isdigit()"
   ]
  },
  {
   "cell_type": "code",
   "execution_count": 33,
   "id": "d98f41cf",
   "metadata": {},
   "outputs": [
    {
     "data": {
      "text/plain": [
       "False"
      ]
     },
     "execution_count": 33,
     "metadata": {},
     "output_type": "execute_result"
    }
   ],
   "source": [
    "\"12Raj\".isdigit()"
   ]
  },
  {
   "cell_type": "code",
   "execution_count": 35,
   "id": "e23cdbe3",
   "metadata": {},
   "outputs": [
    {
     "data": {
      "text/plain": [
       "'RahulThakur'"
      ]
     },
     "execution_count": 35,
     "metadata": {},
     "output_type": "execute_result"
    }
   ],
   "source": [
    "\"Rahul\"+\"Thakur\""
   ]
  },
  {
   "cell_type": "code",
   "execution_count": 37,
   "id": "697a7f1d",
   "metadata": {},
   "outputs": [
    {
     "name": "stdout",
     "output_type": "stream",
     "text": [
      "15\n"
     ]
    }
   ],
   "source": [
    "def outerFun(a, b):\n",
    "    def innerFun(c, d):\n",
    "        return c + d\n",
    "    return innerFun(a, b)\n",
    "    return a\n",
    "result = outerFun(5, 10)\n",
    "print(result)"
   ]
  },
  {
   "cell_type": "code",
   "execution_count": 38,
   "id": "7f0bb563",
   "metadata": {},
   "outputs": [],
   "source": [
    "def random_stuff(x,y):\n",
    "    return x+y\n",
    "    return x"
   ]
  },
  {
   "cell_type": "code",
   "execution_count": null,
   "id": "5554420f",
   "metadata": {},
   "outputs": [],
   "source": []
  },
  {
   "cell_type": "code",
   "execution_count": 39,
   "id": "3052d8d9",
   "metadata": {},
   "outputs": [
    {
     "data": {
      "text/plain": [
       "3"
      ]
     },
     "execution_count": 39,
     "metadata": {},
     "output_type": "execute_result"
    }
   ],
   "source": [
    "random_stuff(1,2)"
   ]
  },
  {
   "cell_type": "code",
   "execution_count": null,
   "id": "25e49b7c",
   "metadata": {},
   "outputs": [],
   "source": [
    "6  Which Statements are True:\n",
    "a) Tuples are immutable.\n",
    "\n",
    "b) We can modify a list even if it is present inside a tuple.\n",
    "\n",
    "c) Strings are mutable. False\n",
    "d) Sets can contain mutable elements False\n"
   ]
  },
  {
   "cell_type": "code",
   "execution_count": 40,
   "id": "fd07ed57",
   "metadata": {},
   "outputs": [],
   "source": [
    "set_x = {1,2,3}"
   ]
  },
  {
   "cell_type": "code",
   "execution_count": 41,
   "id": "5779b6ea",
   "metadata": {},
   "outputs": [
    {
     "ename": "TypeError",
     "evalue": "unhashable type: 'list'",
     "output_type": "error",
     "traceback": [
      "\u001b[1;31m---------------------------------------------------------------------------\u001b[0m",
      "\u001b[1;31mTypeError\u001b[0m                                 Traceback (most recent call last)",
      "Input \u001b[1;32mIn [41]\u001b[0m, in \u001b[0;36m<cell line: 1>\u001b[1;34m()\u001b[0m\n\u001b[1;32m----> 1\u001b[0m \u001b[43mset_x\u001b[49m\u001b[38;5;241;43m.\u001b[39;49m\u001b[43madd\u001b[49m\u001b[43m(\u001b[49m\u001b[43m[\u001b[49m\u001b[38;5;241;43m1\u001b[39;49m\u001b[43m,\u001b[49m\u001b[38;5;241;43m2\u001b[39;49m\u001b[43m,\u001b[49m\u001b[38;5;241;43m3\u001b[39;49m\u001b[43m]\u001b[49m\u001b[43m)\u001b[49m\n",
      "\u001b[1;31mTypeError\u001b[0m: unhashable type: 'list'"
     ]
    }
   ],
   "source": [
    "set_x.add([1,2,3])"
   ]
  },
  {
   "cell_type": "code",
   "execution_count": 47,
   "id": "5c92e1ba",
   "metadata": {},
   "outputs": [],
   "source": [
    "tuple_x = (1,)"
   ]
  },
  {
   "cell_type": "code",
   "execution_count": 48,
   "id": "4ca833bf",
   "metadata": {},
   "outputs": [
    {
     "data": {
      "text/plain": [
       "tuple"
      ]
     },
     "execution_count": 48,
     "metadata": {},
     "output_type": "execute_result"
    }
   ],
   "source": [
    "type(tuple_x)"
   ]
  },
  {
   "cell_type": "code",
   "execution_count": 49,
   "id": "c93b893f",
   "metadata": {},
   "outputs": [],
   "source": [
    "a, b, c = (1, 2, 3, 4, 5, 6, 7, 8, 9)[1::3]\n"
   ]
  },
  {
   "cell_type": "code",
   "execution_count": 52,
   "id": "25d62ac5",
   "metadata": {},
   "outputs": [],
   "source": [
    "x  = (1, 2, 3, 4, 5, 6, 7, 8, 9)"
   ]
  },
  {
   "cell_type": "code",
   "execution_count": 50,
   "id": "2c835ba1",
   "metadata": {},
   "outputs": [
    {
     "data": {
      "text/plain": [
       "5"
      ]
     },
     "execution_count": 50,
     "metadata": {},
     "output_type": "execute_result"
    }
   ],
   "source": [
    "b"
   ]
  },
  {
   "cell_type": "code",
   "execution_count": 53,
   "id": "c58471f6",
   "metadata": {},
   "outputs": [
    {
     "name": "stdout",
     "output_type": "stream",
     "text": [
      "2\n",
      "5\n",
      "8\n"
     ]
    }
   ],
   "source": [
    "for i in range(1,9,3):\n",
    "    print(x[i])"
   ]
  },
  {
   "cell_type": "code",
   "execution_count": null,
   "id": "90c1503c",
   "metadata": {},
   "outputs": [],
   "source": [
    "9  Which of the following are true of Python lists?\n",
    "·    All elements in a list must be of the same type.False\n",
    "·    A given object may appear in a list more than once.True\n",
    "·        A list may contain any type of object except another list.False\n",
    "       There is conceptual limit to the size of a list.False\n"
   ]
  },
  {
   "cell_type": "code",
   "execution_count": 54,
   "id": "f336f70d",
   "metadata": {},
   "outputs": [
    {
     "data": {
      "text/plain": [
       "[1, 2, 3, [1, 2, 3]]"
      ]
     },
     "execution_count": 54,
     "metadata": {},
     "output_type": "execute_result"
    }
   ],
   "source": [
    "[1,2,3,[1,2,3]]"
   ]
  },
  {
   "cell_type": "code",
   "execution_count": null,
   "id": "d595d1cb",
   "metadata": {},
   "outputs": [],
   "source": []
  },
  {
   "cell_type": "code",
   "execution_count": null,
   "id": "19f4dbb1",
   "metadata": {},
   "outputs": [],
   "source": []
  },
  {
   "cell_type": "code",
   "execution_count": null,
   "id": "5204f088",
   "metadata": {},
   "outputs": [],
   "source": [
    "10  Which of the following define the set {'a', 'b', 'c'}:\n",
    "       s = set('a', 'b', 'c')\n",
    "·        s = set(['a', 'b', 'c'])      y\n",
    "·        s = {'a', 'b', 'c'}         y\n",
    "·        s = {('a', 'b', 'c')}"
   ]
  },
  {
   "cell_type": "code",
   "execution_count": 56,
   "id": "fa527275",
   "metadata": {},
   "outputs": [],
   "source": [
    "s = set(['a', 'b', 'c'])"
   ]
  },
  {
   "cell_type": "code",
   "execution_count": 58,
   "id": "9c8954e2",
   "metadata": {},
   "outputs": [],
   "source": [
    "s = {('a', 'b', 'c')}"
   ]
  },
  {
   "cell_type": "code",
   "execution_count": 61,
   "id": "d49ea0a1",
   "metadata": {},
   "outputs": [
    {
     "data": {
      "text/plain": [
       "{('a', 'b', 'c')}"
      ]
     },
     "execution_count": 61,
     "metadata": {},
     "output_type": "execute_result"
    }
   ],
   "source": [
    "s"
   ]
  },
  {
   "cell_type": "code",
   "execution_count": 63,
   "id": "90e1d693",
   "metadata": {},
   "outputs": [
    {
     "data": {
      "text/plain": [
       "1"
      ]
     },
     "execution_count": 63,
     "metadata": {},
     "output_type": "execute_result"
    }
   ],
   "source": [
    "len(s)"
   ]
  },
  {
   "cell_type": "code",
   "execution_count": null,
   "id": "82a9fcee",
   "metadata": {},
   "outputs": [],
   "source": [
    "11 Which of the following are true for objects of Python’s set type:\n",
    "·     The order of elements in a set is significant.False\n",
    "·     A given element can’t appear in a set more than once True\n",
    "      A set may contain elements that are mutable.False\n",
    "·     Sets are immutable.False"
   ]
  },
  {
   "cell_type": "code",
   "execution_count": null,
   "id": "2b368926",
   "metadata": {},
   "outputs": [],
   "source": [
    "Which of the following are true of Python dictionaries:\n",
    "·      A dictionary can contain any object type except another dictionary.False\n",
    "       Items are accessed by their position in a dictionary.False\n",
    "·      Dictionaries are immutable:False\n",
    "·      Dictionaries can be nested to any depth:True"
   ]
  },
  {
   "cell_type": "code",
   "execution_count": 65,
   "id": "917e5b37",
   "metadata": {},
   "outputs": [],
   "source": [
    "x = {\"raj\":10,\"rahul\":15}"
   ]
  },
  {
   "cell_type": "code",
   "execution_count": 67,
   "id": "50d236fd",
   "metadata": {},
   "outputs": [
    {
     "name": "stdout",
     "output_type": "stream",
     "text": [
      "raj   10\n",
      "rahul   15\n"
     ]
    }
   ],
   "source": [
    "for key,value in x.items():\n",
    "    print(key,\" \",value)"
   ]
  },
  {
   "cell_type": "code",
   "execution_count": 68,
   "id": "6a9f0d64",
   "metadata": {},
   "outputs": [
    {
     "data": {
      "text/plain": [
       "True"
      ]
     },
     "execution_count": 68,
     "metadata": {},
     "output_type": "execute_result"
    }
   ],
   "source": [
    "1 in [1,2,3]"
   ]
  },
  {
   "cell_type": "code",
   "execution_count": 69,
   "id": "87ce0a29",
   "metadata": {},
   "outputs": [
    {
     "name": "stdout",
     "output_type": "stream",
     "text": [
      "0    1\n",
      "1    2\n",
      "2    3\n",
      "3    4\n"
     ]
    }
   ],
   "source": [
    "for i,j in enumerate([1,2,3,4]):\n",
    "    print(i,\"  \",j)"
   ]
  },
  {
   "cell_type": "code",
   "execution_count": 70,
   "id": "ad0a791b",
   "metadata": {},
   "outputs": [
    {
     "name": "stdout",
     "output_type": "stream",
     "text": [
      "0   1\n",
      "1   2\n",
      "2   3\n",
      "3   4\n"
     ]
    }
   ],
   "source": [
    "for i in range(0,len([1,2,3,4])):\n",
    "    print(i,\" \",[1,2,3,4][i])"
   ]
  },
  {
   "cell_type": "code",
   "execution_count": 83,
   "id": "71be82e9",
   "metadata": {},
   "outputs": [
    {
     "name": "stdout",
     "output_type": "stream",
     "text": [
      "emp Kelly\n",
      "salary 9000\n"
     ]
    }
   ],
   "source": [
    "def display(**kwargs):\n",
    "    for i,j in kwargs.items():\n",
    "        print(i,j)\n",
    "\n",
    "display(emp=\"Kelly\", salary=9000)\n"
   ]
  },
  {
   "cell_type": "code",
   "execution_count": 81,
   "id": "f775e0b1",
   "metadata": {},
   "outputs": [
    {
     "name": "stdout",
     "output_type": "stream",
     "text": [
      "one 1\n",
      "two 2\n",
      "three 3\n"
     ]
    }
   ],
   "source": [
    "fun1(one = 1,two = 2,three = 3)"
   ]
  },
  {
   "cell_type": "code",
   "execution_count": 88,
   "id": "1e24b45f",
   "metadata": {},
   "outputs": [],
   "source": [
    "a_list = [1,9,3,4]"
   ]
  },
  {
   "cell_type": "code",
   "execution_count": 86,
   "id": "b97245b3",
   "metadata": {},
   "outputs": [],
   "source": [
    "a_list.sort()"
   ]
  },
  {
   "cell_type": "code",
   "execution_count": 87,
   "id": "99ce99ba",
   "metadata": {},
   "outputs": [
    {
     "data": {
      "text/plain": [
       "[1, 3, 4, 9]"
      ]
     },
     "execution_count": 87,
     "metadata": {},
     "output_type": "execute_result"
    }
   ],
   "source": [
    "a_list"
   ]
  },
  {
   "cell_type": "code",
   "execution_count": 89,
   "id": "6778e174",
   "metadata": {},
   "outputs": [
    {
     "data": {
      "text/plain": [
       "[1, 3, 4, 9]"
      ]
     },
     "execution_count": 89,
     "metadata": {},
     "output_type": "execute_result"
    }
   ],
   "source": [
    "sorted(a_list)"
   ]
  },
  {
   "cell_type": "code",
   "execution_count": 90,
   "id": "9328cb95",
   "metadata": {},
   "outputs": [
    {
     "data": {
      "text/plain": [
       "[1, 9, 3, 4]"
      ]
     },
     "execution_count": 90,
     "metadata": {},
     "output_type": "execute_result"
    }
   ],
   "source": [
    "a_list"
   ]
  },
  {
   "cell_type": "code",
   "execution_count": 91,
   "id": "d5bd94ca",
   "metadata": {},
   "outputs": [],
   "source": [
    "import math"
   ]
  },
  {
   "cell_type": "code",
   "execution_count": 92,
   "id": "3c91741b",
   "metadata": {},
   "outputs": [
    {
     "data": {
      "text/plain": [
       "3.0"
      ]
     },
     "execution_count": 92,
     "metadata": {},
     "output_type": "execute_result"
    }
   ],
   "source": [
    "math.sqrt(9)"
   ]
  },
  {
   "cell_type": "code",
   "execution_count": 93,
   "id": "4d302195",
   "metadata": {},
   "outputs": [],
   "source": [
    "import os"
   ]
  },
  {
   "cell_type": "code",
   "execution_count": 94,
   "id": "a72969c9",
   "metadata": {},
   "outputs": [
    {
     "data": {
      "text/plain": [
       "['.git',\n",
       " '.ipynb_checkpoints',\n",
       " 'classes and objects.ipynb',\n",
       " 'Doubt-Session-11September22.ipynb',\n",
       " 'Magic Methods.ipynb',\n",
       " 'Objects,Classes,Inheritance.ipynb',\n",
       " 'README.md',\n",
       " 'Untitled.ipynb',\n",
       " 'Untitled1.ipynb',\n",
       " 'Untitled2.ipynb',\n",
       " 'Untitled3.ipynb',\n",
       " 'W01D02.ipynb',\n",
       " 'W01D03.ipynb',\n",
       " 'W01D04.ipynb',\n",
       " 'W02D01.ipynb',\n",
       " 'W02D03.ipynb',\n",
       " 'W02D04.ipynb',\n",
       " 'W02D05.ipynb',\n",
       " 'W02D06.ipynb',\n",
       " 'W03D01.ipynb',\n",
       " 'W03D02.ipynb',\n",
       " 'W03D04.ipynb',\n",
       " 'W03D05.ipynb',\n",
       " 'W04D01.ipynb',\n",
       " 'W04D02.ipynb',\n",
       " 'W05D02.ipynb',\n",
       " 'W05D03.ipynb',\n",
       " 'W05D04.ipynb']"
      ]
     },
     "execution_count": 94,
     "metadata": {},
     "output_type": "execute_result"
    }
   ],
   "source": [
    "os.listdir()"
   ]
  },
  {
   "cell_type": "code",
   "execution_count": 105,
   "id": "d055ce24",
   "metadata": {},
   "outputs": [],
   "source": [
    "x = 75\n",
    "def myfunc():\n",
    "    x = x + 1\n",
    "    print(x)\n",
    "\n"
   ]
  },
  {
   "cell_type": "code",
   "execution_count": 106,
   "id": "4cf4c8b6",
   "metadata": {},
   "outputs": [
    {
     "name": "stdout",
     "output_type": "stream",
     "text": [
      "76\n",
      "76\n"
     ]
    }
   ],
   "source": [
    "myfunc()\n",
    "print(x)"
   ]
  },
  {
   "cell_type": "code",
   "execution_count": 104,
   "id": "c9d9a2b4",
   "metadata": {},
   "outputs": [
    {
     "ename": "NameError",
     "evalue": "name 'raj' is not defined",
     "output_type": "error",
     "traceback": [
      "\u001b[1;31m---------------------------------------------------------------------------\u001b[0m",
      "\u001b[1;31mNameError\u001b[0m                                 Traceback (most recent call last)",
      "Input \u001b[1;32mIn [104]\u001b[0m, in \u001b[0;36m<cell line: 1>\u001b[1;34m()\u001b[0m\n\u001b[1;32m----> 1\u001b[0m raj  \u001b[38;5;241m=\u001b[39m \u001b[43mraj\u001b[49m\u001b[38;5;241m+\u001b[39m\u001b[38;5;241m1\u001b[39m\n",
      "\u001b[1;31mNameError\u001b[0m: name 'raj' is not defined"
     ]
    }
   ],
   "source": [
    "raj  = raj+1"
   ]
  },
  {
   "cell_type": "code",
   "execution_count": 115,
   "id": "db68d150",
   "metadata": {},
   "outputs": [
    {
     "data": {
      "text/plain": [
       "re.ASCII"
      ]
     },
     "execution_count": 115,
     "metadata": {},
     "output_type": "execute_result"
    }
   ],
   "source": [
    "import re\n",
    "\n",
    "re.ASCII\n"
   ]
  },
  {
   "cell_type": "code",
   "execution_count": 109,
   "id": "b4c2e875",
   "metadata": {},
   "outputs": [
    {
     "name": "stdout",
     "output_type": "stream",
     "text": [
      "Help on RegexFlag in module re object:\n",
      "\n",
      "class RegexFlag(enum.IntFlag)\n",
      " |  RegexFlag(value, names=None, *, module=None, qualname=None, type=None, start=1)\n",
      " |  \n",
      " |  An enumeration.\n",
      " |  \n",
      " |  Method resolution order:\n",
      " |      RegexFlag\n",
      " |      enum.IntFlag\n",
      " |      builtins.int\n",
      " |      enum.Flag\n",
      " |      enum.Enum\n",
      " |      builtins.object\n",
      " |  \n",
      " |  Data and other attributes defined here:\n",
      " |  \n",
      " |  ASCII = re.ASCII\n",
      " |  \n",
      " |  DEBUG = re.DEBUG\n",
      " |  \n",
      " |  DOTALL = re.DOTALL\n",
      " |  \n",
      " |  IGNORECASE = re.IGNORECASE\n",
      " |  \n",
      " |  LOCALE = re.LOCALE\n",
      " |  \n",
      " |  MULTILINE = re.MULTILINE\n",
      " |  \n",
      " |  TEMPLATE = re.TEMPLATE\n",
      " |  \n",
      " |  UNICODE = re.UNICODE\n",
      " |  \n",
      " |  VERBOSE = re.VERBOSE\n",
      " |  \n",
      " |  ----------------------------------------------------------------------\n",
      " |  Data descriptors inherited from enum.Enum:\n",
      " |  \n",
      " |  name\n",
      " |      The name of the Enum member.\n",
      " |  \n",
      " |  value\n",
      " |      The value of the Enum member.\n",
      " |  \n",
      " |  ----------------------------------------------------------------------\n",
      " |  Readonly properties inherited from enum.EnumMeta:\n",
      " |  \n",
      " |  __members__\n",
      " |      Returns a mapping of member name->value.\n",
      " |      \n",
      " |      This mapping lists all enum members, including aliases. Note that this\n",
      " |      is a read-only view of the internal mapping.\n",
      "\n"
     ]
    }
   ],
   "source": [
    "help(re.ASCII)"
   ]
  },
  {
   "cell_type": "code",
   "execution_count": 118,
   "id": "0aaa01bc",
   "metadata": {},
   "outputs": [],
   "source": [
    "given_str = \"Rahullll\""
   ]
  },
  {
   "cell_type": "code",
   "execution_count": 119,
   "id": "063a12d8",
   "metadata": {},
   "outputs": [
    {
     "data": {
      "text/plain": [
       "['Rahullll']"
      ]
     },
     "execution_count": 119,
     "metadata": {},
     "output_type": "execute_result"
    }
   ],
   "source": [
    "re.findall(\"R.*\",given_str)"
   ]
  },
  {
   "cell_type": "code",
   "execution_count": 122,
   "id": "84c0cc65",
   "metadata": {},
   "outputs": [
    {
     "data": {
      "text/plain": [
       "[3, 2, 1, 0, 7]"
      ]
     },
     "execution_count": 122,
     "metadata": {},
     "output_type": "execute_result"
    }
   ],
   "source": [
    "list(map((lambda x :x^3),range(5)))"
   ]
  },
  {
   "cell_type": "code",
   "execution_count": null,
   "id": "bcb45fbd",
   "metadata": {},
   "outputs": [],
   "source": [
    "map(function,iterator)"
   ]
  }
 ],
 "metadata": {
  "kernelspec": {
   "display_name": "Python 3 (ipykernel)",
   "language": "python",
   "name": "python3"
  },
  "language_info": {
   "codemirror_mode": {
    "name": "ipython",
    "version": 3
   },
   "file_extension": ".py",
   "mimetype": "text/x-python",
   "name": "python",
   "nbconvert_exporter": "python",
   "pygments_lexer": "ipython3",
   "version": "3.10.6"
  }
 },
 "nbformat": 4,
 "nbformat_minor": 5
}
