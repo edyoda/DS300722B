{
 "cells": [
  {
   "cell_type": "markdown",
   "id": "acad9ad8",
   "metadata": {},
   "source": [
    "# Learner's doubt"
   ]
  },
  {
   "cell_type": "code",
   "execution_count": 1,
   "id": "26f5bdb8",
   "metadata": {},
   "outputs": [],
   "source": [
    "#Python to check given number is prime or not. (doubt for 2 it is not running)\n",
    "n = int(input())\n",
    "if n>1:\n",
    "    for i in range(2,n//2+1):\n",
    "        if (n%i) ==0:\n",
    "            print(\"not a prime number\")\n",
    "            break\n",
    "\n",
    "        else:\n",
    "            print(\"it is a prime number\")\n",
    "            break\n",
    "            \n",
    "else:\n",
    "    print(\"not a prime\")\n"
   ]
  },
  {
   "cell_type": "code",
   "execution_count": 5,
   "id": "68be8173",
   "metadata": {},
   "outputs": [
    {
     "name": "stdout",
     "output_type": "stream",
     "text": [
      "2\n"
     ]
    }
   ],
   "source": [
    "n = int(input())\n",
    "for i in range(2,n):\n",
    "    print(i)"
   ]
  },
  {
   "cell_type": "code",
   "execution_count": null,
   "id": "8abfe007",
   "metadata": {},
   "outputs": [],
   "source": [
    "\n",
    "text = \"\"\"Ross McFluff: 834.345.1254 155 Elm Street\n",
    " Ronald Heathmore: 892.345.3428 436 Finley Avenue\n",
    " Frank Burger: 925.541.7625 662 South Dogwood Way\n",
    " Heather Albrecht: 548.326.4584 919 Park Place\"\"\"\n",
    "\n",
    "Given the above string,extract the following information:\n",
    "First_name,last_name,address,street name\n"
   ]
  },
  {
   "cell_type": "code",
   "execution_count": 10,
   "id": "f05ea37b",
   "metadata": {},
   "outputs": [],
   "source": [
    "text = \"\"\"Ross McFluff: 834.345.1254 155 Elm Street\n",
    "Ronald Heathmore: 892.345.3428 436 Finley Avenue\n",
    "Frank Burger: 925.541.7625 662 South Dogwood Way\n",
    "Heather Albrecht: 548.326.4584 919 Park Place\"\"\""
   ]
  },
  {
   "cell_type": "code",
   "execution_count": 8,
   "id": "e8c30c91",
   "metadata": {},
   "outputs": [
    {
     "data": {
      "text/plain": [
       "12"
      ]
     },
     "execution_count": 8,
     "metadata": {},
     "output_type": "execute_result"
    }
   ],
   "source": [
    "text.find(':')"
   ]
  },
  {
   "cell_type": "code",
   "execution_count": 11,
   "id": "f71aea2a",
   "metadata": {},
   "outputs": [
    {
     "name": "stdout",
     "output_type": "stream",
     "text": [
      "Ross McFluff: 834.345.1254 155 Elm Street\n",
      "Ronald Heathmore: 892.345.3428 436 Finley Avenue\n",
      "Frank Burger: 925.541.7625 662 South Dogwood Way\n",
      "Heather Albrecht: 548.326.4584 919 Park Place\n"
     ]
    }
   ],
   "source": [
    "print(text)"
   ]
  },
  {
   "cell_type": "code",
   "execution_count": 12,
   "id": "09795870",
   "metadata": {},
   "outputs": [],
   "source": [
    "first_entry = \"Ross McFluff: 834.345.1254 155 Elm Street\""
   ]
  },
  {
   "cell_type": "code",
   "execution_count": 13,
   "id": "99b34ee0",
   "metadata": {},
   "outputs": [
    {
     "data": {
      "text/plain": [
       "[':']"
      ]
     },
     "execution_count": 13,
     "metadata": {},
     "output_type": "execute_result"
    }
   ],
   "source": [
    "re.findall(\":\",first_entry)"
   ]
  },
  {
   "cell_type": "code",
   "execution_count": 16,
   "id": "d8e9123a",
   "metadata": {},
   "outputs": [],
   "source": [
    "name,address = re.split(':',first_entry)"
   ]
  },
  {
   "cell_type": "code",
   "execution_count": 24,
   "id": "36e62215",
   "metadata": {},
   "outputs": [
    {
     "data": {
      "text/plain": [
       "['.']"
      ]
     },
     "execution_count": 24,
     "metadata": {},
     "output_type": "execute_result"
    }
   ],
   "source": [
    "sample = '12a.bc'\n",
    "re.findall('\\.',sample)"
   ]
  },
  {
   "cell_type": "code",
   "execution_count": 17,
   "id": "a44790a4",
   "metadata": {},
   "outputs": [
    {
     "data": {
      "text/plain": [
       "' 834.345.1254 155 Elm Street'"
      ]
     },
     "execution_count": 17,
     "metadata": {},
     "output_type": "execute_result"
    }
   ],
   "source": [
    "address"
   ]
  },
  {
   "cell_type": "code",
   "execution_count": 25,
   "id": "9106787f",
   "metadata": {},
   "outputs": [
    {
     "data": {
      "text/plain": [
       "['834.345.1254']"
      ]
     },
     "execution_count": 25,
     "metadata": {},
     "output_type": "execute_result"
    }
   ],
   "source": [
    "re.findall('[0-9][0-9][0-9]\\.[0-9][0-9][0-9]\\.[0-9][0-9][0-9][0-9]',address)"
   ]
  },
  {
   "cell_type": "code",
   "execution_count": 26,
   "id": "64b2bf1b",
   "metadata": {},
   "outputs": [
    {
     "data": {
      "text/plain": [
       "['892.345.3428']"
      ]
     },
     "execution_count": 26,
     "metadata": {},
     "output_type": "execute_result"
    }
   ],
   "source": [
    "re.findall('[0-9][0-9][0-9]\\.[0-9][0-9][0-9]\\.[0-9][0-9][0-9][0-9]',\"Ronald Heathmore: 892.345.3428 436 Finley Avenue\")"
   ]
  },
  {
   "cell_type": "code",
   "execution_count": 27,
   "id": "3fa85b8f",
   "metadata": {},
   "outputs": [
    {
     "data": {
      "text/plain": [
       "['834.345.1254']"
      ]
     },
     "execution_count": 27,
     "metadata": {},
     "output_type": "execute_result"
    }
   ],
   "source": [
    "re.findall('[0-9]{3}\\.[0-9]{3}\\.[0-9]{4}',address)"
   ]
  },
  {
   "cell_type": "code",
   "execution_count": 28,
   "id": "472b6d3a",
   "metadata": {},
   "outputs": [
    {
     "data": {
      "text/plain": [
       "['834.345.1254']"
      ]
     },
     "execution_count": 28,
     "metadata": {},
     "output_type": "execute_result"
    }
   ],
   "source": [
    "re.findall('\\d{3}\\.\\d{3}\\.\\d{4}',address)"
   ]
  },
  {
   "cell_type": "code",
   "execution_count": 29,
   "id": "505a278d",
   "metadata": {},
   "outputs": [
    {
     "data": {
      "text/plain": [
       "' 834.345.1254 155 Elm Street'"
      ]
     },
     "execution_count": 29,
     "metadata": {},
     "output_type": "execute_result"
    }
   ],
   "source": [
    "address"
   ]
  },
  {
   "cell_type": "code",
   "execution_count": 32,
   "id": "8a571e14",
   "metadata": {},
   "outputs": [],
   "source": [
    "empty_str,house_number,street_name = re.split('\\s',address,maxsplit=2)"
   ]
  },
  {
   "cell_type": "code",
   "execution_count": 33,
   "id": "1c3d4398",
   "metadata": {},
   "outputs": [
    {
     "name": "stdout",
     "output_type": "stream",
     "text": [
      "834.345.1254 155 Elm Street\n"
     ]
    }
   ],
   "source": [
    "print(house_number,street_name)"
   ]
  },
  {
   "cell_type": "code",
   "execution_count": 34,
   "id": "715c6817",
   "metadata": {},
   "outputs": [
    {
     "data": {
      "text/plain": [
       "'Ross McFluff'"
      ]
     },
     "execution_count": 34,
     "metadata": {},
     "output_type": "execute_result"
    }
   ],
   "source": [
    "name"
   ]
  },
  {
   "cell_type": "code",
   "execution_count": 35,
   "id": "e8bd0870",
   "metadata": {},
   "outputs": [
    {
     "data": {
      "text/plain": [
       "['Ross', 'McFluff']"
      ]
     },
     "execution_count": 35,
     "metadata": {},
     "output_type": "execute_result"
    }
   ],
   "source": [
    "re.split(\"\\s\",name)"
   ]
  },
  {
   "cell_type": "code",
   "execution_count": 36,
   "id": "5515d810",
   "metadata": {},
   "outputs": [],
   "source": [
    "first_entry = \"Ross McFluff: 834.345.1254 155 Elm Street\""
   ]
  },
  {
   "cell_type": "code",
   "execution_count": 37,
   "id": "139371d5",
   "metadata": {},
   "outputs": [
    {
     "data": {
      "text/plain": [
       "[' ', ': ', ' ', ' ', ' ']"
      ]
     },
     "execution_count": 37,
     "metadata": {},
     "output_type": "execute_result"
    }
   ],
   "source": [
    "re.findall(':? ',first_entry)"
   ]
  },
  {
   "cell_type": "code",
   "execution_count": 39,
   "id": "29eb2eec",
   "metadata": {},
   "outputs": [
    {
     "data": {
      "text/plain": [
       "['Ross', 'McFluff', '834.345.1254', '155 Elm Street']"
      ]
     },
     "execution_count": 39,
     "metadata": {},
     "output_type": "execute_result"
    }
   ],
   "source": [
    "re.split(':?\\s',first_entry,maxsplit=3)"
   ]
  },
  {
   "cell_type": "markdown",
   "id": "ef9374c3",
   "metadata": {},
   "source": [
    "## Pattern Printing"
   ]
  },
  {
   "cell_type": "code",
   "execution_count": null,
   "id": "2e2fe4fa",
   "metadata": {},
   "outputs": [],
   "source": [
    "\n",
    "* \n",
    "* * \n",
    "* * * \n",
    "* * * * \n",
    "* * * * * \n"
   ]
  },
  {
   "cell_type": "code",
   "execution_count": 42,
   "id": "61ab27f2",
   "metadata": {},
   "outputs": [
    {
     "data": {
      "text/plain": [
       "'*****'"
      ]
     },
     "execution_count": 42,
     "metadata": {},
     "output_type": "execute_result"
    }
   ],
   "source": [
    "\"*\"*5"
   ]
  },
  {
   "cell_type": "code",
   "execution_count": 43,
   "id": "b12b48bf",
   "metadata": {},
   "outputs": [],
   "source": [
    "def pattern_1(n):\n",
    "    for i in range(n):\n",
    "        print(\"*\"*(i+1))"
   ]
  },
  {
   "cell_type": "code",
   "execution_count": 44,
   "id": "2c823b91",
   "metadata": {},
   "outputs": [
    {
     "name": "stdout",
     "output_type": "stream",
     "text": [
      "*\n",
      "**\n",
      "***\n",
      "****\n",
      "*****\n"
     ]
    }
   ],
   "source": [
    "pattern_1(5)"
   ]
  },
  {
   "cell_type": "code",
   "execution_count": 50,
   "id": "419ca946",
   "metadata": {},
   "outputs": [],
   "source": [
    "def pattern_1(n):\n",
    "    for i in range(n):\n",
    "        for j in range(i+1):\n",
    "            print(\"*\",end=\"\")\n",
    "        print()"
   ]
  },
  {
   "cell_type": "code",
   "execution_count": 51,
   "id": "964540a2",
   "metadata": {},
   "outputs": [
    {
     "name": "stdout",
     "output_type": "stream",
     "text": [
      "*\n",
      "**\n",
      "***\n",
      "****\n",
      "*****\n"
     ]
    }
   ],
   "source": [
    "pattern_1(5)"
   ]
  },
  {
   "cell_type": "markdown",
   "id": "50ecbec9",
   "metadata": {},
   "source": [
    "### pattern 2"
   ]
  },
  {
   "cell_type": "code",
   "execution_count": null,
   "id": "93730c69",
   "metadata": {},
   "outputs": [],
   "source": [
    "        * \n",
    "      * * \n",
    "    * * * \n",
    "  * * * * \n",
    "* * * * *"
   ]
  },
  {
   "cell_type": "code",
   "execution_count": 53,
   "id": "adb84e7a",
   "metadata": {},
   "outputs": [],
   "source": [
    "def pattern_2(n):\n",
    "    for i in range(n):\n",
    "        print(\" \"*(n-i-1)+\"*\"*(i+1))"
   ]
  },
  {
   "cell_type": "code",
   "execution_count": 54,
   "id": "61974638",
   "metadata": {},
   "outputs": [
    {
     "name": "stdout",
     "output_type": "stream",
     "text": [
      "    *\n",
      "   **\n",
      "  ***\n",
      " ****\n",
      "*****\n"
     ]
    }
   ],
   "source": [
    "pattern_2(5)"
   ]
  },
  {
   "cell_type": "code",
   "execution_count": 55,
   "id": "e1d00605",
   "metadata": {},
   "outputs": [],
   "source": [
    "def pattern_2(n):\n",
    "    for i in range(n):\n",
    "        for j in range(n-i-1):\n",
    "            print(\" \",end=\"\")\n",
    "        for j in range(i+1):\n",
    "            print(\"*\",end=\"\")\n",
    "        print()"
   ]
  },
  {
   "cell_type": "code",
   "execution_count": 56,
   "id": "436d6ff3",
   "metadata": {},
   "outputs": [
    {
     "name": "stdout",
     "output_type": "stream",
     "text": [
      "    *\n",
      "   **\n",
      "  ***\n",
      " ****\n",
      "*****\n"
     ]
    }
   ],
   "source": [
    "pattern_2(5)"
   ]
  },
  {
   "cell_type": "code",
   "execution_count": 60,
   "id": "1c3ef95d",
   "metadata": {},
   "outputs": [],
   "source": [
    "def pattern_1(n):\n",
    "    for i in range(0,n):\n",
    "        for j in range(0,i+1):\n",
    "            print(\"*\",end=\"\")\n",
    "        print()\n"
   ]
  },
  {
   "cell_type": "code",
   "execution_count": 61,
   "id": "110c5d4f",
   "metadata": {},
   "outputs": [
    {
     "name": "stdout",
     "output_type": "stream",
     "text": [
      "*\n",
      "**\n",
      "***\n",
      "****\n",
      "*****\n"
     ]
    }
   ],
   "source": [
    "pattern_1(5)"
   ]
  },
  {
   "cell_type": "code",
   "execution_count": null,
   "id": "0e4f09e7",
   "metadata": {},
   "outputs": [],
   "source": [
    "def pattern_1(n):\n",
    "    for i in range(0,n):\n",
    "      for j in range(0,i+1):\n",
    "        print(\"*\",end=\"\")\n",
    "      print()\n"
   ]
  },
  {
   "cell_type": "code",
   "execution_count": 62,
   "id": "e5b0d3dd",
   "metadata": {},
   "outputs": [
    {
     "name": "stdout",
     "output_type": "stream",
     "text": [
      "2166218909632\n",
      "2166193933120\n"
     ]
    }
   ],
   "source": [
    "a= [1,2,3,9,6,89,10]\n",
    "print(id(a))\n",
    "print(id(sorted(a)))"
   ]
  },
  {
   "cell_type": "code",
   "execution_count": 63,
   "id": "0d48c9dd",
   "metadata": {},
   "outputs": [
    {
     "name": "stdout",
     "output_type": "stream",
     "text": [
      "[1, 2, 3, 9, 6, 89, 10]\n"
     ]
    }
   ],
   "source": [
    "print(a)"
   ]
  },
  {
   "cell_type": "code",
   "execution_count": 64,
   "id": "47f79fa4",
   "metadata": {},
   "outputs": [
    {
     "data": {
      "text/plain": [
       "[1, 2, 3, 6, 9, 10, 89]"
      ]
     },
     "execution_count": 64,
     "metadata": {},
     "output_type": "execute_result"
    }
   ],
   "source": [
    "sorted(a)"
   ]
  },
  {
   "cell_type": "code",
   "execution_count": 69,
   "id": "c4d52dfe",
   "metadata": {},
   "outputs": [
    {
     "data": {
      "text/plain": [
       "[1, 2, 3, 6, 9, 10, 89]"
      ]
     },
     "execution_count": 69,
     "metadata": {},
     "output_type": "execute_result"
    }
   ],
   "source": [
    "sorted(a)"
   ]
  },
  {
   "cell_type": "code",
   "execution_count": 65,
   "id": "54d63de8",
   "metadata": {},
   "outputs": [],
   "source": [
    "a.sort()"
   ]
  },
  {
   "cell_type": "code",
   "execution_count": 66,
   "id": "fe606f90",
   "metadata": {},
   "outputs": [
    {
     "data": {
      "text/plain": [
       "[1, 2, 3, 6, 9, 10, 89]"
      ]
     },
     "execution_count": 66,
     "metadata": {},
     "output_type": "execute_result"
    }
   ],
   "source": [
    "a"
   ]
  },
  {
   "cell_type": "code",
   "execution_count": 67,
   "id": "1d1f88d3",
   "metadata": {},
   "outputs": [
    {
     "ename": "AttributeError",
     "evalue": "'list' object has no attribute 'sorted'",
     "output_type": "error",
     "traceback": [
      "\u001b[1;31m---------------------------------------------------------------------------\u001b[0m",
      "\u001b[1;31mAttributeError\u001b[0m                            Traceback (most recent call last)",
      "Input \u001b[1;32mIn [67]\u001b[0m, in \u001b[0;36m<cell line: 1>\u001b[1;34m()\u001b[0m\n\u001b[1;32m----> 1\u001b[0m \u001b[43ma\u001b[49m\u001b[38;5;241;43m.\u001b[39;49m\u001b[43msorted\u001b[49m()\n",
      "\u001b[1;31mAttributeError\u001b[0m: 'list' object has no attribute 'sorted'"
     ]
    }
   ],
   "source": [
    "a.sort()"
   ]
  },
  {
   "cell_type": "code",
   "execution_count": null,
   "id": "2e245ccb",
   "metadata": {},
   "outputs": [],
   "source": []
  }
 ],
 "metadata": {
  "kernelspec": {
   "display_name": "Python 3 (ipykernel)",
   "language": "python",
   "name": "python3"
  },
  "language_info": {
   "codemirror_mode": {
    "name": "ipython",
    "version": 3
   },
   "file_extension": ".py",
   "mimetype": "text/x-python",
   "name": "python",
   "nbconvert_exporter": "python",
   "pygments_lexer": "ipython3",
   "version": "3.10.6"
  }
 },
 "nbformat": 4,
 "nbformat_minor": 5
}
