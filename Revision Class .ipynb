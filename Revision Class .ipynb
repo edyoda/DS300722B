{
 "cells": [
  {
   "cell_type": "code",
   "execution_count": 2,
   "id": "67c84a22",
   "metadata": {},
   "outputs": [],
   "source": [
    "credentials_dict= {\"user_name\":[\"arushi\",\"raj\"],\"password\":[\"arushi1223\",\"567\"]}"
   ]
  },
  {
   "cell_type": "code",
   "execution_count": 23,
   "id": "4dab1452",
   "metadata": {},
   "outputs": [],
   "source": [
    "import json"
   ]
  },
  {
   "cell_type": "code",
   "execution_count": null,
   "id": "6125d082",
   "metadata": {},
   "outputs": [],
   "source": []
  },
  {
   "cell_type": "code",
   "execution_count": 24,
   "id": "0e0107cd",
   "metadata": {},
   "outputs": [],
   "source": [
    "with open(\"credentials.json\",'w') as file:\n",
    "    json.dump(credentials_dict,file)"
   ]
  },
  {
   "cell_type": "code",
   "execution_count": 25,
   "id": "49374145",
   "metadata": {},
   "outputs": [],
   "source": [
    "with open(\"credentials.json\",'r') as file:\n",
    "    new_credential_dict = json.load(file)"
   ]
  },
  {
   "cell_type": "code",
   "execution_count": 26,
   "id": "afb49f12",
   "metadata": {},
   "outputs": [
    {
     "data": {
      "text/plain": [
       "{'user_name': ['arushi', 'raj'], 'password': ['arushi1223', '567']}"
      ]
     },
     "execution_count": 26,
     "metadata": {},
     "output_type": "execute_result"
    }
   ],
   "source": [
    "new_credential_dict"
   ]
  },
  {
   "cell_type": "code",
   "execution_count": 16,
   "id": "a478102c",
   "metadata": {},
   "outputs": [],
   "source": [
    "def login(username,password):\n",
    "    username_list = credentials_dict[\"user_name\"]\n",
    "    password_list = credentials_dict['password']\n",
    "    try:\n",
    "        user_index = username_list.index(username)\n",
    "        password_from_dict = password_list[user_index]\n",
    "        if password_from_dict==password:\n",
    "            print(\"login successful\")\n",
    "        else:\n",
    "            print(\"Not authorized\")\n",
    "    except:\n",
    "            print(\"Username does not exists\")"
   ]
  },
  {
   "cell_type": "code",
   "execution_count": 21,
   "id": "79db0b90",
   "metadata": {},
   "outputs": [],
   "source": [
    "username = \"Rahul\"\n",
    "password = \"567\""
   ]
  },
  {
   "cell_type": "code",
   "execution_count": 22,
   "id": "834404e3",
   "metadata": {},
   "outputs": [
    {
     "name": "stdout",
     "output_type": "stream",
     "text": [
      "Username does not exists\n"
     ]
    }
   ],
   "source": [
    "login(username,password)"
   ]
  },
  {
   "cell_type": "code",
   "execution_count": 15,
   "id": "5173edd3",
   "metadata": {},
   "outputs": [
    {
     "ename": "ValueError",
     "evalue": "'rahul' is not in list",
     "output_type": "error",
     "traceback": [
      "\u001b[1;31m---------------------------------------------------------------------------\u001b[0m",
      "\u001b[1;31mValueError\u001b[0m                                Traceback (most recent call last)",
      "Input \u001b[1;32mIn [15]\u001b[0m, in \u001b[0;36m<cell line: 1>\u001b[1;34m()\u001b[0m\n\u001b[1;32m----> 1\u001b[0m \u001b[43mcredentials_dict\u001b[49m\u001b[43m[\u001b[49m\u001b[38;5;124;43m'\u001b[39;49m\u001b[38;5;124;43muser_name\u001b[39;49m\u001b[38;5;124;43m'\u001b[39;49m\u001b[43m]\u001b[49m\u001b[38;5;241;43m.\u001b[39;49m\u001b[43mindex\u001b[49m\u001b[43m(\u001b[49m\u001b[38;5;124;43m\"\u001b[39;49m\u001b[38;5;124;43mrahul\u001b[39;49m\u001b[38;5;124;43m\"\u001b[39;49m\u001b[43m)\u001b[49m\n",
      "\u001b[1;31mValueError\u001b[0m: 'rahul' is not in list"
     ]
    }
   ],
   "source": [
    "credentials_dict['user_name'].index(\"rahul\")"
   ]
  },
  {
   "cell_type": "code",
   "execution_count": null,
   "id": "ce6cea27",
   "metadata": {},
   "outputs": [],
   "source": []
  }
 ],
 "metadata": {
  "kernelspec": {
   "display_name": "Python 3 (ipykernel)",
   "language": "python",
   "name": "python3"
  },
  "language_info": {
   "codemirror_mode": {
    "name": "ipython",
    "version": 3
   },
   "file_extension": ".py",
   "mimetype": "text/x-python",
   "name": "python",
   "nbconvert_exporter": "python",
   "pygments_lexer": "ipython3",
   "version": "3.10.6"
  }
 },
 "nbformat": 4,
 "nbformat_minor": 5
}
