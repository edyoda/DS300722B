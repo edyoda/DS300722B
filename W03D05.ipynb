{
 "cells": [
  {
   "cell_type": "code",
   "execution_count": 1,
   "id": "63eec7d6",
   "metadata": {},
   "outputs": [],
   "source": [
    "# Swapcase in string"
   ]
  },
  {
   "cell_type": "code",
   "execution_count": 2,
   "id": "a7bdb692",
   "metadata": {},
   "outputs": [],
   "source": [
    "# https://www.hackerrank.com/challenges/list-comprehensions/"
   ]
  },
  {
   "cell_type": "code",
   "execution_count": null,
   "id": "dcbd3cc8",
   "metadata": {},
   "outputs": [],
   "source": [
    "# average of all the buildings with distinct heights in city of bangalore"
   ]
  },
  {
   "cell_type": "code",
   "execution_count": null,
   "id": "7edc0d93",
   "metadata": {},
   "outputs": [],
   "source": [
    "# given two sets print their symmetric difference"
   ]
  },
  {
   "cell_type": "code",
   "execution_count": null,
   "id": "998ce647",
   "metadata": {},
   "outputs": [],
   "source": []
  },
  {
   "cell_type": "code",
   "execution_count": 1,
   "id": "887a020d",
   "metadata": {},
   "outputs": [
    {
     "name": "stdout",
     "output_type": "stream",
     "text": [
      "1\n",
      "2\n"
     ]
    }
   ],
   "source": [
    "## Swapcase a given string: swap upper letter of string to lower and lower to upper case"
   ]
  },
  {
   "cell_type": "code",
   "execution_count": null,
   "id": "9b42abc6",
   "metadata": {},
   "outputs": [],
   "source": [
    "string = \"Raj is a good Student\"\n",
    "\"rAJ IS A GOOD sTUDENT\""
   ]
  },
  {
   "cell_type": "code",
   "execution_count": 11,
   "id": "d8958ca9",
   "metadata": {},
   "outputs": [
    {
     "data": {
      "text/plain": [
       "'a'"
      ]
     },
     "execution_count": 11,
     "metadata": {},
     "output_type": "execute_result"
    }
   ],
   "source": [
    "chr(65+32)"
   ]
  },
  {
   "cell_type": "code",
   "execution_count": 6,
   "id": "f5542096",
   "metadata": {},
   "outputs": [
    {
     "data": {
      "text/plain": [
       "65"
      ]
     },
     "execution_count": 6,
     "metadata": {},
     "output_type": "execute_result"
    }
   ],
   "source": [
    "ord(\"A\")"
   ]
  },
  {
   "cell_type": "code",
   "execution_count": 8,
   "id": "6fc16dc1",
   "metadata": {},
   "outputs": [
    {
     "data": {
      "text/plain": [
       "97"
      ]
     },
     "execution_count": 8,
     "metadata": {},
     "output_type": "execute_result"
    }
   ],
   "source": [
    "ord(\"a\")"
   ]
  },
  {
   "cell_type": "code",
   "execution_count": 10,
   "id": "a58cc7f6",
   "metadata": {},
   "outputs": [],
   "source": [
    "string = \"Raj is a good Student\"\n"
   ]
  },
  {
   "cell_type": "code",
   "execution_count": 15,
   "id": "1f4d7681",
   "metadata": {},
   "outputs": [
    {
     "name": "stdout",
     "output_type": "stream",
     "text": [
      "rAJ  \u0000IS  \u0000A  \u0000GOOD  \u0000sTUDENT"
     ]
    }
   ],
   "source": [
    "for char in string:\n",
    "    if char==\" \":\n",
    "        print(char,end=\" \")\n",
    "    if char.isupper():\n",
    "        print(chr(ord(char)+32),end=\"\")\n",
    "    else:\n",
    "        print(chr(ord(char)-32),end=\"\")\n"
   ]
  },
  {
   "cell_type": "code",
   "execution_count": 13,
   "id": "7efe7da5",
   "metadata": {},
   "outputs": [
    {
     "data": {
      "text/plain": [
       "32"
      ]
     },
     "execution_count": 13,
     "metadata": {},
     "output_type": "execute_result"
    }
   ],
   "source": [
    "ord(\" \")"
   ]
  },
  {
   "cell_type": "markdown",
   "id": "72592bf8",
   "metadata": {},
   "source": [
    "# given two sets print their symmetric difference"
   ]
  },
  {
   "cell_type": "code",
   "execution_count": 16,
   "id": "43531cff",
   "metadata": {},
   "outputs": [],
   "source": [
    "set_A = {1,2,3,4,5,6,78,9,0,10}\n",
    "set_B = {1,2,3,4,12,12,23,34,10}"
   ]
  },
  {
   "cell_type": "code",
   "execution_count": 17,
   "id": "495904a3",
   "metadata": {},
   "outputs": [
    {
     "data": {
      "text/plain": [
       "{1, 2, 3, 4, 10}"
      ]
     },
     "execution_count": 17,
     "metadata": {},
     "output_type": "execute_result"
    }
   ],
   "source": [
    "set_A.intersection(set_B)"
   ]
  },
  {
   "cell_type": "code",
   "execution_count": 21,
   "id": "70215c84",
   "metadata": {},
   "outputs": [
    {
     "data": {
      "text/plain": [
       "{1, 2, 3, 4, 10}"
      ]
     },
     "execution_count": 21,
     "metadata": {},
     "output_type": "execute_result"
    }
   ],
   "source": [
    "set_A & set_B"
   ]
  },
  {
   "cell_type": "code",
   "execution_count": 18,
   "id": "7095f90b",
   "metadata": {},
   "outputs": [
    {
     "data": {
      "text/plain": [
       "{0, 1, 2, 3, 4, 5, 6, 9, 10, 12, 23, 34, 78}"
      ]
     },
     "execution_count": 18,
     "metadata": {},
     "output_type": "execute_result"
    }
   ],
   "source": [
    "set_A.union(set_B)"
   ]
  },
  {
   "cell_type": "code",
   "execution_count": 22,
   "id": "c822e48b",
   "metadata": {},
   "outputs": [
    {
     "data": {
      "text/plain": [
       "{0, 1, 2, 3, 4, 5, 6, 9, 10, 12, 23, 34, 78}"
      ]
     },
     "execution_count": 22,
     "metadata": {},
     "output_type": "execute_result"
    }
   ],
   "source": [
    "set_A | set_B"
   ]
  },
  {
   "cell_type": "code",
   "execution_count": 19,
   "id": "9857c33d",
   "metadata": {},
   "outputs": [
    {
     "data": {
      "text/plain": [
       "{0, 5, 6, 9, 12, 23, 34, 78}"
      ]
     },
     "execution_count": 19,
     "metadata": {},
     "output_type": "execute_result"
    }
   ],
   "source": [
    "set_A.union(set_B)-set_A.intersection(set_B)"
   ]
  },
  {
   "cell_type": "code",
   "execution_count": 20,
   "id": "bda0af5c",
   "metadata": {},
   "outputs": [
    {
     "data": {
      "text/plain": [
       "{0, 5, 6, 9, 12, 23, 34, 78}"
      ]
     },
     "execution_count": 20,
     "metadata": {},
     "output_type": "execute_result"
    }
   ],
   "source": [
    "set_A.symmetric_difference(set_B)"
   ]
  },
  {
   "cell_type": "markdown",
   "id": "9b329d02",
   "metadata": {},
   "source": [
    "### average of all the buildings with distinct heights in city of bangalore"
   ]
  },
  {
   "cell_type": "code",
   "execution_count": 23,
   "id": "d428f328",
   "metadata": {},
   "outputs": [],
   "source": [
    "building_heights = [1,2,3,4,5,6,7,8,9,19,19,10,1,5,8,3]\n"
   ]
  },
  {
   "cell_type": "code",
   "execution_count": 24,
   "id": "a1653865",
   "metadata": {},
   "outputs": [],
   "source": [
    "building_heights_set = set(building_heights)"
   ]
  },
  {
   "cell_type": "code",
   "execution_count": 25,
   "id": "faf7576e",
   "metadata": {},
   "outputs": [
    {
     "data": {
      "text/plain": [
       "{1, 2, 3, 4, 5, 6, 7, 8, 9, 10, 19}"
      ]
     },
     "execution_count": 25,
     "metadata": {},
     "output_type": "execute_result"
    }
   ],
   "source": [
    "building_heights_set"
   ]
  },
  {
   "cell_type": "code",
   "execution_count": 26,
   "id": "f3336917",
   "metadata": {},
   "outputs": [
    {
     "data": {
      "text/plain": [
       "6.7272727272727275"
      ]
     },
     "execution_count": 26,
     "metadata": {},
     "output_type": "execute_result"
    }
   ],
   "source": [
    "sum(building_heights_set)/len(building_heights_set)"
   ]
  },
  {
   "cell_type": "code",
   "execution_count": 27,
   "id": "993924c6",
   "metadata": {},
   "outputs": [],
   "source": [
    "## Using list Comprehension"
   ]
  },
  {
   "cell_type": "code",
   "execution_count": null,
   "id": "1d995299",
   "metadata": {},
   "outputs": [],
   "source": [
    "x = int(input())\n",
    "y = int(input())\n",
    "z = int(input())\n",
    "n = int(input())\n",
    "\n",
    "result = []\n",
    "for i in range(0,x+1):\n",
    "    for j in range(0,y+1):\n",
    "        for k in range(0,z+1):\n",
    "            if i+j+k != n:\n",
    "                 result.append([i,j,k])\n",
    "\n",
    "# print(result)\n",
    "print([[i,j,k] for i in range(0,x+1) for j in range(0,y+1) for k in range(0,z+1) if i+j+k!=n ])"
   ]
  }
 ],
 "metadata": {
  "kernelspec": {
   "display_name": "Python 3 (ipykernel)",
   "language": "python",
   "name": "python3"
  },
  "language_info": {
   "codemirror_mode": {
    "name": "ipython",
    "version": 3
   },
   "file_extension": ".py",
   "mimetype": "text/x-python",
   "name": "python",
   "nbconvert_exporter": "python",
   "pygments_lexer": "ipython3",
   "version": "3.10.6"
  }
 },
 "nbformat": 4,
 "nbformat_minor": 5
}
