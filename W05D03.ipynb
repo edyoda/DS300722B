{
 "cells": [
  {
   "cell_type": "markdown",
   "id": "db0eb4a4",
   "metadata": {},
   "source": [
    "- Lambda\n",
    "- Map\n",
    "- Filter\n",
    "- Reduce"
   ]
  },
  {
   "cell_type": "code",
   "execution_count": 1,
   "id": "dd187e9f",
   "metadata": {},
   "outputs": [],
   "source": [
    "a_list = [1,2,3,4,5]\n",
    "def sum(x,y):\n",
    "    summation = x+y\n",
    "    return summation\n",
    "    "
   ]
  },
  {
   "cell_type": "code",
   "execution_count": 3,
   "id": "013fe1e1",
   "metadata": {},
   "outputs": [
    {
     "data": {
      "text/plain": [
       "10"
      ]
     },
     "execution_count": 3,
     "metadata": {},
     "output_type": "execute_result"
    }
   ],
   "source": [
    "sum(4,6)"
   ]
  },
  {
   "cell_type": "code",
   "execution_count": 4,
   "id": "c4424d23",
   "metadata": {},
   "outputs": [
    {
     "name": "stdout",
     "output_type": "stream",
     "text": [
      "10\n"
     ]
    }
   ],
   "source": [
    "summation = lambda x,y:x+y\n",
    "print(summation(4,6))"
   ]
  },
  {
   "cell_type": "code",
   "execution_count": 5,
   "id": "a3cdeb09",
   "metadata": {},
   "outputs": [
    {
     "name": "stdout",
     "output_type": "stream",
     "text": [
      "10\n"
     ]
    }
   ],
   "source": [
    "print((lambda x,y:x+y)(4,6))"
   ]
  },
  {
   "cell_type": "code",
   "execution_count": 6,
   "id": "cfe3f474",
   "metadata": {},
   "outputs": [
    {
     "data": {
      "text/plain": [
       "26"
      ]
     },
     "execution_count": 6,
     "metadata": {},
     "output_type": "execute_result"
    }
   ],
   "source": [
    "(lambda x,y,z:x*y+z)(4,5,6)"
   ]
  },
  {
   "cell_type": "code",
   "execution_count": 88,
   "id": "278b3cd4",
   "metadata": {},
   "outputs": [
    {
     "data": {
      "text/plain": [
       "26"
      ]
     },
     "execution_count": 88,
     "metadata": {},
     "output_type": "execute_result"
    }
   ],
   "source": [
    "(lambda x,y,z:x*y+z)(4,5,6)"
   ]
  },
  {
   "cell_type": "code",
   "execution_count": 8,
   "id": "c7187dd3",
   "metadata": {},
   "outputs": [],
   "source": [
    "def advantage_over_lambda(x,y,z):\n",
    "    return x*y+z,x+y+z"
   ]
  },
  {
   "cell_type": "code",
   "execution_count": 9,
   "id": "dac6f5c5",
   "metadata": {},
   "outputs": [
    {
     "data": {
      "text/plain": [
       "(26, 15)"
      ]
     },
     "execution_count": 9,
     "metadata": {},
     "output_type": "execute_result"
    }
   ],
   "source": [
    "advantage_over_lambda(4,5,6)"
   ]
  },
  {
   "cell_type": "code",
   "execution_count": 12,
   "id": "a08990a3",
   "metadata": {},
   "outputs": [],
   "source": [
    "variable_name = lambda x,y: x if x>y else (\"equal\" if y==x else y)"
   ]
  },
  {
   "cell_type": "code",
   "execution_count": 15,
   "id": "5a97af7b",
   "metadata": {},
   "outputs": [
    {
     "data": {
      "text/plain": [
       "'equal'"
      ]
     },
     "execution_count": 15,
     "metadata": {},
     "output_type": "execute_result"
    }
   ],
   "source": [
    "variable_name(4,4)"
   ]
  },
  {
   "cell_type": "code",
   "execution_count": 19,
   "id": "32fa19e5",
   "metadata": {},
   "outputs": [
    {
     "name": "stdout",
     "output_type": "stream",
     "text": [
      "1 20 30 40 60 100\n"
     ]
    }
   ],
   "source": [
    "input_x  = input()"
   ]
  },
  {
   "cell_type": "code",
   "execution_count": 20,
   "id": "10af76b5",
   "metadata": {},
   "outputs": [
    {
     "data": {
      "text/plain": [
       "str"
      ]
     },
     "execution_count": 20,
     "metadata": {},
     "output_type": "execute_result"
    }
   ],
   "source": [
    "type(input_x)"
   ]
  },
  {
   "cell_type": "code",
   "execution_count": 21,
   "id": "a35c560d",
   "metadata": {},
   "outputs": [
    {
     "data": {
      "text/plain": [
       "'1 20 30 40 60 100'"
      ]
     },
     "execution_count": 21,
     "metadata": {},
     "output_type": "execute_result"
    }
   ],
   "source": [
    "input_x"
   ]
  },
  {
   "cell_type": "code",
   "execution_count": 23,
   "id": "986a478b",
   "metadata": {},
   "outputs": [
    {
     "data": {
      "text/plain": [
       "[1, 20, 30, 40, 60, 100]"
      ]
     },
     "execution_count": 23,
     "metadata": {},
     "output_type": "execute_result"
    }
   ],
   "source": [
    "[int(x) for x in input_x.split()]"
   ]
  },
  {
   "cell_type": "code",
   "execution_count": 25,
   "id": "2e69d6f3",
   "metadata": {},
   "outputs": [
    {
     "data": {
      "text/plain": [
       "[1, 20, 30, 40, 60, 100]"
      ]
     },
     "execution_count": 25,
     "metadata": {},
     "output_type": "execute_result"
    }
   ],
   "source": [
    "list(map(int,input_x.split()))"
   ]
  },
  {
   "cell_type": "code",
   "execution_count": 28,
   "id": "74250b44",
   "metadata": {},
   "outputs": [
    {
     "name": "stdout",
     "output_type": "stream",
     "text": [
      "1 20 30 40 60 100\n"
     ]
    }
   ],
   "source": [
    "input_x  = list(map( int,input().split()))"
   ]
  },
  {
   "cell_type": "code",
   "execution_count": 29,
   "id": "9273250e",
   "metadata": {},
   "outputs": [
    {
     "data": {
      "text/plain": [
       "[1, 20, 30, 40, 60, 100]"
      ]
     },
     "execution_count": 29,
     "metadata": {},
     "output_type": "execute_result"
    }
   ],
   "source": [
    "input_x"
   ]
  },
  {
   "cell_type": "code",
   "execution_count": 30,
   "id": "35aad63f",
   "metadata": {},
   "outputs": [
    {
     "data": {
      "text/plain": [
       "[1, 400, 900, 1600, 3600, 10000]"
      ]
     },
     "execution_count": 30,
     "metadata": {},
     "output_type": "execute_result"
    }
   ],
   "source": [
    "def square(x):\n",
    "    return x*x\n",
    "list(map(square,input_x))"
   ]
  },
  {
   "cell_type": "code",
   "execution_count": 31,
   "id": "ee13262f",
   "metadata": {},
   "outputs": [
    {
     "data": {
      "text/plain": [
       "[1, 400, 900, 1600, 3600, 10000]"
      ]
     },
     "execution_count": 31,
     "metadata": {},
     "output_type": "execute_result"
    }
   ],
   "source": [
    "list(map(lambda x: x*x,input_x))"
   ]
  },
  {
   "cell_type": "code",
   "execution_count": 32,
   "id": "42607072",
   "metadata": {},
   "outputs": [],
   "source": [
    "input_x = [1,2,3,4,5,6]\n",
    "input_y = [10,12,53,24,87,12]\n",
    "input_z = [1,2,3,4,9,7]"
   ]
  },
  {
   "cell_type": "code",
   "execution_count": 33,
   "id": "f308c8d1",
   "metadata": {},
   "outputs": [
    {
     "data": {
      "text/plain": [
       "[12, 16, 59, 32, 101, 25]"
      ]
     },
     "execution_count": 33,
     "metadata": {},
     "output_type": "execute_result"
    }
   ],
   "source": [
    "list(map(lambda x,y,z:x+y+z,input_x,input_y,input_z ) )"
   ]
  },
  {
   "cell_type": "code",
   "execution_count": null,
   "id": "7b0239c7",
   "metadata": {},
   "outputs": [],
   "source": [
    "*\n",
    "**\n",
    "***\n",
    "****\n",
    "*****"
   ]
  },
  {
   "cell_type": "code",
   "execution_count": 36,
   "id": "adb468e4",
   "metadata": {},
   "outputs": [],
   "source": [
    "n=5\n",
    "pattern_str = \"\"\n",
    "for i in range(n):\n",
    "    pattern_str+=(i+1)*\"*\"\n",
    "    pattern_str+=\"\\n\"\n",
    "    "
   ]
  },
  {
   "cell_type": "code",
   "execution_count": 38,
   "id": "5043625f",
   "metadata": {},
   "outputs": [
    {
     "name": "stdout",
     "output_type": "stream",
     "text": [
      "*\n",
      "**\n",
      "***\n",
      "****\n",
      "*****\n",
      "\n"
     ]
    }
   ],
   "source": [
    "print(pattern_str)"
   ]
  },
  {
   "cell_type": "code",
   "execution_count": 39,
   "id": "a01ad474",
   "metadata": {},
   "outputs": [],
   "source": [
    "def pattern(n):\n",
    "    pattern_str = \"\"\n",
    "    for i in range(n):\n",
    "        pattern_str+=(i+1)*\"*\"\n",
    "        pattern_str+=\"\\n\"\n",
    "    return pattern_str"
   ]
  },
  {
   "cell_type": "code",
   "execution_count": 45,
   "id": "a250c6b0",
   "metadata": {},
   "outputs": [
    {
     "data": {
      "text/plain": [
       "'*\\n**\\n***\\n****\\n*****\\n'"
      ]
     },
     "execution_count": 45,
     "metadata": {},
     "output_type": "execute_result"
    }
   ],
   "source": [
    "pattern(5)"
   ]
  },
  {
   "cell_type": "code",
   "execution_count": 54,
   "id": "64c6c746",
   "metadata": {},
   "outputs": [
    {
     "data": {
      "text/plain": [
       "['*', '**', '***', '****', '*****']"
      ]
     },
     "execution_count": 54,
     "metadata": {},
     "output_type": "execute_result"
    }
   ],
   "source": [
    "[ (i+1)*\"*\" for i in range(n) ]"
   ]
  },
  {
   "cell_type": "code",
   "execution_count": 51,
   "id": "7c91495c",
   "metadata": {},
   "outputs": [
    {
     "name": "stdout",
     "output_type": "stream",
     "text": [
      "*\n",
      "**\n",
      "***\n",
      "****\n",
      "*****\n"
     ]
    }
   ],
   "source": [
    "n=5\n",
    "print(\"\\n\".join([ (i+1)*\"*\" for i in range(n) ]))"
   ]
  },
  {
   "cell_type": "code",
   "execution_count": 52,
   "id": "15a059db",
   "metadata": {},
   "outputs": [
    {
     "name": "stdout",
     "output_type": "stream",
     "text": [
      "*\n",
      "**\n",
      "***\n",
      "****\n",
      "*****\n"
     ]
    }
   ],
   "source": [
    "print(\"\\n\".join(['*','**','***','****','*****']))"
   ]
  },
  {
   "cell_type": "code",
   "execution_count": 53,
   "id": "86da8ebf",
   "metadata": {},
   "outputs": [
    {
     "data": {
      "text/plain": [
       "'AnsariAnsariAnsariAnsariAnsari'"
      ]
     },
     "execution_count": 53,
     "metadata": {},
     "output_type": "execute_result"
    }
   ],
   "source": [
    "\"Ansari\"*5"
   ]
  },
  {
   "cell_type": "code",
   "execution_count": 56,
   "id": "031106e6",
   "metadata": {},
   "outputs": [
    {
     "data": {
      "text/plain": [
       "['*', '**', '***', '****', '*****']"
      ]
     },
     "execution_count": 56,
     "metadata": {},
     "output_type": "execute_result"
    }
   ],
   "source": [
    "list(map(lambda i:(i+1)*\"*\",range(n)))"
   ]
  },
  {
   "cell_type": "code",
   "execution_count": 57,
   "id": "bd994d9b",
   "metadata": {},
   "outputs": [
    {
     "name": "stdout",
     "output_type": "stream",
     "text": [
      "x\n"
     ]
    }
   ],
   "source": [
    "return_value_print = print(\"x\")"
   ]
  },
  {
   "cell_type": "code",
   "execution_count": 59,
   "id": "da3e7efb",
   "metadata": {},
   "outputs": [
    {
     "name": "stdout",
     "output_type": "stream",
     "text": [
      "None\n"
     ]
    }
   ],
   "source": [
    "print(return_value_print)"
   ]
  },
  {
   "cell_type": "code",
   "execution_count": 67,
   "id": "1e757aa6",
   "metadata": {},
   "outputs": [
    {
     "name": "stdout",
     "output_type": "stream",
     "text": [
      "*\n",
      "**\n",
      "***\n",
      "****\n",
      "*****\n"
     ]
    }
   ],
   "source": [
    "print(\"\\n\".join(list(map(lambda i:(i+1)*\"*\",range(n)))))\n"
   ]
  },
  {
   "cell_type": "code",
   "execution_count": 68,
   "id": "d5dff209",
   "metadata": {},
   "outputs": [
    {
     "data": {
      "text/plain": [
       "[1, 4, 9, 16, 25]"
      ]
     },
     "execution_count": 68,
     "metadata": {},
     "output_type": "execute_result"
    }
   ],
   "source": [
    "list(map(lambda x:x*x,[1,2,3,4,5]))"
   ]
  },
  {
   "cell_type": "code",
   "execution_count": 69,
   "id": "5ead00bc",
   "metadata": {},
   "outputs": [
    {
     "name": "stdout",
     "output_type": "stream",
     "text": [
      "Help on class map in module builtins:\n",
      "\n",
      "class map(object)\n",
      " |  map(func, *iterables) --> map object\n",
      " |  \n",
      " |  Make an iterator that computes the function using arguments from\n",
      " |  each of the iterables.  Stops when the shortest iterable is exhausted.\n",
      " |  \n",
      " |  Methods defined here:\n",
      " |  \n",
      " |  __getattribute__(self, name, /)\n",
      " |      Return getattr(self, name).\n",
      " |  \n",
      " |  __iter__(self, /)\n",
      " |      Implement iter(self).\n",
      " |  \n",
      " |  __next__(self, /)\n",
      " |      Implement next(self).\n",
      " |  \n",
      " |  __reduce__(...)\n",
      " |      Return state information for pickling.\n",
      " |  \n",
      " |  ----------------------------------------------------------------------\n",
      " |  Static methods defined here:\n",
      " |  \n",
      " |  __new__(*args, **kwargs) from builtins.type\n",
      " |      Create and return a new object.  See help(type) for accurate signature.\n",
      "\n"
     ]
    }
   ],
   "source": [
    "help(map)"
   ]
  },
  {
   "cell_type": "code",
   "execution_count": 74,
   "id": "7522080c",
   "metadata": {},
   "outputs": [
    {
     "data": {
      "text/plain": [
       "[2, 4, 6, 8, 10]"
      ]
     },
     "execution_count": 74,
     "metadata": {},
     "output_type": "execute_result"
    }
   ],
   "source": [
    "number_list = [1,2,3,4,5,6,7,8,9,10]\n",
    "[num for num in number_list if num%2==0]"
   ]
  },
  {
   "cell_type": "code",
   "execution_count": 81,
   "id": "729f4bd9",
   "metadata": {},
   "outputs": [
    {
     "data": {
      "text/plain": [
       "[2, 4, 6, 8, 10]"
      ]
     },
     "execution_count": 81,
     "metadata": {},
     "output_type": "execute_result"
    }
   ],
   "source": [
    "list(filter(lambda num :True if num%2==0 else False,number_list))"
   ]
  },
  {
   "cell_type": "code",
   "execution_count": 79,
   "id": "f2934e41",
   "metadata": {},
   "outputs": [],
   "source": [
    "def is_even(num):\n",
    "    if num%2==0:\n",
    "        return True\n",
    "    else:\n",
    "        return False\n",
    "    "
   ]
  },
  {
   "cell_type": "code",
   "execution_count": 80,
   "id": "5cf29e0d",
   "metadata": {},
   "outputs": [
    {
     "data": {
      "text/plain": [
       "[2, 4, 6, 8, 10]"
      ]
     },
     "execution_count": 80,
     "metadata": {},
     "output_type": "execute_result"
    }
   ],
   "source": [
    "list(filter(is_even,number_list))"
   ]
  },
  {
   "cell_type": "code",
   "execution_count": 83,
   "id": "882bc806",
   "metadata": {},
   "outputs": [
    {
     "name": "stdout",
     "output_type": "stream",
     "text": [
      "15\n"
     ]
    }
   ],
   "source": [
    "# sum the numbers in a list\n",
    "a = [1,2,3,4,5]\n",
    "summ =0\n",
    "for num in a:\n",
    "    summ+=num\n",
    "\n",
    "print(summ)"
   ]
  },
  {
   "cell_type": "code",
   "execution_count": 85,
   "id": "8d6f4634",
   "metadata": {},
   "outputs": [],
   "source": [
    "def summation(x,y):\n",
    "    return x+y"
   ]
  },
  {
   "cell_type": "code",
   "execution_count": 84,
   "id": "21970ec9",
   "metadata": {},
   "outputs": [],
   "source": [
    "from functools import reduce"
   ]
  },
  {
   "cell_type": "code",
   "execution_count": 86,
   "id": "f49f6501",
   "metadata": {},
   "outputs": [
    {
     "data": {
      "text/plain": [
       "15"
      ]
     },
     "execution_count": 86,
     "metadata": {},
     "output_type": "execute_result"
    }
   ],
   "source": [
    "reduce(summation,a)"
   ]
  },
  {
   "cell_type": "code",
   "execution_count": 96,
   "id": "fb0babc6",
   "metadata": {},
   "outputs": [
    {
     "data": {
      "text/plain": [
       "15"
      ]
     },
     "execution_count": 96,
     "metadata": {},
     "output_type": "execute_result"
    }
   ],
   "source": [
    "reduce(lambda x,y:x+y,a)"
   ]
  },
  {
   "cell_type": "code",
   "execution_count": 87,
   "id": "9e6f5d73",
   "metadata": {},
   "outputs": [
    {
     "name": "stdout",
     "output_type": "stream",
     "text": [
      "Help on built-in function reduce in module _functools:\n",
      "\n",
      "reduce(...)\n",
      "    reduce(function, iterable[, initial]) -> value\n",
      "    \n",
      "    Apply a function of two arguments cumulatively to the items of a sequence\n",
      "    or iterable, from left to right, so as to reduce the iterable to a single\n",
      "    value.  For example, reduce(lambda x, y: x+y, [1, 2, 3, 4, 5]) calculates\n",
      "    ((((1+2)+3)+4)+5).  If initial is present, it is placed before the items\n",
      "    of the iterable in the calculation, and serves as a default when the\n",
      "    iterable is empty.\n",
      "\n"
     ]
    }
   ],
   "source": [
    "help(reduce)"
   ]
  },
  {
   "cell_type": "code",
   "execution_count": 93,
   "id": "045bf6b0",
   "metadata": {},
   "outputs": [],
   "source": [
    "def random_stuff(x,y,z):\n",
    "    return x*y+z-20,x+y,x/y"
   ]
  },
  {
   "cell_type": "code",
   "execution_count": 94,
   "id": "17422ea3",
   "metadata": {},
   "outputs": [
    {
     "data": {
      "text/plain": [
       "(630, 50, 0.6666666666666666)"
      ]
     },
     "execution_count": 94,
     "metadata": {},
     "output_type": "execute_result"
    }
   ],
   "source": [
    "random_stuff(20,30,50)"
   ]
  },
  {
   "cell_type": "code",
   "execution_count": 112,
   "id": "98989532",
   "metadata": {},
   "outputs": [
    {
     "ename": "SyntaxError",
     "evalue": "invalid syntax (2318444915.py, line 1)",
     "output_type": "error",
     "traceback": [
      "\u001b[1;36m  Input \u001b[1;32mIn [112]\u001b[1;36m\u001b[0m\n\u001b[1;33m    xyz=[  [* in range(i)] for in range(0,n)]\u001b[0m\n\u001b[1;37m              ^\u001b[0m\n\u001b[1;31mSyntaxError\u001b[0m\u001b[1;31m:\u001b[0m invalid syntax\n"
     ]
    }
   ],
   "source": [
    "xyz=[  [* in range(i)] for in range(0,n)]\n"
   ]
  },
  {
   "cell_type": "code",
   "execution_count": 108,
   "id": "d945249c",
   "metadata": {},
   "outputs": [
    {
     "data": {
      "text/plain": [
       "['*', '*', '*', '*', '*', '*', '*', '*', '*', '*', '*', '*', '*', '*', '*']"
      ]
     },
     "execution_count": 108,
     "metadata": {},
     "output_type": "execute_result"
    }
   ],
   "source": [
    "xyz"
   ]
  },
  {
   "cell_type": "code",
   "execution_count": 104,
   "id": "89a5bf5c",
   "metadata": {},
   "outputs": [
    {
     "name": "stdout",
     "output_type": "stream",
     "text": [
      "\n",
      "*\n",
      "**\n",
      "***\n",
      "****\n"
     ]
    }
   ],
   "source": [
    "pattern = \"\"\n",
    "for i in range(5):\n",
    "    for j in range(i):\n",
    "        print(\"*\",end=\"\")\n",
    "    print()"
   ]
  },
  {
   "cell_type": "code",
   "execution_count": null,
   "id": "65c2ef17",
   "metadata": {},
   "outputs": [],
   "source": []
  }
 ],
 "metadata": {
  "kernelspec": {
   "display_name": "Python 3 (ipykernel)",
   "language": "python",
   "name": "python3"
  },
  "language_info": {
   "codemirror_mode": {
    "name": "ipython",
    "version": 3
   },
   "file_extension": ".py",
   "mimetype": "text/x-python",
   "name": "python",
   "nbconvert_exporter": "python",
   "pygments_lexer": "ipython3",
   "version": "3.10.6"
  }
 },
 "nbformat": 4,
 "nbformat_minor": 5
}
