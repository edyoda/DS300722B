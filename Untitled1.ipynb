{
 "cells": [
  {
   "cell_type": "markdown",
   "id": "9a01b6a6",
   "metadata": {},
   "source": [
    "# Dictionaries"
   ]
  },
  {
   "cell_type": "code",
   "execution_count": null,
   "id": "07353541",
   "metadata": {},
   "outputs": [],
   "source": []
  },
  {
   "cell_type": "code",
   "execution_count": 2,
   "id": "4c172d51",
   "metadata": {},
   "outputs": [],
   "source": [
    "sample_1 = {\"name_1\":\"Raj\",\"name_2\":\"Ansari\",\"name_3\":\"Aarushi\",\"name_4\":\"Raj\"}"
   ]
  },
  {
   "cell_type": "code",
   "execution_count": 3,
   "id": "11367b7a",
   "metadata": {},
   "outputs": [],
   "source": [
    "sample_2 = {\"name_1\":\"Raj\",\"name_2\":\"Ansari\",\"name_1\":\"Aarushi\"}"
   ]
  },
  {
   "cell_type": "code",
   "execution_count": 4,
   "id": "82399385",
   "metadata": {},
   "outputs": [
    {
     "name": "stdout",
     "output_type": "stream",
     "text": [
      "{'name_1': 'Raj', 'name_2': 'Ansari', 'name_3': 'Aarushi', 'name_4': 'Raj'}\n"
     ]
    }
   ],
   "source": [
    "print(sample_1)"
   ]
  },
  {
   "cell_type": "code",
   "execution_count": 5,
   "id": "a6f1cdf7",
   "metadata": {},
   "outputs": [
    {
     "name": "stdout",
     "output_type": "stream",
     "text": [
      "{'name_1': 'Aarushi', 'name_2': 'Ansari'}\n"
     ]
    }
   ],
   "source": [
    "print(sample_2)"
   ]
  },
  {
   "cell_type": "code",
   "execution_count": 6,
   "id": "5fcd99f4",
   "metadata": {},
   "outputs": [],
   "source": [
    "sample_1.clear()"
   ]
  },
  {
   "cell_type": "code",
   "execution_count": 7,
   "id": "f33a0e82",
   "metadata": {},
   "outputs": [
    {
     "data": {
      "text/plain": [
       "{}"
      ]
     },
     "execution_count": 7,
     "metadata": {},
     "output_type": "execute_result"
    }
   ],
   "source": [
    "sample_1"
   ]
  },
  {
   "cell_type": "code",
   "execution_count": 8,
   "id": "45d778b6",
   "metadata": {},
   "outputs": [
    {
     "data": {
      "text/plain": [
       "'Aarushi'"
      ]
     },
     "execution_count": 8,
     "metadata": {},
     "output_type": "execute_result"
    }
   ],
   "source": [
    "sample_2['name_1']"
   ]
  },
  {
   "cell_type": "code",
   "execution_count": 9,
   "id": "c48de2a0",
   "metadata": {},
   "outputs": [
    {
     "ename": "KeyError",
     "evalue": "'name_3'",
     "output_type": "error",
     "traceback": [
      "\u001b[1;31m---------------------------------------------------------------------------\u001b[0m",
      "\u001b[1;31mKeyError\u001b[0m                                  Traceback (most recent call last)",
      "Input \u001b[1;32mIn [9]\u001b[0m, in \u001b[0;36m<cell line: 1>\u001b[1;34m()\u001b[0m\n\u001b[1;32m----> 1\u001b[0m \u001b[43msample_2\u001b[49m\u001b[43m[\u001b[49m\u001b[38;5;124;43m'\u001b[39;49m\u001b[38;5;124;43mname_3\u001b[39;49m\u001b[38;5;124;43m'\u001b[39;49m\u001b[43m]\u001b[49m\n",
      "\u001b[1;31mKeyError\u001b[0m: 'name_3'"
     ]
    }
   ],
   "source": [
    "sample_2['name_3']"
   ]
  },
  {
   "cell_type": "code",
   "execution_count": 12,
   "id": "c39c1258",
   "metadata": {},
   "outputs": [
    {
     "name": "stdout",
     "output_type": "stream",
     "text": [
      "None\n"
     ]
    }
   ],
   "source": [
    "print(sample_2.get('name_3'))"
   ]
  },
  {
   "cell_type": "code",
   "execution_count": 13,
   "id": "55ccd9a8",
   "metadata": {},
   "outputs": [
    {
     "data": {
      "text/plain": [
       "dict_keys(['name_1', 'name_2'])"
      ]
     },
     "execution_count": 13,
     "metadata": {},
     "output_type": "execute_result"
    }
   ],
   "source": [
    "sample_2.keys()"
   ]
  },
  {
   "cell_type": "code",
   "execution_count": 14,
   "id": "6191ab63",
   "metadata": {},
   "outputs": [
    {
     "data": {
      "text/plain": [
       "dict_values(['Aarushi', 'Ansari'])"
      ]
     },
     "execution_count": 14,
     "metadata": {},
     "output_type": "execute_result"
    }
   ],
   "source": [
    "sample_2.values()"
   ]
  },
  {
   "cell_type": "code",
   "execution_count": 15,
   "id": "8513e188",
   "metadata": {},
   "outputs": [
    {
     "name": "stdout",
     "output_type": "stream",
     "text": [
      "Help on built-in function fromkeys:\n",
      "\n",
      "fromkeys(iterable, value=None, /) method of builtins.type instance\n",
      "    Create a new dictionary with keys from iterable and values set to value.\n",
      "\n"
     ]
    }
   ],
   "source": [
    "help(dict.fromkeys)"
   ]
  },
  {
   "cell_type": "code",
   "execution_count": 16,
   "id": "1890a940",
   "metadata": {},
   "outputs": [],
   "source": [
    "keys = [\"name_1\",\"name_2\",\"name_3\"]\n",
    "values = [\"Raj\",\"Ansari\",\"Aarushi\"]"
   ]
  },
  {
   "cell_type": "code",
   "execution_count": 17,
   "id": "31a233df",
   "metadata": {},
   "outputs": [],
   "source": [
    "new_sample_dict = dict.fromkeys(keys,values)"
   ]
  },
  {
   "cell_type": "code",
   "execution_count": 18,
   "id": "c750cb05",
   "metadata": {},
   "outputs": [
    {
     "data": {
      "text/plain": [
       "{'name_1': ['Raj', 'Ansari', 'Aarushi'],\n",
       " 'name_2': ['Raj', 'Ansari', 'Aarushi'],\n",
       " 'name_3': ['Raj', 'Ansari', 'Aarushi']}"
      ]
     },
     "execution_count": 18,
     "metadata": {},
     "output_type": "execute_result"
    }
   ],
   "source": [
    "new_sample_dict"
   ]
  },
  {
   "cell_type": "code",
   "execution_count": 19,
   "id": "a2db1794",
   "metadata": {},
   "outputs": [],
   "source": [
    "marks_dict = {\"Raj\":70,\"Ansari\":80,\"Aarushi\":75}"
   ]
  },
  {
   "cell_type": "code",
   "execution_count": 21,
   "id": "a5483062",
   "metadata": {},
   "outputs": [],
   "source": [
    "# Program to calculate average marks attained by students\n",
    "marks_total = 0\n",
    "for value in marks_dict.values():\n",
    "    marks_total = marks_total + value"
   ]
  },
  {
   "cell_type": "code",
   "execution_count": 23,
   "id": "01d84e5d",
   "metadata": {},
   "outputs": [
    {
     "data": {
      "text/plain": [
       "75.0"
      ]
     },
     "execution_count": 23,
     "metadata": {},
     "output_type": "execute_result"
    }
   ],
   "source": [
    "marks_total/len(marks_dict)"
   ]
  },
  {
   "cell_type": "code",
   "execution_count": 24,
   "id": "04082861",
   "metadata": {},
   "outputs": [
    {
     "data": {
      "text/plain": [
       "dict_items([('Raj', 70), ('Ansari', 80), ('Aarushi', 75)])"
      ]
     },
     "execution_count": 24,
     "metadata": {},
     "output_type": "execute_result"
    }
   ],
   "source": [
    "marks_dict.items()"
   ]
  },
  {
   "cell_type": "code",
   "execution_count": 27,
   "id": "09491808",
   "metadata": {},
   "outputs": [
    {
     "name": "stdout",
     "output_type": "stream",
     "text": [
      "75.0\n"
     ]
    }
   ],
   "source": [
    "marks_total = 0\n",
    "for key,value in marks_dict.items():\n",
    "#     print(key,value)\n",
    "    marks_total = marks_total + value\n",
    "print(marks_total/len(marks_dict))"
   ]
  },
  {
   "cell_type": "code",
   "execution_count": 30,
   "id": "6d147d3c",
   "metadata": {},
   "outputs": [
    {
     "data": {
      "text/plain": [
       "70"
      ]
     },
     "execution_count": 30,
     "metadata": {},
     "output_type": "execute_result"
    }
   ],
   "source": [
    "marks_dict.pop(\"Raj\")"
   ]
  },
  {
   "cell_type": "code",
   "execution_count": 31,
   "id": "ea3ea5ec",
   "metadata": {},
   "outputs": [
    {
     "data": {
      "text/plain": [
       "{'Ansari': 80, 'Aarushi': 75}"
      ]
     },
     "execution_count": 31,
     "metadata": {},
     "output_type": "execute_result"
    }
   ],
   "source": [
    "marks_dict"
   ]
  },
  {
   "cell_type": "code",
   "execution_count": 32,
   "id": "cb196d00",
   "metadata": {},
   "outputs": [
    {
     "data": {
      "text/plain": [
       "('Aarushi', 75)"
      ]
     },
     "execution_count": 32,
     "metadata": {},
     "output_type": "execute_result"
    }
   ],
   "source": [
    "marks_dict.popitem()"
   ]
  },
  {
   "cell_type": "code",
   "execution_count": 33,
   "id": "f0ccd27a",
   "metadata": {},
   "outputs": [
    {
     "data": {
      "text/plain": [
       "{'Ansari': 80}"
      ]
     },
     "execution_count": 33,
     "metadata": {},
     "output_type": "execute_result"
    }
   ],
   "source": [
    "marks_dict"
   ]
  },
  {
   "cell_type": "markdown",
   "id": "d13e839f",
   "metadata": {},
   "source": [
    "## lstrip,rstrip,strip"
   ]
  },
  {
   "cell_type": "code",
   "execution_count": 35,
   "id": "5081e561",
   "metadata": {},
   "outputs": [],
   "source": [
    "my_string = \"             Raj is a good student             \""
   ]
  },
  {
   "cell_type": "code",
   "execution_count": 36,
   "id": "e0e2ab76",
   "metadata": {},
   "outputs": [
    {
     "data": {
      "text/plain": [
       "'Raj is a good student             '"
      ]
     },
     "execution_count": 36,
     "metadata": {},
     "output_type": "execute_result"
    }
   ],
   "source": [
    "my_string.lstrip()"
   ]
  },
  {
   "cell_type": "code",
   "execution_count": 37,
   "id": "1a2a9d8a",
   "metadata": {},
   "outputs": [
    {
     "data": {
      "text/plain": [
       "'             Raj is a good student'"
      ]
     },
     "execution_count": 37,
     "metadata": {},
     "output_type": "execute_result"
    }
   ],
   "source": [
    "my_string.rstrip()"
   ]
  },
  {
   "cell_type": "code",
   "execution_count": 38,
   "id": "44ec8e3c",
   "metadata": {},
   "outputs": [
    {
     "data": {
      "text/plain": [
       "'Raj is a good student'"
      ]
     },
     "execution_count": 38,
     "metadata": {},
     "output_type": "execute_result"
    }
   ],
   "source": [
    "my_string.strip()"
   ]
  },
  {
   "cell_type": "code",
   "execution_count": 39,
   "id": "d378cc39",
   "metadata": {},
   "outputs": [],
   "source": [
    "# Tuples"
   ]
  },
  {
   "cell_type": "code",
   "execution_count": 40,
   "id": "8a4ece31",
   "metadata": {},
   "outputs": [
    {
     "name": "stdout",
     "output_type": "stream",
     "text": [
      "Help on class tuple in module builtins:\n",
      "\n",
      "class tuple(object)\n",
      " |  tuple(iterable=(), /)\n",
      " |  \n",
      " |  Built-in immutable sequence.\n",
      " |  \n",
      " |  If no argument is given, the constructor returns an empty tuple.\n",
      " |  If iterable is specified the tuple is initialized from iterable's items.\n",
      " |  \n",
      " |  If the argument is a tuple, the return value is the same object.\n",
      " |  \n",
      " |  Built-in subclasses:\n",
      " |      asyncgen_hooks\n",
      " |      UnraisableHookArgs\n",
      " |  \n",
      " |  Methods defined here:\n",
      " |  \n",
      " |  __add__(self, value, /)\n",
      " |      Return self+value.\n",
      " |  \n",
      " |  __contains__(self, key, /)\n",
      " |      Return key in self.\n",
      " |  \n",
      " |  __eq__(self, value, /)\n",
      " |      Return self==value.\n",
      " |  \n",
      " |  __ge__(self, value, /)\n",
      " |      Return self>=value.\n",
      " |  \n",
      " |  __getattribute__(self, name, /)\n",
      " |      Return getattr(self, name).\n",
      " |  \n",
      " |  __getitem__(self, key, /)\n",
      " |      Return self[key].\n",
      " |  \n",
      " |  __getnewargs__(self, /)\n",
      " |  \n",
      " |  __gt__(self, value, /)\n",
      " |      Return self>value.\n",
      " |  \n",
      " |  __hash__(self, /)\n",
      " |      Return hash(self).\n",
      " |  \n",
      " |  __iter__(self, /)\n",
      " |      Implement iter(self).\n",
      " |  \n",
      " |  __le__(self, value, /)\n",
      " |      Return self<=value.\n",
      " |  \n",
      " |  __len__(self, /)\n",
      " |      Return len(self).\n",
      " |  \n",
      " |  __lt__(self, value, /)\n",
      " |      Return self<value.\n",
      " |  \n",
      " |  __mul__(self, value, /)\n",
      " |      Return self*value.\n",
      " |  \n",
      " |  __ne__(self, value, /)\n",
      " |      Return self!=value.\n",
      " |  \n",
      " |  __repr__(self, /)\n",
      " |      Return repr(self).\n",
      " |  \n",
      " |  __rmul__(self, value, /)\n",
      " |      Return value*self.\n",
      " |  \n",
      " |  count(self, value, /)\n",
      " |      Return number of occurrences of value.\n",
      " |  \n",
      " |  index(self, value, start=0, stop=9223372036854775807, /)\n",
      " |      Return first index of value.\n",
      " |      \n",
      " |      Raises ValueError if the value is not present.\n",
      " |  \n",
      " |  ----------------------------------------------------------------------\n",
      " |  Class methods defined here:\n",
      " |  \n",
      " |  __class_getitem__(...) from builtins.type\n",
      " |      See PEP 585\n",
      " |  \n",
      " |  ----------------------------------------------------------------------\n",
      " |  Static methods defined here:\n",
      " |  \n",
      " |  __new__(*args, **kwargs) from builtins.type\n",
      " |      Create and return a new object.  See help(type) for accurate signature.\n",
      "\n"
     ]
    }
   ],
   "source": [
    "help(tuple)"
   ]
  },
  {
   "cell_type": "code",
   "execution_count": 43,
   "id": "b37f9329",
   "metadata": {},
   "outputs": [],
   "source": [
    "sample_tuple = (1,2,3,4,5,6,7,8,9,10,10)"
   ]
  },
  {
   "cell_type": "code",
   "execution_count": 44,
   "id": "cc375466",
   "metadata": {},
   "outputs": [
    {
     "data": {
      "text/plain": [
       "2"
      ]
     },
     "execution_count": 44,
     "metadata": {},
     "output_type": "execute_result"
    }
   ],
   "source": [
    "sample_tuple.count(10)"
   ]
  },
  {
   "cell_type": "code",
   "execution_count": 46,
   "id": "75baf0e2",
   "metadata": {},
   "outputs": [
    {
     "data": {
      "text/plain": [
       "9"
      ]
     },
     "execution_count": 46,
     "metadata": {},
     "output_type": "execute_result"
    }
   ],
   "source": [
    "sample_tuple.index(10)"
   ]
  },
  {
   "cell_type": "markdown",
   "id": "6a8eaf65",
   "metadata": {},
   "source": [
    "## Unpacking of tuples"
   ]
  },
  {
   "cell_type": "code",
   "execution_count": 51,
   "id": "20c23b52",
   "metadata": {},
   "outputs": [],
   "source": [
    "result_tuple = (1,2,10)"
   ]
  },
  {
   "cell_type": "code",
   "execution_count": 52,
   "id": "8b0cc27a",
   "metadata": {},
   "outputs": [],
   "source": [
    "result_1,result_2,result_3 = result_tuple"
   ]
  },
  {
   "cell_type": "code",
   "execution_count": 53,
   "id": "7d573d17",
   "metadata": {},
   "outputs": [
    {
     "name": "stdout",
     "output_type": "stream",
     "text": [
      "1\n"
     ]
    }
   ],
   "source": [
    "print(result_1)"
   ]
  },
  {
   "cell_type": "code",
   "execution_count": 54,
   "id": "cb0a9332",
   "metadata": {},
   "outputs": [
    {
     "name": "stdout",
     "output_type": "stream",
     "text": [
      "2\n"
     ]
    }
   ],
   "source": [
    "print(result_2)"
   ]
  },
  {
   "cell_type": "code",
   "execution_count": 55,
   "id": "434e65c5",
   "metadata": {},
   "outputs": [
    {
     "name": "stdout",
     "output_type": "stream",
     "text": [
      "10\n"
     ]
    }
   ],
   "source": [
    "print(result_3)"
   ]
  },
  {
   "cell_type": "code",
   "execution_count": 56,
   "id": "7f51f610",
   "metadata": {},
   "outputs": [],
   "source": [
    "## Practice Problem\n",
    "Binary Search"
   ]
  },
  {
   "cell_type": "code",
   "execution_count": 57,
   "id": "0cc36167",
   "metadata": {},
   "outputs": [
    {
     "name": "stdout",
     "output_type": "stream",
     "text": [
      "adoydE"
     ]
    }
   ],
   "source": [
    "original_str='Edyoda'\n",
    "reverse_str=\"\"\n",
    "for i in range(len(original_str)-1,-1,-1):\n",
    "    reverse_string=reverse_str+original_str[i]\n",
    "    print(reverse_string,end=\"\")\n"
   ]
  },
  {
   "cell_type": "code",
   "execution_count": 59,
   "id": "1f868a32",
   "metadata": {},
   "outputs": [
    {
     "name": "stdout",
     "output_type": "stream",
     "text": [
      "5 4 3 2 1 0 "
     ]
    }
   ],
   "source": [
    "original_str='Edyoda'\n",
    "reverse_str=\"\"\n",
    "for i in range(len(original_str)-1,-1,-1):\n",
    "    print(i,end=\" \")"
   ]
  },
  {
   "cell_type": "code",
   "execution_count": null,
   "id": "83f299ba",
   "metadata": {},
   "outputs": [],
   "source": []
  }
 ],
 "metadata": {
  "kernelspec": {
   "display_name": "Python 3 (ipykernel)",
   "language": "python",
   "name": "python3"
  },
  "language_info": {
   "codemirror_mode": {
    "name": "ipython",
    "version": 3
   },
   "file_extension": ".py",
   "mimetype": "text/x-python",
   "name": "python",
   "nbconvert_exporter": "python",
   "pygments_lexer": "ipython3",
   "version": "3.10.6"
  }
 },
 "nbformat": 4,
 "nbformat_minor": 5
}
