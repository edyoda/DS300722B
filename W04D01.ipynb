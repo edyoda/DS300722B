{
 "cells": [
  {
   "cell_type": "markdown",
   "id": "cd8e45c0",
   "metadata": {},
   "source": [
    "## Functions"
   ]
  },
  {
   "cell_type": "code",
   "execution_count": 4,
   "id": "5d300bc5",
   "metadata": {},
   "outputs": [],
   "source": [
    "def my_sum(my_list):\n",
    "    summation = 0\n",
    "    for i in my_list:\n",
    "        summation+=i\n",
    "    \n",
    "    return summation"
   ]
  },
  {
   "cell_type": "code",
   "execution_count": 1,
   "id": "84d38111",
   "metadata": {},
   "outputs": [
    {
     "data": {
      "text/plain": [
       "15"
      ]
     },
     "execution_count": 1,
     "metadata": {},
     "output_type": "execute_result"
    }
   ],
   "source": [
    "a_list = [1,2,3,4,5]\n",
    "sum(a_list)"
   ]
  },
  {
   "cell_type": "code",
   "execution_count": 5,
   "id": "94c79124",
   "metadata": {},
   "outputs": [
    {
     "data": {
      "text/plain": [
       "15"
      ]
     },
     "execution_count": 5,
     "metadata": {},
     "output_type": "execute_result"
    }
   ],
   "source": [
    "my_sum(a_list)"
   ]
  },
  {
   "cell_type": "code",
   "execution_count": 6,
   "id": "3ea34d67",
   "metadata": {},
   "outputs": [],
   "source": [
    "def hello():\n",
    "    print(\"Hello Functions\")"
   ]
  },
  {
   "cell_type": "code",
   "execution_count": 7,
   "id": "9c7a9d77",
   "metadata": {},
   "outputs": [
    {
     "name": "stdout",
     "output_type": "stream",
     "text": [
      "Hello Functions\n"
     ]
    }
   ],
   "source": [
    "hello()"
   ]
  },
  {
   "cell_type": "code",
   "execution_count": null,
   "id": "523b77e1",
   "metadata": {},
   "outputs": [],
   "source": [
    "append()"
   ]
  },
  {
   "cell_type": "code",
   "execution_count": null,
   "id": "9ce0045d",
   "metadata": {},
   "outputs": [],
   "source": [
    "'''\n",
    "my_num = [1,2,3,4,5,6,7,8,9,10]\n",
    "\n",
    "print(\"Sum of my num\")\n",
    "## code to get sum of my num\n",
    "## 10 lines\n",
    "\n",
    "# 100line\n",
    "\n",
    "\n",
    "print(\"sum of my num after multiplying every element by 2\")\n",
    "## code to get sum\n",
    "## 12 lines \\\n",
    "functions\n",
    "'''\n",
    "\n"
   ]
  },
  {
   "cell_type": "code",
   "execution_count": 9,
   "id": "66519f41",
   "metadata": {},
   "outputs": [],
   "source": [
    "a_list  = [(\"Rahul\",5),(\"Aarushi\",7),(\"Shubham\",6),(\"Ansari\",7),(\"Shashwat\",6)]\n",
    "Write a function to convert my given list of tuples in to dictionary where my key is first element of tuple and value is second value of tuple\n",
    "write another which takes a dictionary as an argument and returns the key with highest and key with lowest value"
   ]
  },
  {
   "cell_type": "code",
   "execution_count": 12,
   "id": "06d0c550",
   "metadata": {},
   "outputs": [],
   "source": [
    "def convert_to_dict(my_list):\n",
    "    my_dict=dict(my_list)\n",
    "    return my_dict"
   ]
  },
  {
   "cell_type": "code",
   "execution_count": 13,
   "id": "2939f338",
   "metadata": {},
   "outputs": [],
   "source": [
    "a_list  = [(\"Rahul\",5),(\"Aarushi\",7),(\"Shubham\",6),(\"Ansari\",7),(\"Shashwat\",6)]\n"
   ]
  },
  {
   "cell_type": "code",
   "execution_count": 15,
   "id": "e4374031",
   "metadata": {},
   "outputs": [],
   "source": [
    "sample_dict = convert_to_dict(a_list)"
   ]
  },
  {
   "cell_type": "code",
   "execution_count": 16,
   "id": "e53c4e28",
   "metadata": {},
   "outputs": [
    {
     "name": "stdout",
     "output_type": "stream",
     "text": [
      "{'Rahul': 5, 'Aarushi': 7, 'Shubham': 6, 'Ansari': 7, 'Shashwat': 6}\n"
     ]
    }
   ],
   "source": [
    "print(sample_dict)"
   ]
  },
  {
   "cell_type": "code",
   "execution_count": null,
   "id": "926ef9bb",
   "metadata": {},
   "outputs": [],
   "source": []
  },
  {
   "cell_type": "code",
   "execution_count": null,
   "id": "0bdcd91e",
   "metadata": {},
   "outputs": [],
   "source": []
  },
  {
   "cell_type": "code",
   "execution_count": 33,
   "id": "c2f4cca4",
   "metadata": {},
   "outputs": [],
   "source": [
    "# for key,value in sample_dict.items():\n",
    "#     print(key,value)\n",
    "\n",
    "sample_list = list(sample_dict.items())"
   ]
  },
  {
   "cell_type": "code",
   "execution_count": 27,
   "id": "84d942be",
   "metadata": {},
   "outputs": [],
   "source": [
    "sample_list.sort(reverse=True)"
   ]
  },
  {
   "cell_type": "code",
   "execution_count": 28,
   "id": "48d747b3",
   "metadata": {},
   "outputs": [
    {
     "data": {
      "text/plain": [
       "[('Shubham', 6), ('Shashwat', 6), ('Rahul', 5), ('Ansari', 7), ('Aarushi', 7)]"
      ]
     },
     "execution_count": 28,
     "metadata": {},
     "output_type": "execute_result"
    }
   ],
   "source": [
    "sample_list"
   ]
  },
  {
   "cell_type": "code",
   "execution_count": 29,
   "id": "3a3e5eab",
   "metadata": {},
   "outputs": [],
   "source": [
    "def my_func(element):\n",
    "    return element[1]"
   ]
  },
  {
   "cell_type": "code",
   "execution_count": 31,
   "id": "427b9b99",
   "metadata": {},
   "outputs": [],
   "source": [
    "sample_list.sort(key=my_func)"
   ]
  },
  {
   "cell_type": "code",
   "execution_count": 32,
   "id": "303773a3",
   "metadata": {},
   "outputs": [
    {
     "data": {
      "text/plain": [
       "[('Rahul', 5), ('Shubham', 6), ('Shashwat', 6), ('Ansari', 7), ('Aarushi', 7)]"
      ]
     },
     "execution_count": 32,
     "metadata": {},
     "output_type": "execute_result"
    }
   ],
   "source": [
    "sample_list"
   ]
  },
  {
   "cell_type": "code",
   "execution_count": 36,
   "id": "da3d4c9f",
   "metadata": {},
   "outputs": [
    {
     "name": "stdout",
     "output_type": "stream",
     "text": [
      "{'Aarushi': 7, 'Ansari': 7, 'Rahul': 5, 'Shashwat': 6, 'Shubham': 6}\n"
     ]
    }
   ],
   "source": [
    "# l2 = [(\"Rahul\",5),(\"Aarushi\",7),(\"Shubham\",6),(\"Ansari\",7),(\"Shashwat\",6)]\n",
    "# l1=[]\n",
    "# for a in range(len(l2)):\n",
    "#     l1.append(list(l2[a])) \n",
    "#     l1.sort()\n",
    "# def tup_to_dict(l1):       \n",
    "#         dict1={}\n",
    "#         for i in range(len(l1)):\n",
    "#             for j in range(len(l1[i])):\n",
    "#                 dict1[l1[i][0]] = l1[i][1]\n",
    "#         print(dict1)\n",
    "# tup_to_dict(l1)"
   ]
  },
  {
   "cell_type": "code",
   "execution_count": 56,
   "id": "fa56826f",
   "metadata": {},
   "outputs": [],
   "source": [
    "sample_list = [('Raj',5),('Rahul', 5), ('Aarushi', 7), ('Shubham', 6), ('Ansari', 7), ('Shashwat', 6)]\n",
    "\n",
    "\n",
    "sample_dict  = convert_to_dict(sample_list)"
   ]
  },
  {
   "cell_type": "code",
   "execution_count": 38,
   "id": "9cda0e81",
   "metadata": {},
   "outputs": [
    {
     "data": {
      "text/plain": [
       "65"
      ]
     },
     "execution_count": 38,
     "metadata": {},
     "output_type": "execute_result"
    }
   ],
   "source": [
    "ord(\"A\")"
   ]
  },
  {
   "cell_type": "code",
   "execution_count": 39,
   "id": "2694e58c",
   "metadata": {},
   "outputs": [
    {
     "data": {
      "text/plain": [
       "'@'"
      ]
     },
     "execution_count": 39,
     "metadata": {},
     "output_type": "execute_result"
    }
   ],
   "source": [
    "chr(64)"
   ]
  },
  {
   "cell_type": "code",
   "execution_count": 41,
   "id": "5666a789",
   "metadata": {},
   "outputs": [
    {
     "data": {
      "text/plain": [
       "False"
      ]
     },
     "execution_count": 41,
     "metadata": {},
     "output_type": "execute_result"
    }
   ],
   "source": [
    "\"A\"<\"@\""
   ]
  },
  {
   "cell_type": "code",
   "execution_count": 51,
   "id": "d774d9b8",
   "metadata": {},
   "outputs": [],
   "source": [
    "high_val = -1\n",
    "\n",
    "low_val = 999999\n",
    "\n",
    "for element in sample_list:\n",
    "    if high_val<element[1]:\n",
    "        high_val=element[1]\n",
    "        high_name = element[0]\n",
    "    elif high_val==element[1]:\n",
    "        if high_name>element[0]:\n",
    "            high_name = element[0]\n",
    "            \n",
    "    if low_val>element[1]:\n",
    "        low_val = element[1]\n",
    "        low_name = element[0]\n",
    "    elif low_val==element[1]:\n",
    "        if low_name>element[0]:\n",
    "            low_name = element[0]\n",
    "        "
   ]
  },
  {
   "cell_type": "code",
   "execution_count": 52,
   "id": "0546d085",
   "metadata": {},
   "outputs": [
    {
     "data": {
      "text/plain": [
       "('Aarushi', 7)"
      ]
     },
     "execution_count": 52,
     "metadata": {},
     "output_type": "execute_result"
    }
   ],
   "source": [
    "high_name,high_val"
   ]
  },
  {
   "cell_type": "code",
   "execution_count": 53,
   "id": "091f1bd5",
   "metadata": {},
   "outputs": [
    {
     "data": {
      "text/plain": [
       "('Rahul', 5)"
      ]
     },
     "execution_count": 53,
     "metadata": {},
     "output_type": "execute_result"
    }
   ],
   "source": [
    "low_name,low_val"
   ]
  },
  {
   "cell_type": "code",
   "execution_count": 57,
   "id": "dc2c6a47",
   "metadata": {},
   "outputs": [
    {
     "data": {
      "text/plain": [
       "{'Raj': 5, 'Rahul': 5, 'Aarushi': 7, 'Shubham': 6, 'Ansari': 7, 'Shashwat': 6}"
      ]
     },
     "execution_count": 57,
     "metadata": {},
     "output_type": "execute_result"
    }
   ],
   "source": [
    "sample_dict"
   ]
  },
  {
   "cell_type": "code",
   "execution_count": 74,
   "id": "3fd4c6c5",
   "metadata": {},
   "outputs": [],
   "source": [
    "def get_highest_and_lowest(my_dict):\n",
    "    sample_list=list(my_dict.items())\n",
    "    high_val = -1\n",
    "    low_val = 999999\n",
    "    for element in sample_list:\n",
    "        if high_val<element[1]:\n",
    "            high_val=element[1]\n",
    "            high_name = element[0]\n",
    "        elif high_val==element[1]:\n",
    "            if high_name>element[0]:\n",
    "                high_name = element[0]\n",
    "\n",
    "        if low_val>element[1]:\n",
    "            low_val = element[1]\n",
    "            low_name = element[0]\n",
    "        elif low_val==element[1]:\n",
    "            if low_name>element[0]:\n",
    "                low_name = element[0]\n",
    "    return {low_name:low_val,high_name:high_val}"
   ]
  },
  {
   "cell_type": "code",
   "execution_count": 75,
   "id": "170eb915",
   "metadata": {},
   "outputs": [
    {
     "data": {
      "text/plain": [
       "{'Rahul': 5, 'Aarushi': 7}"
      ]
     },
     "execution_count": 75,
     "metadata": {},
     "output_type": "execute_result"
    }
   ],
   "source": [
    "get_highest_and_lowest(sample_dict)"
   ]
  },
  {
   "cell_type": "code",
   "execution_count": null,
   "id": "f7780456",
   "metadata": {},
   "outputs": [],
   "source": [
    "s"
   ]
  }
 ],
 "metadata": {
  "kernelspec": {
   "display_name": "Python 3 (ipykernel)",
   "language": "python",
   "name": "python3"
  },
  "language_info": {
   "codemirror_mode": {
    "name": "ipython",
    "version": 3
   },
   "file_extension": ".py",
   "mimetype": "text/x-python",
   "name": "python",
   "nbconvert_exporter": "python",
   "pygments_lexer": "ipython3",
   "version": "3.10.6"
  }
 },
 "nbformat": 4,
 "nbformat_minor": 5
}
