{
 "cells": [
  {
   "cell_type": "code",
   "execution_count": 1,
   "id": "d43ba294",
   "metadata": {},
   "outputs": [],
   "source": [
    "# Write a program to display product of the digits of a number accepted from the user.\n"
   ]
  },
  {
   "cell_type": "code",
   "execution_count": 4,
   "id": "b3671c03",
   "metadata": {},
   "outputs": [
    {
     "name": "stdout",
     "output_type": "stream",
     "text": [
      "2389\n"
     ]
    }
   ],
   "source": [
    "input_number  = input()\n",
    "input_num_list = list(input_number)"
   ]
  },
  {
   "cell_type": "code",
   "execution_count": 5,
   "id": "264ac423",
   "metadata": {},
   "outputs": [
    {
     "data": {
      "text/plain": [
       "['2', '3', '8', '9']"
      ]
     },
     "execution_count": 5,
     "metadata": {},
     "output_type": "execute_result"
    }
   ],
   "source": [
    "input_num_list"
   ]
  },
  {
   "cell_type": "code",
   "execution_count": 8,
   "id": "4021f79e",
   "metadata": {},
   "outputs": [],
   "source": [
    "input_num_list = [int(num) for num in input_num_list]"
   ]
  },
  {
   "cell_type": "code",
   "execution_count": 9,
   "id": "e6825a7f",
   "metadata": {},
   "outputs": [],
   "source": [
    "product  = 1\n",
    "for num in input_num_list:\n",
    "    product=product*num"
   ]
  },
  {
   "cell_type": "code",
   "execution_count": 10,
   "id": "3cd769c3",
   "metadata": {},
   "outputs": [
    {
     "data": {
      "text/plain": [
       "432"
      ]
     },
     "execution_count": 10,
     "metadata": {},
     "output_type": "execute_result"
    }
   ],
   "source": [
    "product"
   ]
  },
  {
   "cell_type": "code",
   "execution_count": 83,
   "id": "42344ef7",
   "metadata": {},
   "outputs": [],
   "source": [
    "ansari = Employee(\"Ansari\",\"\",700000)\n",
    "ajay = Employee(\"Ajay\",\"Kushwaha\",75000)"
   ]
  },
  {
   "cell_type": "code",
   "execution_count": 84,
   "id": "732a34ee",
   "metadata": {},
   "outputs": [
    {
     "name": "stdout",
     "output_type": "stream",
     "text": [
      "Ansari  700000\n"
     ]
    }
   ],
   "source": [
    "ansari.list_details()"
   ]
  },
  {
   "cell_type": "code",
   "execution_count": 85,
   "id": "d9601d6f",
   "metadata": {},
   "outputs": [
    {
     "name": "stdout",
     "output_type": "stream",
     "text": [
      "Ajay Kushwaha 75000\n"
     ]
    }
   ],
   "source": [
    "ajay.list_details()"
   ]
  },
  {
   "cell_type": "code",
   "execution_count": 42,
   "id": "5d0b7db3",
   "metadata": {},
   "outputs": [],
   "source": [
    "ajay.increase_salary()"
   ]
  },
  {
   "cell_type": "code",
   "execution_count": 43,
   "id": "a6c4ebb8",
   "metadata": {},
   "outputs": [
    {
     "name": "stdout",
     "output_type": "stream",
     "text": [
      "Ajay\n",
      "Kushwaha\n",
      "Ajay.Kushwaha@edyoda.com\n",
      "82500.0\n"
     ]
    }
   ],
   "source": [
    "ajay.list_details()"
   ]
  },
  {
   "cell_type": "code",
   "execution_count": 45,
   "id": "9986717e",
   "metadata": {},
   "outputs": [],
   "source": [
    "ansari.increase_salary()"
   ]
  },
  {
   "cell_type": "code",
   "execution_count": 46,
   "id": "5b38485d",
   "metadata": {},
   "outputs": [
    {
     "name": "stdout",
     "output_type": "stream",
     "text": [
      "Ansari\n",
      "\n",
      "Ansari.@edyoda.com\n",
      "770000.0\n"
     ]
    }
   ],
   "source": [
    "ansari.list_details()"
   ]
  },
  {
   "cell_type": "code",
   "execution_count": 86,
   "id": "91f02854",
   "metadata": {},
   "outputs": [],
   "source": [
    "class Manager(Employee):\n",
    "    def __init__(self,fname,lname,fixed_ctc,subordinate=None):\n",
    "        \n",
    "#         super(Manager,self).__init__(fname,lname,fixed_ctc)\n",
    "\n",
    "        Employee.__init__(self,fname,lname,fixed_ctc)\n",
    "        if subordinate==None:\n",
    "            self.subordinates = []\n",
    "\n",
    "    \n",
    "    def get_subordinates(self):\n",
    "        print(\"Manager : {}\".format(self.fname+\" \"+self.lname))\n",
    "        for employee in self.subordinates:\n",
    "            employee.list_details()\n",
    "            \n",
    "       \n",
    "    \n",
    "    def add_subordinate(self,subordinate):\n",
    "        self.subordinates.append(subordinate)\n",
    "    "
   ]
  },
  {
   "cell_type": "code",
   "execution_count": 87,
   "id": "b5197e3c",
   "metadata": {},
   "outputs": [],
   "source": [
    "muskan = Manager(\"Muskan\",\"Sharma\",1500000,None)"
   ]
  },
  {
   "cell_type": "code",
   "execution_count": 88,
   "id": "8d07a685",
   "metadata": {},
   "outputs": [
    {
     "name": "stdout",
     "output_type": "stream",
     "text": [
      "Muskan Sharma 1500000\n"
     ]
    }
   ],
   "source": [
    "muskan.list_details()"
   ]
  },
  {
   "cell_type": "code",
   "execution_count": null,
   "id": "7b83a87b",
   "metadata": {},
   "outputs": [],
   "source": []
  },
  {
   "cell_type": "code",
   "execution_count": 78,
   "id": "0ccde4bd",
   "metadata": {},
   "outputs": [
    {
     "name": "stdout",
     "output_type": "stream",
     "text": [
      "Manager : Muskan Sharma Subordinates: []\n"
     ]
    }
   ],
   "source": [
    "muskan.get_subordinates()"
   ]
  },
  {
   "cell_type": "code",
   "execution_count": 89,
   "id": "5d19ea17",
   "metadata": {},
   "outputs": [],
   "source": [
    "muskan.add_subordinate(ansari)"
   ]
  },
  {
   "cell_type": "code",
   "execution_count": 90,
   "id": "f3c053e6",
   "metadata": {},
   "outputs": [
    {
     "name": "stdout",
     "output_type": "stream",
     "text": [
      "Manager : Muskan Sharma\n",
      "Ansari  700000\n"
     ]
    }
   ],
   "source": [
    "muskan.get_subordinates()"
   ]
  },
  {
   "cell_type": "code",
   "execution_count": 91,
   "id": "b10ddf36",
   "metadata": {},
   "outputs": [],
   "source": [
    "muskan.add_subordinate(ajay)"
   ]
  },
  {
   "cell_type": "code",
   "execution_count": 92,
   "id": "e1b0987c",
   "metadata": {},
   "outputs": [
    {
     "name": "stdout",
     "output_type": "stream",
     "text": [
      "Manager : Muskan Sharma\n",
      "Ansari  700000\n",
      "Ajay Kushwaha 75000\n"
     ]
    }
   ],
   "source": [
    "muskan.get_subordinates()"
   ]
  },
  {
   "cell_type": "code",
   "execution_count": 93,
   "id": "afd24ada",
   "metadata": {},
   "outputs": [
    {
     "data": {
      "text/plain": [
       "'rahul.thakur@edyoda.com'"
      ]
     },
     "execution_count": 93,
     "metadata": {},
     "output_type": "execute_result"
    }
   ],
   "source": [
    "\"{}.{}@edyoda.com\".format(\"rahul\",\"thakur\")"
   ]
  },
  {
   "cell_type": "code",
   "execution_count": 82,
   "id": "fd655805",
   "metadata": {},
   "outputs": [],
   "source": [
    "class Employee:\n",
    "    \n",
    "    raise_percentage = 0.10\n",
    "    \n",
    "    def __init__(self,fname,lname,current_fixed):\n",
    "        self.fname = fname\n",
    "        self.lname = lname\n",
    "        self.current_fixed = current_fixed\n",
    "        self.create_work_email()\n",
    "    \n",
    "    def create_work_email(self):\n",
    "        self.work_mail = \"{}.{}@edyoda.com\".format(self.fname,self.lname)\n",
    "    \n",
    "    def list_details(self):\n",
    "        print(\"{} {} {}\".format(self.fname,self.lname,self.current_fixed))\n",
    "\n",
    "    \n",
    "    def increase_salary(self):\n",
    "        self.current_fixed = self.current_fixed + self.current_fixed*Employee.raise_percentage\n",
    "    "
   ]
  },
  {
   "cell_type": "code",
   "execution_count": 145,
   "id": "544b53ea",
   "metadata": {},
   "outputs": [],
   "source": [
    "class Developer(Employee):\n",
    "    raise_percentage = 0.20\n",
    "\n",
    "    \n",
    "    \n",
    "    def __init__(self,fname,lname,fixed_ctc,lang):\n",
    "        Employee.__init__(self,fname,lname,fixed_ctc)\n",
    "        self.lang=lang\n",
    "        \n",
    "    def list_details(self):\n",
    "        print(\"{} {} {} {}\".format(self.fname,self.lname,self.current_fixed,self.lang))\n",
    "    \n",
    "    def increase_salary(self):\n",
    "        self.current_fixed = self.current_fixed + self.current_fixed*Developer.raise_percentage\n",
    "    \n",
    "    @classmethod\n",
    "    def change_raise(cls,new_raise):\n",
    "        cls.raise_percentage = new_raise\n"
   ]
  },
  {
   "cell_type": "code",
   "execution_count": 146,
   "id": "e1d325e1",
   "metadata": {},
   "outputs": [],
   "source": [
    "ansari = Developer(\"Ansari\",\"\",700000,\"Python\")\n",
    "ajay = Developer(\"Ajay\",\"Kushwaha\",75000,\"Java\")"
   ]
  },
  {
   "cell_type": "code",
   "execution_count": 147,
   "id": "7422c3bc",
   "metadata": {},
   "outputs": [
    {
     "name": "stdout",
     "output_type": "stream",
     "text": [
      "Ansari  700000 Python\n"
     ]
    }
   ],
   "source": [
    "ansari.list_details()"
   ]
  },
  {
   "cell_type": "code",
   "execution_count": 148,
   "id": "53c4622e",
   "metadata": {},
   "outputs": [
    {
     "name": "stdout",
     "output_type": "stream",
     "text": [
      "Ajay Kushwaha 75000 Java\n"
     ]
    }
   ],
   "source": [
    "ajay.list_details()"
   ]
  },
  {
   "cell_type": "code",
   "execution_count": 123,
   "id": "8d8df855",
   "metadata": {},
   "outputs": [],
   "source": [
    "ansari.increase_salary()"
   ]
  },
  {
   "cell_type": "code",
   "execution_count": 118,
   "id": "0ac735f4",
   "metadata": {},
   "outputs": [
    {
     "name": "stdout",
     "output_type": "stream",
     "text": [
      "Ansari  840000.0 Python\n"
     ]
    }
   ],
   "source": [
    "ansari.list_details()"
   ]
  },
  {
   "cell_type": "code",
   "execution_count": 151,
   "id": "67f99f4b",
   "metadata": {},
   "outputs": [],
   "source": [
    "ansari.change_raise(0.9)"
   ]
  },
  {
   "cell_type": "code",
   "execution_count": 129,
   "id": "0ac71134",
   "metadata": {},
   "outputs": [],
   "source": [
    "ansari.increase_salary()"
   ]
  },
  {
   "cell_type": "code",
   "execution_count": 130,
   "id": "6f5e500a",
   "metadata": {},
   "outputs": [
    {
     "name": "stdout",
     "output_type": "stream",
     "text": [
      "Ansari  840000.0 Python\n"
     ]
    }
   ],
   "source": [
    "ansari.list_details()"
   ]
  },
  {
   "cell_type": "code",
   "execution_count": 152,
   "id": "590ce152",
   "metadata": {},
   "outputs": [
    {
     "data": {
      "text/plain": [
       "0.9"
      ]
     },
     "execution_count": 152,
     "metadata": {},
     "output_type": "execute_result"
    }
   ],
   "source": [
    "ansari.raise_percentage"
   ]
  },
  {
   "cell_type": "code",
   "execution_count": 153,
   "id": "3c6120e3",
   "metadata": {},
   "outputs": [
    {
     "data": {
      "text/plain": [
       "0.9"
      ]
     },
     "execution_count": 153,
     "metadata": {},
     "output_type": "execute_result"
    }
   ],
   "source": [
    "Developer.raise_percentage"
   ]
  },
  {
   "cell_type": "code",
   "execution_count": 134,
   "id": "8c751f7d",
   "metadata": {},
   "outputs": [
    {
     "name": "stdout",
     "output_type": "stream",
     "text": [
      "['__class__', '__delattr__', '__dict__', '__dir__', '__doc__', '__eq__', '__format__', '__ge__', '__getattribute__', '__gt__', '__hash__', '__init__', '__init_subclass__', '__le__', '__lt__', '__module__', '__ne__', '__new__', '__reduce__', '__reduce_ex__', '__repr__', '__setattr__', '__sizeof__', '__str__', '__subclasshook__', '__weakref__', 'change_raise', 'create_work_email', 'current_fixed', 'fname', 'increase_salary', 'lang', 'list_details', 'lname', 'raise_percentage', 'work_mail']\n"
     ]
    }
   ],
   "source": [
    "print(dir(ansari))"
   ]
  },
  {
   "cell_type": "code",
   "execution_count": 135,
   "id": "5c8fbb97",
   "metadata": {},
   "outputs": [
    {
     "name": "stdout",
     "output_type": "stream",
     "text": [
      "['__class__', '__delattr__', '__dict__', '__dir__', '__doc__', '__eq__', '__format__', '__ge__', '__getattribute__', '__gt__', '__hash__', '__init__', '__init_subclass__', '__le__', '__lt__', '__module__', '__ne__', '__new__', '__reduce__', '__reduce_ex__', '__repr__', '__setattr__', '__sizeof__', '__str__', '__subclasshook__', '__weakref__', 'change_raise', 'create_work_email', 'current_fixed', 'fname', 'increase_salary', 'lang', 'list_details', 'lname', 'raise_percentage', 'work_mail']\n"
     ]
    }
   ],
   "source": [
    "print(dir(ajay))"
   ]
  },
  {
   "cell_type": "code",
   "execution_count": 154,
   "id": "155b2df0",
   "metadata": {},
   "outputs": [
    {
     "data": {
      "text/plain": [
       "0.9"
      ]
     },
     "execution_count": 154,
     "metadata": {},
     "output_type": "execute_result"
    }
   ],
   "source": [
    "ajay.raise_percentage"
   ]
  },
  {
   "cell_type": "code",
   "execution_count": 1,
   "id": "9bbe4dc2",
   "metadata": {},
   "outputs": [],
   "source": [
    "class Person:\n",
    "    def __init__(self,fname,lname,age):\n",
    "        self.fname = fname\n",
    "        self.lname = lname\n",
    "        self.age = age\n",
    "    "
   ]
  },
  {
   "cell_type": "code",
   "execution_count": 5,
   "id": "645fec3a",
   "metadata": {},
   "outputs": [],
   "source": [
    "class Parent(Person):\n",
    "    \n",
    "    \n",
    "    def __init__(self,fname,lname,age,sons=[],daughters=[]):\n",
    "        Person.__init__(self,fname,lname,age)\n",
    "        self.sons=sons\n",
    "        self.daughters = daughters\n",
    "\n",
    "    def add_son(self,son):\n",
    "        self.sons.append(son)\n",
    "    \n",
    "    def add_daughter(self,daughter):\n",
    "        self.daughters.append(daughter)"
   ]
  },
  {
   "cell_type": "code",
   "execution_count": 6,
   "id": "c3891758",
   "metadata": {},
   "outputs": [],
   "source": [
    "class Father(Parent):\n",
    "    \n",
    "    def __init__(self,fname,lname,age,wife,sons=[],daughters=[]):\n",
    "        Parent.__init__(self,fname,lname,age,sons,daughters)\n",
    "        self.wife = wife        \n",
    "    \n",
    "    def get_details(self):\n",
    "        print(\"{} {} {} {}\".format(self.fname,self.lname,self.age,self.wife))"
   ]
  },
  {
   "cell_type": "code",
   "execution_count": 7,
   "id": "c695b504",
   "metadata": {},
   "outputs": [],
   "source": [
    "class Mother(Parent):\n",
    "    def __init__(self,fname,lname,age,husband,sons=[],daughters=[]):\n",
    "        Parent.__init__(self,fname,lname,age,sons,daughters)\n",
    "        self.husband = husband\n",
    "    \n",
    "    def get_details(self):\n",
    "        print(\"{} {} {} {}\".format(self.fname,self.lname,self.age,self.husband))\n",
    "    "
   ]
  },
  {
   "cell_type": "code",
   "execution_count": 8,
   "id": "2e3069ec",
   "metadata": {},
   "outputs": [],
   "source": [
    "class Son(Father,Mother):\n",
    "    def __init__(self,fname,lname,age,wife,occupation,sons=[],daughters=[]):\n",
    "        Father.__init__(self,fname,lname,age,wife,sons,daughters)\n",
    "        self.occupation = occupation\n",
    "    \n",
    "    def get_details(self):\n",
    "        print(\"{} {} {} {} {}\".format(self.fname,self.lname,self.age,self.wife,self.occupation))"
   ]
  },
  {
   "cell_type": "code",
   "execution_count": null,
   "id": "348c494f",
   "metadata": {},
   "outputs": [],
   "source": []
  },
  {
   "cell_type": "code",
   "execution_count": 9,
   "id": "9b42d9a1",
   "metadata": {},
   "outputs": [],
   "source": [
    "class Wife(Mother):\n",
    "    def __init__(self,fname,lname,age,husband,occupation,sons=[],daughters=[]):\n",
    "        Mother.__init__(fname,lname,age,husband,sons,daughters)\n",
    "\\        self.occupation = occupation\n",
    "        \n",
    "    def get_details(self):\n",
    "        print(\"{} {} {} {} {}\".format(self.fname,self.lname,self.age,self.husband,self.occupation))"
   ]
  },
  {
   "cell_type": "code",
   "execution_count": null,
   "id": "934d5e5e",
   "metadata": {},
   "outputs": [],
   "source": [
    "class Daughter(Son,Wife):\n",
    "    def __init__(self,fname,lname,age,education,husband=\"\",occupation=\"\"):\n",
    "        Wife.__init__(self,fname,lname,age,husband,occupation)\n",
    "        self.education = education\n",
    "    \n",
    "    def get_details(self):\n",
    "        print(\"{} {} {} {} \".format(self.fname,self.lname,self.age,self.education))\n",
    "        "
   ]
  },
  {
   "cell_type": "code",
   "execution_count": 17,
   "id": "89a8846a",
   "metadata": {},
   "outputs": [],
   "source": [
    "def functions(a,b=1,c=2):\n",
    "    x = a\n",
    "    y = b\n",
    "    z = c\n",
    "    return x,y,z"
   ]
  },
  {
   "cell_type": "code",
   "execution_count": 19,
   "id": "552f9026",
   "metadata": {},
   "outputs": [
    {
     "data": {
      "text/plain": [
       "(1, 1, 2)"
      ]
     },
     "execution_count": 19,
     "metadata": {},
     "output_type": "execute_result"
    }
   ],
   "source": [
    "functions(1)"
   ]
  },
  {
   "cell_type": "code",
   "execution_count": null,
   "id": "abf6c115",
   "metadata": {},
   "outputs": [],
   "source": []
  }
 ],
 "metadata": {
  "kernelspec": {
   "display_name": "Python 3 (ipykernel)",
   "language": "python",
   "name": "python3"
  },
  "language_info": {
   "codemirror_mode": {
    "name": "ipython",
    "version": 3
   },
   "file_extension": ".py",
   "mimetype": "text/x-python",
   "name": "python",
   "nbconvert_exporter": "python",
   "pygments_lexer": "ipython3",
   "version": "3.10.6"
  }
 },
 "nbformat": 4,
 "nbformat_minor": 5
}
